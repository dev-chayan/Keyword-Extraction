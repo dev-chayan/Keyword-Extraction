{
  "nbformat": 4,
  "nbformat_minor": 0,
  "metadata": {
    "colab": {
      "name": "aspect_lda.ipynb",
      "provenance": []
    },
    "kernelspec": {
      "name": "python3",
      "display_name": "Python 3"
    },
    "accelerator": "GPU"
  },
  "cells": [
    {
      "cell_type": "code",
      "metadata": {
        "id": "5aBT9MTFSAZr"
      },
      "source": [
        "import pandas as pd"
      ],
      "execution_count": null,
      "outputs": []
    },
    {
      "cell_type": "code",
      "metadata": {
        "id": "yuh_859BoEaX"
      },
      "source": [
        "data = pd.read_csv(\"/content/drive/My Drive/amazon_senti_data.csv\",encoding = 'latin1')"
      ],
      "execution_count": null,
      "outputs": []
    },
    {
      "cell_type": "code",
      "metadata": {
        "id": "JTl7Sv8jdrGM",
        "colab": {
          "base_uri": "https://localhost:8080/",
          "height": 34
        },
        "outputId": "352df32b-c55c-42e9-f35b-73fbd1b4df4f"
      },
      "source": [
        "data.columns"
      ],
      "execution_count": null,
      "outputs": [
        {
          "output_type": "execute_result",
          "data": {
            "text/plain": [
              "Index(['text', 'sentiment'], dtype='object')"
            ]
          },
          "metadata": {
            "tags": []
          },
          "execution_count": 90
        }
      ]
    },
    {
      "cell_type": "code",
      "metadata": {
        "id": "gMxAvPXTMiC9",
        "colab": {
          "base_uri": "https://localhost:8080/",
          "height": 52
        },
        "outputId": "36e3881c-8a98-4967-b00f-3840ecf07713"
      },
      "source": [
        "#preprocessing\n",
        "#taking only english comments\n",
        "!pip install langdetect"
      ],
      "execution_count": null,
      "outputs": [
        {
          "output_type": "stream",
          "text": [
            "Requirement already satisfied: langdetect in /usr/local/lib/python3.6/dist-packages (1.0.8)\n",
            "Requirement already satisfied: six in /usr/local/lib/python3.6/dist-packages (from langdetect) (1.12.0)\n"
          ],
          "name": "stdout"
        }
      ]
    },
    {
      "cell_type": "code",
      "metadata": {
        "id": "NoTqRIEjMvbI"
      },
      "source": [
        "from langdetect import detect"
      ],
      "execution_count": null,
      "outputs": []
    },
    {
      "cell_type": "code",
      "metadata": {
        "id": "JKf_n3HYo-hY"
      },
      "source": [
        "data[\"text\"] = data[\"text\"].astype(str)"
      ],
      "execution_count": null,
      "outputs": []
    },
    {
      "cell_type": "code",
      "metadata": {
        "id": "IkJiEddjN-Ut",
        "colab": {
          "base_uri": "https://localhost:8080/",
          "height": 212
        },
        "outputId": "4bd7033a-a84b-4391-d46e-2ecfb643b012"
      },
      "source": [
        "data[\"text\"][:10]"
      ],
      "execution_count": null,
      "outputs": [
        {
          "output_type": "execute_result",
          "data": {
            "text/plain": [
              "0    Stuning even for the non-gamer: This sound tra...\n",
              "1    The best soundtrack ever to anything.: I'm rea...\n",
              "2    Amazing!: This soundtrack is my favorite music...\n",
              "3    Excellent Soundtrack: I truly like this soundt...\n",
              "4    Remember, Pull Your Jaw Off The Floor After He...\n",
              "5    an absolute masterpiece: I am quite sure any o...\n",
              "6    Buyer beware: This is a self-published book, a...\n",
              "7    Glorious story: I loved Whisper of the wicked ...\n",
              "8    A FIVE STAR BOOK: I just finished reading Whis...\n",
              "9    Whispers of the Wicked Saints: This was a easy...\n",
              "Name: text, dtype: object"
            ]
          },
          "metadata": {
            "tags": []
          },
          "execution_count": 85
        }
      ]
    },
    {
      "cell_type": "code",
      "metadata": {
        "id": "oj-GOfQVoW-n"
      },
      "source": [
        "doc_com = list(data[\"text\"])[:30000]"
      ],
      "execution_count": null,
      "outputs": []
    },
    {
      "cell_type": "code",
      "metadata": {
        "id": "hDMruonboj1P",
        "colab": {
          "base_uri": "https://localhost:8080/",
          "height": 34
        },
        "outputId": "48b2c2a7-6e9e-4a5f-ee14-71db12f17d10"
      },
      "source": [
        "len(doc_com)"
      ],
      "execution_count": null,
      "outputs": [
        {
          "output_type": "execute_result",
          "data": {
            "text/plain": [
              "30000"
            ]
          },
          "metadata": {
            "tags": []
          },
          "execution_count": 93
        }
      ]
    },
    {
      "cell_type": "code",
      "metadata": {
        "id": "VS6PpbfnnrlX",
        "colab": {
          "base_uri": "https://localhost:8080/",
          "height": 87
        },
        "outputId": "66198c8c-3dfd-425a-bf8f-27434fe81b91"
      },
      "source": [
        "import nltk\n",
        "nltk.download('wordnet')\n",
        "from nltk.corpus import stopwords\n",
        "nltk.download('stopwords')\n",
        "from nltk.stem.wordnet import WordNetLemmatizer\n",
        "import string\n"
      ],
      "execution_count": null,
      "outputs": [
        {
          "output_type": "stream",
          "text": [
            "[nltk_data] Downloading package wordnet to /root/nltk_data...\n",
            "[nltk_data]   Package wordnet is already up-to-date!\n",
            "[nltk_data] Downloading package stopwords to /root/nltk_data...\n",
            "[nltk_data]   Package stopwords is already up-to-date!\n"
          ],
          "name": "stdout"
        }
      ]
    },
    {
      "cell_type": "code",
      "metadata": {
        "id": "eCG-6pGcEBpm"
      },
      "source": [
        "import spacy\n",
        "nlp = spacy.load(\"en_core_web_sm\")\n",
        "doc_complete0 = []\n",
        "for sentence in doc_com:\n",
        "  doc = nlp(sentence)\n",
        "  selected_words = \" \".join(token.text for token in doc if token.tag_ in ['NN',\"NNS\",\"NNP\",'NNPS'])\n",
        "  doc_complete0.append(selected_words)"
      ],
      "execution_count": null,
      "outputs": []
    },
    {
      "cell_type": "code",
      "metadata": {
        "id": "fbjTHPx5HUaI",
        "colab": {
          "base_uri": "https://localhost:8080/",
          "height": 125
        },
        "outputId": "7e918d7b-15ad-41dd-bbd2-863fbc579e9f"
      },
      "source": [
        "doc_complete0[:5]"
      ],
      "execution_count": null,
      "outputs": [
        {
          "output_type": "execute_result",
          "data": {
            "text/plain": [
              "['track senery mind people vid game music game Chrono Cross games music keyboarding fresher step grate guitars orchestras anyone',\n",
              " 'soundtrack anything lot reviews game soundtrack review bit opinino Yasunori Mitsuda masterpiece music timeless years beauty price tag cd money penny',\n",
              " 'soundtrack music time sadness Prisoners Fate game hope Promise Girl Star inspiration teen years energy tracks Chrono Cross ~ Time Scar~ Time Dreamwatch Chronomantique Chrono Trigger soundtrack music composer work Xenogears soundtrack game price stars',\n",
              " 'Soundtrack soundtrack video game music game music disk favorites Scars Time Life Death Forest Illusion Fortress Ancient Dragons Lost Fragment Drowned Valley Disk Draggons Galdorb Home Chronomantique Prisoners Fate Gale girlfriend ZelbessDisk Garden God Chronopolis Fates sea Orphange Dragon Prayer Tower Stars Dragon God Radical Dreamers Jewel soundtrack video game music Xander Cross',\n",
              " 'Jaw Floor game music song story game songs doubt Chrono Cross Time Scar Magical Dreamers Wind Stars Sea Radical Dreamers Unstolen Jewel Translation music Yasunori Mitsuda heart paper']"
            ]
          },
          "metadata": {
            "tags": []
          },
          "execution_count": 96
        }
      ]
    },
    {
      "cell_type": "code",
      "metadata": {
        "id": "MnMqg3iHSDhV",
        "colab": {
          "base_uri": "https://localhost:8080/",
          "height": 34
        },
        "outputId": "33593437-6bc4-4ca8-a73d-5ab28fa472de"
      },
      "source": [
        "detect(doc_complete0[100]) == \"en\""
      ],
      "execution_count": null,
      "outputs": [
        {
          "output_type": "execute_result",
          "data": {
            "text/plain": [
              "True"
            ]
          },
          "metadata": {
            "tags": []
          },
          "execution_count": 13
        }
      ]
    },
    {
      "cell_type": "code",
      "metadata": {
        "id": "5HBBZsgsP577",
        "colab": {
          "base_uri": "https://localhost:8080/",
          "height": 72
        },
        "outputId": "b6aa775c-8493-4b19-cda8-41af5520cc7d"
      },
      "source": [
        "doc_complete = []\n",
        "for sent in doc_complete0:\n",
        "    try:\n",
        "      if detect(sent) == 'en':\n",
        "        doc_complete.append(sent) \n",
        "    except:\n",
        "        pass\n",
        "print(doc_complete[:5])\n",
        "print(len(doc_complete))"
      ],
      "execution_count": null,
      "outputs": [
        {
          "output_type": "stream",
          "text": [
            "['track senery mind people vid game music game Chrono Cross games music keyboarding fresher step grate guitars orchestras anyone', 'soundtrack anything lot reviews game soundtrack review bit opinino Yasunori Mitsuda masterpiece music timeless years beauty price tag cd money penny', 'soundtrack music time sadness Prisoners Fate game hope Promise Girl Star inspiration teen years energy tracks Chrono Cross ~ Time Scar~ Time Dreamwatch Chronomantique Chrono Trigger soundtrack music composer work Xenogears soundtrack game price stars', 'Soundtrack soundtrack video game music game music disk favorites Scars Time Life Death Forest Illusion Fortress Ancient Dragons Lost Fragment Drowned Valley Disk Draggons Galdorb Home Chronomantique Prisoners Fate Gale girlfriend ZelbessDisk Garden God Chronopolis Fates sea Orphange Dragon Prayer Tower Stars Dragon God Radical Dreamers Jewel soundtrack video game music Xander Cross', 'Jaw Floor game music song story game songs doubt Chrono Cross Time Scar Magical Dreamers Wind Stars Sea Radical Dreamers Unstolen Jewel Translation music Yasunori Mitsuda heart paper']\n",
            "27905\n"
          ],
          "name": "stdout"
        }
      ]
    },
    {
      "cell_type": "code",
      "metadata": {
        "id": "_qunFMkcRbD3",
        "colab": {
          "base_uri": "https://localhost:8080/",
          "height": 125
        },
        "outputId": "a2e9d744-c185-4e27-8d44-727f44380d11"
      },
      "source": [
        "doc_complete[:5]"
      ],
      "execution_count": null,
      "outputs": [
        {
          "output_type": "execute_result",
          "data": {
            "text/plain": [
              "['track senery mind people vid game music game Chrono Cross games music keyboarding fresher step grate guitars orchestras anyone',\n",
              " 'soundtrack anything lot reviews game soundtrack review bit opinino Yasunori Mitsuda masterpiece music timeless years beauty price tag cd money penny',\n",
              " 'soundtrack music time sadness Prisoners Fate game hope Promise Girl Star inspiration teen years energy tracks Chrono Cross ~ Time Scar~ Time Dreamwatch Chronomantique Chrono Trigger soundtrack music composer work Xenogears soundtrack game price stars',\n",
              " 'Soundtrack soundtrack video game music game music disk favorites Scars Time Life Death Forest Illusion Fortress Ancient Dragons Lost Fragment Drowned Valley Disk Draggons Galdorb Home Chronomantique Prisoners Fate Gale girlfriend ZelbessDisk Garden God Chronopolis Fates sea Orphange Dragon Prayer Tower Stars Dragon God Radical Dreamers Jewel soundtrack video game music Xander Cross',\n",
              " 'Jaw Floor game music song story game songs doubt Chrono Cross Time Scar Magical Dreamers Wind Stars Sea Radical Dreamers Unstolen Jewel Translation music Yasunori Mitsuda heart paper']"
            ]
          },
          "metadata": {
            "tags": []
          },
          "execution_count": 98
        }
      ]
    },
    {
      "cell_type": "code",
      "metadata": {
        "id": "YElitTWCEAqZ"
      },
      "source": [
        "stop = set(stopwords.words('english'))\n",
        "exclude = set(string.punctuation)\n",
        "lemma = WordNetLemmatizer()\n",
        "def clean(doc):\n",
        "  stop_free = \" \".join([i for i in doc.lower().split() if i not in stop and i != \"hotel\"])\n",
        "  punc_free = ''.join(ch for ch in stop_free if ch not in exclude)\n",
        "  normalized = \" \".join(lemma.lemmatize(word) for word in punc_free.split())\n",
        "  return normalized\n",
        "\n",
        "doc_clean = [clean(doc).split() for doc in doc_complete] "
      ],
      "execution_count": null,
      "outputs": []
    },
    {
      "cell_type": "code",
      "metadata": {
        "id": "hVEl4zig7RWI",
        "colab": {
          "base_uri": "https://localhost:8080/",
          "height": 34
        },
        "outputId": "129e8aa2-c467-4d86-ef88-cceeec8f75ee"
      },
      "source": [
        "type(doc_clean)"
      ],
      "execution_count": null,
      "outputs": [
        {
          "output_type": "execute_result",
          "data": {
            "text/plain": [
              "list"
            ]
          },
          "metadata": {
            "tags": []
          },
          "execution_count": 100
        }
      ]
    },
    {
      "cell_type": "code",
      "metadata": {
        "id": "hhkKjXWZ7WmT",
        "colab": {
          "base_uri": "https://localhost:8080/",
          "height": 727
        },
        "outputId": "6bb90f2b-a020-44f4-d083-fe4c6f5ab675"
      },
      "source": [
        "doc_clean[:2]"
      ],
      "execution_count": null,
      "outputs": [
        {
          "output_type": "execute_result",
          "data": {
            "text/plain": [
              "[['track',\n",
              "  'senery',\n",
              "  'mind',\n",
              "  'people',\n",
              "  'vid',\n",
              "  'game',\n",
              "  'music',\n",
              "  'game',\n",
              "  'chrono',\n",
              "  'cross',\n",
              "  'game',\n",
              "  'music',\n",
              "  'keyboarding',\n",
              "  'fresher',\n",
              "  'step',\n",
              "  'grate',\n",
              "  'guitar',\n",
              "  'orchestra',\n",
              "  'anyone'],\n",
              " ['soundtrack',\n",
              "  'anything',\n",
              "  'lot',\n",
              "  'review',\n",
              "  'game',\n",
              "  'soundtrack',\n",
              "  'review',\n",
              "  'bit',\n",
              "  'opinino',\n",
              "  'yasunori',\n",
              "  'mitsuda',\n",
              "  'masterpiece',\n",
              "  'music',\n",
              "  'timeless',\n",
              "  'year',\n",
              "  'beauty',\n",
              "  'price',\n",
              "  'tag',\n",
              "  'cd',\n",
              "  'money',\n",
              "  'penny']]"
            ]
          },
          "metadata": {
            "tags": []
          },
          "execution_count": 101
        }
      ]
    },
    {
      "cell_type": "code",
      "metadata": {
        "id": "d39NHhwGry7B",
        "colab": {
          "base_uri": "https://localhost:8080/",
          "height": 125
        },
        "outputId": "15297757-ae7a-4551-e4f8-a6a1dcaed175"
      },
      "source": [
        "print(*doc_clean[:5],sep =\"\\n\")"
      ],
      "execution_count": null,
      "outputs": [
        {
          "output_type": "stream",
          "text": [
            "['track', 'senery', 'mind', 'people', 'vid', 'game', 'music', 'game', 'chrono', 'cross', 'game', 'music', 'keyboarding', 'fresher', 'step', 'grate', 'guitar', 'orchestra', 'anyone']\n",
            "['soundtrack', 'anything', 'lot', 'review', 'game', 'soundtrack', 'review', 'bit', 'opinino', 'yasunori', 'mitsuda', 'masterpiece', 'music', 'timeless', 'year', 'beauty', 'price', 'tag', 'cd', 'money', 'penny']\n",
            "['soundtrack', 'music', 'time', 'sadness', 'prisoner', 'fate', 'game', 'hope', 'promise', 'girl', 'star', 'inspiration', 'teen', 'year', 'energy', 'track', 'chrono', 'cross', 'time', 'scar', 'time', 'dreamwatch', 'chronomantique', 'chrono', 'trigger', 'soundtrack', 'music', 'composer', 'work', 'xenogears', 'soundtrack', 'game', 'price', 'star']\n",
            "['soundtrack', 'soundtrack', 'video', 'game', 'music', 'game', 'music', 'disk', 'favorite', 'scar', 'time', 'life', 'death', 'forest', 'illusion', 'fortress', 'ancient', 'dragon', 'lost', 'fragment', 'drowned', 'valley', 'disk', 'draggons', 'galdorb', 'home', 'chronomantique', 'prisoner', 'fate', 'gale', 'girlfriend', 'zelbessdisk', 'garden', 'god', 'chronopolis', 'fate', 'sea', 'orphange', 'dragon', 'prayer', 'tower', 'star', 'dragon', 'god', 'radical', 'dreamer', 'jewel', 'soundtrack', 'video', 'game', 'music', 'xander', 'cross']\n",
            "['jaw', 'floor', 'game', 'music', 'song', 'story', 'game', 'song', 'doubt', 'chrono', 'cross', 'time', 'scar', 'magical', 'dreamer', 'wind', 'star', 'sea', 'radical', 'dreamer', 'unstolen', 'jewel', 'translation', 'music', 'yasunori', 'mitsuda', 'heart', 'paper']\n"
          ],
          "name": "stdout"
        }
      ]
    },
    {
      "cell_type": "code",
      "metadata": {
        "id": "1dtVaFMcsF0L",
        "colab": {
          "base_uri": "https://localhost:8080/",
          "height": 34
        },
        "outputId": "a2dc6d10-37c3-4d4f-c36d-b42380b50e41"
      },
      "source": [
        "all_words = [y for x in doc_clean for y in x]\n",
        "print(len(all_words))"
      ],
      "execution_count": null,
      "outputs": [
        {
          "output_type": "stream",
          "text": [
            "560061\n"
          ],
          "name": "stdout"
        }
      ]
    },
    {
      "cell_type": "code",
      "metadata": {
        "id": "qQSbR2Zzup89"
      },
      "source": [
        "#frequency calculator\n",
        "dict_freq = {}\n",
        "for word in all_words:\n",
        "  if word in dict_freq.keys():\n",
        "    dict_freq[word] += 1\n",
        "  else:\n",
        "    dict_freq[word] = 1"
      ],
      "execution_count": null,
      "outputs": []
    },
    {
      "cell_type": "code",
      "metadata": {
        "id": "sM8igzsHvMsB",
        "colab": {
          "base_uri": "https://localhost:8080/",
          "height": 1000
        },
        "outputId": "4683acb2-3f21-47fa-f873-99a12cb6a53e"
      },
      "source": [
        "dict_freq"
      ],
      "execution_count": null,
      "outputs": [
        {
          "output_type": "execute_result",
          "data": {
            "text/plain": [
              "{'track': 984,\n",
              " 'senery': 2,\n",
              " 'mind': 662,\n",
              " 'people': 2728,\n",
              " 'vid': 4,\n",
              " 'game': 1581,\n",
              " 'music': 2657,\n",
              " 'chrono': 5,\n",
              " 'cross': 71,\n",
              " 'keyboarding': 1,\n",
              " 'fresher': 4,\n",
              " 'step': 212,\n",
              " 'grate': 3,\n",
              " 'guitar': 244,\n",
              " 'orchestra': 32,\n",
              " 'anyone': 1558,\n",
              " 'soundtrack': 229,\n",
              " 'anything': 1031,\n",
              " 'lot': 1959,\n",
              " 'review': 2105,\n",
              " 'bit': 1125,\n",
              " 'opinino': 1,\n",
              " 'yasunori': 2,\n",
              " 'mitsuda': 6,\n",
              " 'masterpiece': 270,\n",
              " 'timeless': 90,\n",
              " 'year': 3463,\n",
              " 'beauty': 182,\n",
              " 'price': 1298,\n",
              " 'tag': 42,\n",
              " 'cd': 3875,\n",
              " 'money': 2340,\n",
              " 'penny': 58,\n",
              " 'time': 7350,\n",
              " 'sadness': 22,\n",
              " 'prisoner': 30,\n",
              " 'fate': 54,\n",
              " 'hope': 254,\n",
              " 'promise': 46,\n",
              " 'girl': 750,\n",
              " 'star': 2010,\n",
              " 'inspiration': 64,\n",
              " 'teen': 173,\n",
              " 'energy': 129,\n",
              " 'scar': 17,\n",
              " 'dreamwatch': 1,\n",
              " 'chronomantique': 2,\n",
              " 'trigger': 15,\n",
              " 'composer': 31,\n",
              " 'work': 1772,\n",
              " 'xenogears': 3,\n",
              " 'video': 1162,\n",
              " 'disk': 131,\n",
              " 'favorite': 307,\n",
              " 'life': 2436,\n",
              " 'death': 352,\n",
              " 'forest': 50,\n",
              " 'illusion': 16,\n",
              " 'fortress': 1,\n",
              " 'ancient': 17,\n",
              " 'dragon': 37,\n",
              " 'lost': 11,\n",
              " 'fragment': 12,\n",
              " 'drowned': 1,\n",
              " 'valley': 24,\n",
              " 'draggons': 1,\n",
              " 'galdorb': 1,\n",
              " 'home': 542,\n",
              " 'gale': 2,\n",
              " 'girlfriend': 80,\n",
              " 'zelbessdisk': 1,\n",
              " 'garden': 62,\n",
              " 'god': 620,\n",
              " 'chronopolis': 1,\n",
              " 'sea': 137,\n",
              " 'orphange': 1,\n",
              " 'prayer': 37,\n",
              " 'tower': 53,\n",
              " 'radical': 8,\n",
              " 'dreamer': 7,\n",
              " 'jewel': 29,\n",
              " 'xander': 13,\n",
              " 'jaw': 25,\n",
              " 'floor': 139,\n",
              " 'song': 3382,\n",
              " 'story': 4800,\n",
              " 'doubt': 146,\n",
              " 'magical': 5,\n",
              " 'wind': 67,\n",
              " 'unstolen': 1,\n",
              " 'translation': 199,\n",
              " 'heart': 564,\n",
              " 'paper': 509,\n",
              " 'mood': 119,\n",
              " 'minute': 927,\n",
              " 'count': 106,\n",
              " 'rendering': 12,\n",
              " 'one': 3634,\n",
              " 'everything': 955,\n",
              " 'listener': 66,\n",
              " 'tokage': 1,\n",
              " 'termina': 1,\n",
              " 'haunting': 96,\n",
              " 'vocal': 218,\n",
              " 'dreamersthis': 1,\n",
              " 'videogame': 3,\n",
              " 'buyer': 142,\n",
              " 'self': 442,\n",
              " 'book': 20625,\n",
              " 'paragraph': 76,\n",
              " 'm': 230,\n",
              " 'haddon': 3,\n",
              " 'family': 995,\n",
              " 'friend': 1071,\n",
              " 'thing': 3013,\n",
              " 'evening': 50,\n",
              " 'hysteric': 3,\n",
              " 'piece': 943,\n",
              " 'kind': 548,\n",
              " 'contest': 16,\n",
              " 'amazon': 1301,\n",
              " 'grade': 243,\n",
              " 'term': 220,\n",
              " 'mockingbirda': 1,\n",
              " 'someone': 838,\n",
              " 'joke': 275,\n",
              " 'whisper': 13,\n",
              " 'saint': 54,\n",
              " 'change': 281,\n",
              " 'normaly': 2,\n",
              " 'romance': 348,\n",
              " 'novel': 1563,\n",
              " 'world': 1411,\n",
              " 'crime': 150,\n",
              " 'becuase': 20,\n",
              " 'warming': 32,\n",
              " 'love': 1310,\n",
              " 'caracters': 2,\n",
              " 'read': 945,\n",
              " 'outcome': 38,\n",
              " 'writting': 8,\n",
              " 'julia': 56,\n",
              " 'reader': 1054,\n",
              " 'lover': 219,\n",
              " 'cover': 577,\n",
              " 'fool': 67,\n",
              " 'follow': 48,\n",
              " 'waste': 753,\n",
              " 'error': 269,\n",
              " 'grammar': 53,\n",
              " 'plot': 1446,\n",
              " 'nothing': 1552,\n",
              " 'author': 1717,\n",
              " 'twist': 231,\n",
              " 'throu': 1,\n",
              " 'emotion': 223,\n",
              " 'something': 1764,\n",
              " 'day': 2189,\n",
              " 'night': 805,\n",
              " 'fact': 1189,\n",
              " 'writer': 566,\n",
              " 'side': 649,\n",
              " 'glass': 156,\n",
              " 'castle': 64,\n",
              " 'others': 794,\n",
              " 'drivel': 58,\n",
              " 'trouble': 240,\n",
              " 'typo': 71,\n",
              " 'page': 1415,\n",
              " 'point': 1009,\n",
              " 'beginning': 322,\n",
              " 'churning': 1,\n",
              " 'prose': 115,\n",
              " 'purpose': 170,\n",
              " 'belief': 127,\n",
              " 'grader': 48,\n",
              " 'skill': 160,\n",
              " 'age': 631,\n",
              " 'reviewer': 473,\n",
              " 'misspelling': 9,\n",
              " 'chapter': 598,\n",
              " 'example': 540,\n",
              " 'house': 527,\n",
              " 'writing': 802,\n",
              " 'pencil': 23,\n",
              " 'hand': 623,\n",
              " 'spelling': 31,\n",
              " 'relative': 44,\n",
              " 'faith': 217,\n",
              " 'person': 687,\n",
              " 'sentence': 171,\n",
              " 'structure': 93,\n",
              " 'veronica': 1,\n",
              " 'zen': 42,\n",
              " 'baseball': 50,\n",
              " 'comedy': 446,\n",
              " 'folk': 183,\n",
              " 'idenity': 4,\n",
              " 'resort': 13,\n",
              " 'kitchen': 84,\n",
              " 'gig': 12,\n",
              " 'motorcycle': 21,\n",
              " 'maintenance': 14,\n",
              " 'man': 1291,\n",
              " 'chef': 17,\n",
              " 'latino': 10,\n",
              " 'fireballing': 1,\n",
              " 'pitcher': 33,\n",
              " 'team': 137,\n",
              " 'owner': 78,\n",
              " 'case': 750,\n",
              " 'interaction': 57,\n",
              " 'roster': 1,\n",
              " 'player': 636,\n",
              " 'mix': 205,\n",
              " 'effect': 646,\n",
              " 'salsa': 10,\n",
              " 'sound': 884,\n",
              " 'flashback': 17,\n",
              " 'fashionable': 3,\n",
              " 'compression': 30,\n",
              " 'stocking': 19,\n",
              " 'dvt': 1,\n",
              " 'doctor': 110,\n",
              " 'ted': 26,\n",
              " 'hose': 48,\n",
              " 'jobst': 7,\n",
              " 'ultrasheer': 4,\n",
              " 'pantyhose': 7,\n",
              " 'blood': 119,\n",
              " 'clot': 1,\n",
              " 'support': 292,\n",
              " 'leg': 148,\n",
              " 'nicenote': 1,\n",
              " 'problem': 1528,\n",
              " 'top': 442,\n",
              " 'thigh': 30,\n",
              " 'adhesive': 7,\n",
              " 'skin': 303,\n",
              " 'garter': 2,\n",
              " 'belt': 60,\n",
              " 'product': 2900,\n",
              " 'workout': 109,\n",
              " 'ridge': 10,\n",
              " 'difficulty': 66,\n",
              " 'help': 254,\n",
              " 'men': 503,\n",
              " 'model': 276,\n",
              " 'type': 573,\n",
              " 'alot': 244,\n",
              " 'job': 848,\n",
              " 'ankle': 27,\n",
              " 'solution': 102,\n",
              " 'stock': 120,\n",
              " 'pair': 219,\n",
              " 'riddance': 1,\n",
              " 'investment': 59,\n",
              " 'cookie': 21,\n",
              " 'header': 3,\n",
              " 'cooky': 11,\n",
              " 'title': 657,\n",
              " 'convenience': 18,\n",
              " 'dough': 9,\n",
              " 'plastic': 262,\n",
              " 'log': 7,\n",
              " 'surprise': 180,\n",
              " 'flexibility': 6,\n",
              " 'ratio': 32,\n",
              " 'ingredient': 66,\n",
              " 'butter': 38,\n",
              " 'chewy': 1,\n",
              " 'chocolate': 41,\n",
              " 'chip': 100,\n",
              " 'addition': 267,\n",
              " 'flavor': 107,\n",
              " 'abysmal': 1,\n",
              " 'digital': 62,\n",
              " 'copy': 687,\n",
              " 'scratch': 66,\n",
              " 'droppings': 3,\n",
              " 'pixelations': 1,\n",
              " 'light': 397,\n",
              " 'image': 258,\n",
              " 'resolution': 49,\n",
              " 'cue': 11,\n",
              " 'packaging': 137,\n",
              " 'street': 179,\n",
              " 'corner': 76,\n",
              " 'bootleg': 66,\n",
              " 'dealer': 37,\n",
              " 'condition': 303,\n",
              " 'film': 3557,\n",
              " 'visuals': 41,\n",
              " 'crystal': 48,\n",
              " 'lighting': 29,\n",
              " 'contrast': 40,\n",
              " 'countryside': 17,\n",
              " 'scene': 1121,\n",
              " 'morning': 207,\n",
              " 'ground': 134,\n",
              " 'mist': 3,\n",
              " 'haze': 5,\n",
              " 'memory': 300,\n",
              " 'event': 307,\n",
              " 'bridge': 63,\n",
              " 'water': 433,\n",
              " 'timbre': 3,\n",
              " 'enunciation': 1,\n",
              " 'captain': 52,\n",
              " 'command': 37,\n",
              " 'award': 109,\n",
              " 'presentation': 102,\n",
              " 'youtube': 25,\n",
              " 'dvd': 2482,\n",
              " 'standard': 145,\n",
              " 'library': 355,\n",
              " 'reel': 5,\n",
              " 'none': 288,\n",
              " 'insight': 303,\n",
              " 'son': 846,\n",
              " 'daughter': 658,\n",
              " 'society': 334,\n",
              " 'view': 399,\n",
              " 'parent': 339,\n",
              " 'culture': 175,\n",
              " 'restraint': 6,\n",
              " 'obedience': 2,\n",
              " 'community': 102,\n",
              " 'peer': 13,\n",
              " 'adulation': 2,\n",
              " 'new': 404,\n",
              " 'young': 64,\n",
              " 'japan': 54,\n",
              " 'blend': 57,\n",
              " 'ando': 1,\n",
              " 'vignette': 13,\n",
              " 'member': 207,\n",
              " 'steven': 42,\n",
              " 'wardell': 1,\n",
              " 'schooling': 2,\n",
              " 'inside': 65,\n",
              " 'aaa': 6,\n",
              " 'charger': 178,\n",
              " 'aa': 21,\n",
              " 'battery': 469,\n",
              " 'button': 190,\n",
              " 'end': 1202,\n",
              " 'mechanism': 43,\n",
              " 'pressure': 94,\n",
              " 'duct': 8,\n",
              " 'tape': 343,\n",
              " 'segment': 38,\n",
              " 'crayon': 7,\n",
              " 'instruction': 262,\n",
              " 'charge': 131,\n",
              " 'hour': 876,\n",
              " 'charging': 10,\n",
              " 'unit': 402,\n",
              " 'purchase': 417,\n",
              " 'kodak': 4,\n",
              " 'nimh': 3,\n",
              " 'dear': 12,\n",
              " 'feminism': 6,\n",
              " 'volume': 256,\n",
              " 'expectation': 187,\n",
              " 'essay': 91,\n",
              " 'veil': 7,\n",
              " 'woman': 1114,\n",
              " 'cape': 19,\n",
              " 'town': 195,\n",
              " 'gee': 7,\n",
              " 'whiz': 3,\n",
              " 'disappointment': 385,\n",
              " 'condemnation': 5,\n",
              " 'gender': 23,\n",
              " 'apartheid': 1,\n",
              " 'im': 94,\n",
              " 'virtue': 25,\n",
              " 'mutilationalyssa': 1,\n",
              " 'a': 47,\n",
              " 'lappen': 1,\n",
              " 'vcr': 50,\n",
              " 'christmas': 506,\n",
              " 'present': 92,\n",
              " 'rest': 610,\n",
              " 'land': 92,\n",
              " 'vhs': 185,\n",
              " 'movie': 10084,\n",
              " 'jvc': 15,\n",
              " 'tv': 620,\n",
              " 'choice': 311,\n",
              " 'set': 787,\n",
              " 'selection': 143,\n",
              " 'option': 206,\n",
              " 'hang': 7,\n",
              " 'comment': 187,\n",
              " 'remote': 25,\n",
              " 'manual': 79,\n",
              " 'timer': 46,\n",
              " 'start': 214,\n",
              " 'complaint': 200,\n",
              " 'disc': 433,\n",
              " 'fan': 1801,\n",
              " 'return': 256,\n",
              " 'section': 305,\n",
              " 'store': 547,\n",
              " 'click': 73,\n",
              " 'receiver': 48,\n",
              " 'transition': 28,\n",
              " 'pause': 24,\n",
              " 'headcleaner': 1,\n",
              " 'message': 334,\n",
              " 'nut': 66,\n",
              " 'television': 106,\n",
              " 'bookshelf': 33,\n",
              " 'audio': 181,\n",
              " 'system': 415,\n",
              " 'car': 451,\n",
              " 'boy': 711,\n",
              " 'room': 346,\n",
              " 'things1no': 1,\n",
              " 'cable': 357,\n",
              " 'box': 768,\n",
              " 'compatability': 6,\n",
              " 'control': 245,\n",
              " 'input': 50,\n",
              " 'programming': 49,\n",
              " 'mono': 8,\n",
              " 'wife': 381,\n",
              " 'difference': 257,\n",
              " 'hollywood': 236,\n",
              " 'debacle': 11,\n",
              " 'script': 329,\n",
              " 'mountain': 116,\n",
              " 'lion': 43,\n",
              " 'trailer': 90,\n",
              " 'jail': 16,\n",
              " 'cell': 48,\n",
              " 'babylon': 12,\n",
              " 'show': 752,\n",
              " 'acting': 577,\n",
              " 'tamzin': 1,\n",
              " 'outhwaite': 1,\n",
              " 'eastenders': 1,\n",
              " 'bbc': 17,\n",
              " 'soap': 62,\n",
              " 'max': 140,\n",
              " 'beesley': 1,\n",
              " 'glitter': 7,\n",
              " 'mariah': 16,\n",
              " 'carey': 15,\n",
              " 'drama': 184,\n",
              " 'series': 1447,\n",
              " 'opera': 61,\n",
              " 'america': 275,\n",
              " 'episode': 296,\n",
              " 'season': 375,\n",
              " 'finale': 31,\n",
              " 'abc': 12,\n",
              " 'reason': 877,\n",
              " 'san': 32,\n",
              " 'francisco': 21,\n",
              " 'luxury': 10,\n",
              " 'england': 114,\n",
              " 'law': 144,\n",
              " 'school': 787,\n",
              " 'hip': 122,\n",
              " 'daddy': 69,\n",
              " 'vibe': 39,\n",
              " 'dismay': 10,\n",
              " 'class': 647,\n",
              " 'jist': 2,\n",
              " 'xylaphone': 1,\n",
              " 'voice': 956,\n",
              " 'party': 215,\n",
              " 'neighborhood': 28,\n",
              " 'beach': 76,\n",
              " 'surfer': 13,\n",
              " 'diego': 5,\n",
              " 'southern': 22,\n",
              " 'california': 60,\n",
              " 'brother': 355,\n",
              " 'b': 278,\n",
              " 'absolutle': 1,\n",
              " 'epitimy': 1,\n",
              " 'surf': 13,\n",
              " 'cha': 4,\n",
              " 'rochelle': 2,\n",
              " 'hell': 213,\n",
              " 'aspect': 191,\n",
              " 'explanation': 174,\n",
              " 'right': 162,\n",
              " 'responsibility': 34,\n",
              " 'response': 118,\n",
              " 'indictment': 6,\n",
              " 'robert': 137,\n",
              " 'ringer': 2,\n",
              " 'seller': 290,\n",
              " 'state': 220,\n",
              " 'medium': 143,\n",
              " 'politics': 122,\n",
              " 'discourse': 6,\n",
              " 'head': 488,\n",
              " 'challenge': 62,\n",
              " 'american': 410,\n",
              " 'being': 26,\n",
              " 'playing': 90,\n",
              " 'larry': 48,\n",
              " 'muse': 4,\n",
              " 'label': 137,\n",
              " '80': 46,\n",
              " '90': 21,\n",
              " 'catalog': 25,\n",
              " 'jazz': 178,\n",
              " 'musician': 135,\n",
              " 'funny': 27,\n",
              " 'valentine': 12,\n",
              " 'chet': 3,\n",
              " 'baker': 17,\n",
              " 'mile': 105,\n",
              " 'album': 3269,\n",
              " 'attempt': 250,\n",
              " 'mouse': 184,\n",
              " 'power': 549,\n",
              " 'arrow': 24,\n",
              " 'keyboard': 64,\n",
              " 'fun': 875,\n",
              " 'wish': 104,\n",
              " 'attention': 336,\n",
              " 'level': 464,\n",
              " 'order': 483,\n",
              " 'rescue': 22,\n",
              " 'hero': 308,\n",
              " 'dog': 342,\n",
              " 'allman': 3,\n",
              " 'recipe': 186,\n",
              " 'cup': 232,\n",
              " 'flour': 5,\n",
              " 'ed': 45,\n",
              " 'wood': 137,\n",
              " 'lisa': 36,\n",
              " 'rayner': 2,\n",
              " 'wild': 45,\n",
              " 'bread': 42,\n",
              " 'sourdough': 6,\n",
              " 'artisan': 10,\n",
              " 'fail': 15,\n",
              " 'novice': 35,\n",
              " 'pancake': 3,\n",
              " 'place': 885,\n",
              " 'information': 832,\n",
              " 'tome': 23,\n",
              " 'cost': 253,\n",
              " 'alaska': 22,\n",
              " 'starter': 26,\n",
              " 'collection': 736,\n",
              " 'ruth': 34,\n",
              " 'picture': 985,\n",
              " 'stand': 96,\n",
              " 'mixer': 15,\n",
              " 'stuff': 676,\n",
              " 'pot': 153,\n",
              " 'mp3': 90,\n",
              " 'download': 39,\n",
              " 'decade': 100,\n",
              " 'background': 239,\n",
              " 'dance': 242,\n",
              " 'feat': 24,\n",
              " 'russia': 26,\n",
              " 'melody': 118,\n",
              " 'lyric': 410,\n",
              " 'downloader': 1,\n",
              " 'ipod': 104,\n",
              " 'experience': 592,\n",
              " 'fm': 22,\n",
              " 'quality': 1814,\n",
              " 'screen': 459,\n",
              " 'line': 933,\n",
              " 'middle': 192,\n",
              " 'layout': 42,\n",
              " 'sense': 517,\n",
              " 'engineering': 34,\n",
              " 'refund': 165,\n",
              " 'emerson': 2,\n",
              " 'name': 623,\n",
              " 'wm': 2,\n",
              " 'sylvania': 2,\n",
              " 'panel': 23,\n",
              " 'lcd': 39,\n",
              " 'weight': 269,\n",
              " 'space': 335,\n",
              " 'design': 299,\n",
              " 'playback': 15,\n",
              " 'function': 77,\n",
              " 'key': 112,\n",
              " 'color': 467,\n",
              " 'placement': 17,\n",
              " 'use': 652,\n",
              " 'imbecil': 1,\n",
              " 'feature': 457,\n",
              " 'buy': 297,\n",
              " 'terrible': 25,\n",
              " 'birthday': 147,\n",
              " 'palyer': 1,\n",
              " 'repalcement': 1,\n",
              " 'junk': 299,\n",
              " 'beware': 54,\n",
              " 'recall': 12,\n",
              " 'channel': 128,\n",
              " 'sony': 198,\n",
              " 'factory': 58,\n",
              " 'capability': 29,\n",
              " 'back': 341,\n",
              " 'deal': 361,\n",
              " 'user': 132,\n",
              " 'tube': 51,\n",
              " 'bonus': 109,\n",
              " 'electronics': 44,\n",
              " 'express': 17,\n",
              " 'rma': 9,\n",
              " 'number': 509,\n",
              " 'fedex': 5,\n",
              " 'week': 702,\n",
              " 'clarity': 42,\n",
              " 'mode': 118,\n",
              " 'rv': 9,\n",
              " 'c': 317,\n",
              " 'running': 53,\n",
              " 'jack': 211,\n",
              " 'stereo': 62,\n",
              " 'speaker': 164,\n",
              " 'antenna': 65,\n",
              " 'romanian': 2,\n",
              " 'opinion': 545,\n",
              " 'angle': 75,\n",
              " 'europe': 71,\n",
              " 'tourist': 22,\n",
              " 'guide': 243,\n",
              " 'country': 369,\n",
              " 'reference': 339,\n",
              " 'travel': 117,\n",
              " 'romania': 2,\n",
              " 'precision': 10,\n",
              " 'detail': 474,\n",
              " 'dk': 5,\n",
              " 'realy': 32,\n",
              " 'everybody': 122,\n",
              " 'combination': 107,\n",
              " 'illustration': 177,\n",
              " 'text': 449,\n",
              " 'sight': 56,\n",
              " 'city': 252,\n",
              " 'european': 14,\n",
              " 'eyewitness': 4,\n",
              " 'planet': 106,\n",
              " 'info': 163,\n",
              " 'surface': 103,\n",
              " 'germany': 36,\n",
              " 'overview': 69,\n",
              " 'greece': 22,\n",
              " 'english': 295,\n",
              " 'sort': 189,\n",
              " 'printing': 81,\n",
              " 'highlight': 64,\n",
              " 'memphis': 7,\n",
              " 'tn': 1,\n",
              " 'reatards': 1,\n",
              " 'course': 441,\n",
              " 'kid': 1216,\n",
              " 'jay': 23,\n",
              " 'reatard': 1,\n",
              " 'eric': 50,\n",
              " 'oblivians': 1,\n",
              " 'goner': 1,\n",
              " 'sensibility': 18,\n",
              " 'crooning': 3,\n",
              " 'howl': 7,\n",
              " 'hate': 48,\n",
              " 'it1': 4,\n",
              " 'foot': 301,\n",
              " 'od': 4,\n",
              " 'copper': 13,\n",
              " 'it5': 1,\n",
              " 'way': 3029,\n",
              " 'thia': 3,\n",
              " 'gift': 607,\n",
              " 'husband': 380,\n",
              " 'date': 282,\n",
              " 'plate': 70,\n",
              " 'edition': 841,\n",
              " 'homer': 30,\n",
              " 'moses': 5,\n",
              " 'gem': 115,\n",
              " 'subject': 296,\n",
              " 'century': 273,\n",
              " 'authority': 32,\n",
              " 'period': 310,\n",
              " 'interelation': 1,\n",
              " 'cardboard': 58,\n",
              " 'finish': 90,\n",
              " 'brass': 14,\n",
              " 'distance': 36,\n",
              " 'scrape': 3,\n",
              " 'plenty': 158,\n",
              " 'material': 521,\n",
              " 'bottom': 225,\n",
              " 'scraping': 1,\n",
              " 'damage': 59,\n",
              " 'africa': 50,\n",
              " 'white': 116,\n",
              " 'mixture': 43,\n",
              " 'feeling': 320,\n",
              " 'rithem': 1,\n",
              " 'oliver': 15,\n",
              " 'ngoma': 1,\n",
              " 'france': 67,\n",
              " 'paris': 48,\n",
              " 'professional': 38,\n",
              " 'must': 239,\n",
              " 'nightgreetings': 1,\n",
              " 'arno': 1,\n",
              " 'amsterdam': 5,\n",
              " 'shoe': 369,\n",
              " 'sole': 19,\n",
              " 'clark': 35,\n",
              " 'month': 1102,\n",
              " 'sperry': 3,\n",
              " 'style': 914,\n",
              " 'founder': 12,\n",
              " 'biographer': 6,\n",
              " 'john': 477,\n",
              " 'morse': 6,\n",
              " 'tone': 139,\n",
              " 'yankee': 6,\n",
              " 'historian': 39,\n",
              " 'judgment': 9,\n",
              " 'statesman': 4,\n",
              " 'boston': 29,\n",
              " 'harvard': 4,\n",
              " 'graduate': 13,\n",
              " 'today': 630,\n",
              " 'research': 201,\n",
              " 'manuscript': 12,\n",
              " 'source': 201,\n",
              " 'yr': 89,\n",
              " 'barbie': 27,\n",
              " 'computer': 474,\n",
              " 'mommy': 14,\n",
              " 'rapunzel': 5,\n",
              " 'ton': 106,\n",
              " 'creativity': 58,\n",
              " 'adventure': 382,\n",
              " 'opening': 106,\n",
              " 'maze': 8,\n",
              " 'prince': 95,\n",
              " 'stefan': 1,\n",
              " 'child': 1395,\n",
              " 'bedroom': 31,\n",
              " 'result': 318,\n",
              " 'painting': 37,\n",
              " 'flower': 26,\n",
              " 'program': 226,\n",
              " 'spot': 127,\n",
              " 'software': 252,\n",
              " 'troubleshooting': 15,\n",
              " 'rebooting': 1,\n",
              " 'vivendi': 5,\n",
              " 'site': 218,\n",
              " 'weeping': 1,\n",
              " 'fault': 102,\n",
              " 'bug': 64,\n",
              " 'buck': 184,\n",
              " 'granddaughter': 52,\n",
              " 'imagination': 155,\n",
              " 'paint': 69,\n",
              " 'theme': 327,\n",
              " 'crown': 14,\n",
              " 'stephan': 2,\n",
              " 'animation': 132,\n",
              " 'adult': 381,\n",
              " 'variation': 29,\n",
              " 'scheme': 31,\n",
              " 'pattern': 76,\n",
              " 'ok': 37,\n",
              " 'rental': 49,\n",
              " 'username': 2,\n",
              " 'sister': 212,\n",
              " 'o': 27,\n",
              " 'x': 117,\n",
              " 'mac': 114,\n",
              " 'classic': 842,\n",
              " 'negative': 23,\n",
              " 'everytime': 56,\n",
              " 'task': 62,\n",
              " 'sequence': 127,\n",
              " 'file': 108,\n",
              " 'positive': 10,\n",
              " 'patience': 34,\n",
              " 'trial': 61,\n",
              " 'bad': 105,\n",
              " 'substitute': 25,\n",
              " 'importcds': 1,\n",
              " 'vendor': 56,\n",
              " 'feedback': 26,\n",
              " 'future': 331,\n",
              " 'company': 527,\n",
              " 'mistake': 298,\n",
              " 'businees': 1,\n",
              " 'hundred': 62,\n",
              " 'dollar': 189,\n",
              " 'amazoncom': 90,\n",
              " 'bottle': 161,\n",
              " 'freesia': 3,\n",
              " 'fragrance': 26,\n",
              " 'summer': 199,\n",
              " 'perfume': 29,\n",
              " 'awful': 30,\n",
              " 'recipient': 17,\n",
              " 'creepy': 49,\n",
              " 'jealousy': 16,\n",
              " 'revenge': 110,\n",
              " 'door': 168,\n",
              " 'existent': 6,\n",
              " 'thai': 5,\n",
              " 'menu': 64,\n",
              " 'package': 245,\n",
              " 'exception': 107,\n",
              " 'dubbing': 10,\n",
              " 'par': 63,\n",
              " 'shame': 213,\n",
              " 'sham': 7,\n",
              " 'offering': 32,\n",
              " 'tokyo': 4,\n",
              " 'shock': 66,\n",
              " 'sooo': 31,\n",
              " 'jammin': 3,\n",
              " 'trill': 1,\n",
              " 'suc': 2,\n",
              " 'pokey': 2,\n",
              " 'record': 420,\n",
              " 'sh': 7,\n",
              " 'production': 347,\n",
              " 'pioneer': 26,\n",
              " 'tx': 30,\n",
              " 'rap': 101,\n",
              " 'somethin': 4,\n",
              " 'jam': 124,\n",
              " 'ride': 115,\n",
              " 'bullsh': 1,\n",
              " 'bet': 21,\n",
              " 'mtv': 39,\n",
              " 'houston': 20,\n",
              " 'pat': 34,\n",
              " 'hawk': 16,\n",
              " 'screw': 84,\n",
              " 'moe': 1,\n",
              " 'pimp': 10,\n",
              " 'big': 175,\n",
              " 'steve': 100,\n",
              " 'legacy': 29,\n",
              " 'south': 99,\n",
              " 'southside': 8,\n",
              " 'guest': 84,\n",
              " 'fat': 76,\n",
              " 'botany': 2,\n",
              " 'mr': 621,\n",
              " 'chris': 48,\n",
              " 'ward': 22,\n",
              " 'chronicle': 53,\n",
              " 'farm': 79,\n",
              " 'photo': 238,\n",
              " 'shewas': 1,\n",
              " 'version': 1591,\n",
              " 'maid': 13,\n",
              " 'israel': 21,\n",
              " 'bill': 128,\n",
              " 'harvey': 14,\n",
              " 'history': 851,\n",
              " 'wonder': 160,\n",
              " 'possiblility': 1,\n",
              " 'relationship': 264,\n",
              " 'faithfulness': 3,\n",
              " 'treasure': 66,\n",
              " 'keeper': 38,\n",
              " 'air': 389,\n",
              " 'idea': 927,\n",
              " 'cake': 74,\n",
              " 'topper': 17,\n",
              " 'june': 28,\n",
              " 'shipping': 307,\n",
              " 'july': 29,\n",
              " 'claim': 95,\n",
              " 'mishap': 7,\n",
              " 'wrong': 68,\n",
              " 'ariel': 2,\n",
              " 'litte': 1,\n",
              " 'mermaid': 3,\n",
              " 'pearl': 45,\n",
              " 'kit': 181,\n",
              " 'item': 904,\n",
              " 'complete': 30,\n",
              " 'pledge': 8,\n",
              " 'sweet': 60,\n",
              " 'grace': 56,\n",
              " 'supply': 62,\n",
              " 'list': 283,\n",
              " 'sheet': 148,\n",
              " 'figurine': 3,\n",
              " 'bracelet': 10,\n",
              " 'boot': 241,\n",
              " 'phone': 284,\n",
              " 'manufacturer': 106,\n",
              " 'soulwax': 4,\n",
              " 'critic': 113,\n",
              " 'consumer': 54,\n",
              " 'rock': 659,\n",
              " 'debut': 154,\n",
              " 'chock': 8,\n",
              " 'radio': 310,\n",
              " 'hit': 228,\n",
              " 'dj': 26,\n",
              " 'mash': 12,\n",
              " 'remix': 50,\n",
              " 'band': 927,\n",
              " 'critcs': 1,\n",
              " 'notice': 21,\n",
              " 'electro': 6,\n",
              " 'duran': 6,\n",
              " 'nite': 11,\n",
              " 'single': 96,\n",
              " 'club': 163,\n",
              " 'sale': 186,\n",
              " 'neck': 35,\n",
              " 'tiga': 2,\n",
              " 'sexor': 1,\n",
              " 'omg': 17,\n",
              " 'specially1': 1,\n",
              " 'e': 162,\n",
              " 'talking2': 1,\n",
              " 'guysmusicchoice': 1,\n",
              " 'saturday': 35,\n",
              " 'techno': 86,\n",
              " 'jason': 28,\n",
              " 'bateman': 2,\n",
              " 'lead': 105,\n",
              " 'moment': 356,\n",
              " 'relief': 39,\n",
              " 'minimum': 20,\n",
              " 'action': 996,\n",
              " 'suspense': 166,\n",
              " 'mystery': 299,\n",
              " 'culprit': 5,\n",
              " 'train': 90,\n",
              " 'shape': 166,\n",
              " 'peg': 13,\n",
              " 'puzzle': 115,\n",
              " 'range': 181,\n",
              " 'theory': 193,\n",
              " 'artistry': 13,\n",
              " 'deodato': 1,\n",
              " 'concert': 227,\n",
              " 'string': 66,\n",
              " 'tropea': 1,\n",
              " 'excelent': 24,\n",
              " 'rendition': 36,\n",
              " 'caution': 37,\n",
              " 'textbook': 88,\n",
              " 'transaction': 19,\n",
              " 'te': 66,\n",
              " 'shore': 28,\n",
              " 'isle': 9,\n",
              " 'may': 32,\n",
              " 'caretaker': 3,\n",
              " 'colin': 21,\n",
              " 'macpherson': 2,\n",
              " 'past': 204,\n",
              " 'opposite': 24,\n",
              " 'avon': 2,\n",
              " 'true': 14,\n",
              " 'fokr': 1,\n",
              " 'hair': 442,\n",
              " 'kilt': 1,\n",
              " 'highlander': 8,\n",
              " 'heroine': 118,\n",
              " 'part': 1614,\n",
              " 'lindsay': 4,\n",
              " 'occupant': 3,\n",
              " 'island': 196,\n",
              " 'solitude': 42,\n",
              " 'friendship': 76,\n",
              " 'courage': 51,\n",
              " 'lifethe': 1,\n",
              " 'believability': 4,\n",
              " 'characterization': 74,\n",
              " 'character': 3035,\n",
              " 'behavior': 81,\n",
              " 'development': 209,\n",
              " 'addonics': 1,\n",
              " 'portable': 3,\n",
              " 'drive': 133,\n",
              " ...}"
            ]
          },
          "metadata": {
            "tags": []
          },
          "execution_count": 105
        }
      ]
    },
    {
      "cell_type": "code",
      "metadata": {
        "id": "-ZBAL-p1vyjC"
      },
      "source": [
        "freq_data = pd.DataFrame({\"words\" : list(dict_freq.keys()),\n",
        "                          \"counts\" : list(dict_freq.values())})"
      ],
      "execution_count": null,
      "outputs": []
    },
    {
      "cell_type": "code",
      "metadata": {
        "id": "e161oG3QxHud"
      },
      "source": [
        "freq_data.sort_values(by = \"counts\",inplace= True, ascending= False,ignore_index= True)"
      ],
      "execution_count": null,
      "outputs": []
    },
    {
      "cell_type": "code",
      "metadata": {
        "id": "txcAVvACzW5S",
        "colab": {
          "base_uri": "https://localhost:8080/",
          "height": 497
        },
        "outputId": "9e7591dd-991c-4393-e7d5-6586cf8c9e77"
      },
      "source": [
        "freq_data.head(15)"
      ],
      "execution_count": null,
      "outputs": [
        {
          "output_type": "execute_result",
          "data": {
            "text/html": [
              "<div>\n",
              "<style scoped>\n",
              "    .dataframe tbody tr th:only-of-type {\n",
              "        vertical-align: middle;\n",
              "    }\n",
              "\n",
              "    .dataframe tbody tr th {\n",
              "        vertical-align: top;\n",
              "    }\n",
              "\n",
              "    .dataframe thead th {\n",
              "        text-align: right;\n",
              "    }\n",
              "</style>\n",
              "<table border=\"1\" class=\"dataframe\">\n",
              "  <thead>\n",
              "    <tr style=\"text-align: right;\">\n",
              "      <th></th>\n",
              "      <th>words</th>\n",
              "      <th>counts</th>\n",
              "    </tr>\n",
              "  </thead>\n",
              "  <tbody>\n",
              "    <tr>\n",
              "      <th>0</th>\n",
              "      <td>book</td>\n",
              "      <td>20625</td>\n",
              "    </tr>\n",
              "    <tr>\n",
              "      <th>1</th>\n",
              "      <td>movie</td>\n",
              "      <td>10084</td>\n",
              "    </tr>\n",
              "    <tr>\n",
              "      <th>2</th>\n",
              "      <td>time</td>\n",
              "      <td>7350</td>\n",
              "    </tr>\n",
              "    <tr>\n",
              "      <th>3</th>\n",
              "      <td>story</td>\n",
              "      <td>4800</td>\n",
              "    </tr>\n",
              "    <tr>\n",
              "      <th>4</th>\n",
              "      <td>cd</td>\n",
              "      <td>3875</td>\n",
              "    </tr>\n",
              "    <tr>\n",
              "      <th>5</th>\n",
              "      <td>one</td>\n",
              "      <td>3634</td>\n",
              "    </tr>\n",
              "    <tr>\n",
              "      <th>6</th>\n",
              "      <td>film</td>\n",
              "      <td>3557</td>\n",
              "    </tr>\n",
              "    <tr>\n",
              "      <th>7</th>\n",
              "      <td>year</td>\n",
              "      <td>3463</td>\n",
              "    </tr>\n",
              "    <tr>\n",
              "      <th>8</th>\n",
              "      <td>song</td>\n",
              "      <td>3382</td>\n",
              "    </tr>\n",
              "    <tr>\n",
              "      <th>9</th>\n",
              "      <td>album</td>\n",
              "      <td>3269</td>\n",
              "    </tr>\n",
              "    <tr>\n",
              "      <th>10</th>\n",
              "      <td>character</td>\n",
              "      <td>3035</td>\n",
              "    </tr>\n",
              "    <tr>\n",
              "      <th>11</th>\n",
              "      <td>way</td>\n",
              "      <td>3029</td>\n",
              "    </tr>\n",
              "    <tr>\n",
              "      <th>12</th>\n",
              "      <td>thing</td>\n",
              "      <td>3013</td>\n",
              "    </tr>\n",
              "    <tr>\n",
              "      <th>13</th>\n",
              "      <td>product</td>\n",
              "      <td>2900</td>\n",
              "    </tr>\n",
              "    <tr>\n",
              "      <th>14</th>\n",
              "      <td>people</td>\n",
              "      <td>2728</td>\n",
              "    </tr>\n",
              "  </tbody>\n",
              "</table>\n",
              "</div>"
            ],
            "text/plain": [
              "        words  counts\n",
              "0        book   20625\n",
              "1       movie   10084\n",
              "2        time    7350\n",
              "3       story    4800\n",
              "4          cd    3875\n",
              "5         one    3634\n",
              "6        film    3557\n",
              "7        year    3463\n",
              "8        song    3382\n",
              "9       album    3269\n",
              "10  character    3035\n",
              "11        way    3029\n",
              "12      thing    3013\n",
              "13    product    2900\n",
              "14     people    2728"
            ]
          },
          "metadata": {
            "tags": []
          },
          "execution_count": 108
        }
      ]
    },
    {
      "cell_type": "code",
      "metadata": {
        "id": "Xlb-SKDKn9BI"
      },
      "source": [
        "# Importing Gensim\n",
        "import gensim\n",
        "from gensim import corpora\n",
        "\n",
        "# Creating the term dictionary of our courpus, where every unique term is assigned an index. \n",
        "dictionary = corpora.Dictionary(doc_clean)\n",
        "\n",
        "# Converting list of documents (corpus) into Document Term Matrix using dictionary prepared above.\n",
        "doc_term_matrix = [dictionary.doc2bow(doc) for doc in doc_clean]"
      ],
      "execution_count": null,
      "outputs": []
    },
    {
      "cell_type": "code",
      "metadata": {
        "id": "0Um_L7jQt1hD",
        "colab": {
          "base_uri": "https://localhost:8080/",
          "height": 34
        },
        "outputId": "990cabe7-ece3-4fc1-9d08-45c6d039dfc6"
      },
      "source": [
        "dictionary"
      ],
      "execution_count": null,
      "outputs": [
        {
          "output_type": "execute_result",
          "data": {
            "text/plain": [
              "<gensim.corpora.dictionary.Dictionary at 0x7f91ae3ac1d0>"
            ]
          },
          "metadata": {
            "tags": []
          },
          "execution_count": 105
        }
      ]
    },
    {
      "cell_type": "code",
      "metadata": {
        "id": "Sm8OVzhsqqFW",
        "colab": {
          "base_uri": "https://localhost:8080/",
          "height": 194
        },
        "outputId": "bd449f63-b9df-4afd-9bc4-b77ed60a6879"
      },
      "source": [
        "doc_term_matrix[0]"
      ],
      "execution_count": null,
      "outputs": [
        {
          "output_type": "execute_result",
          "data": {
            "text/plain": [
              "[(0, 1),\n",
              " (1, 1),\n",
              " (2, 1),\n",
              " (3, 1),\n",
              " (4, 1),\n",
              " (5, 1),\n",
              " (6, 1),\n",
              " (7, 1),\n",
              " (8, 1),\n",
              " (9, 1)]"
            ]
          },
          "metadata": {
            "tags": []
          },
          "execution_count": 106
        }
      ]
    },
    {
      "cell_type": "code",
      "metadata": {
        "id": "CwrMx6bSquX5"
      },
      "source": [
        "# Creating the object for LDA model using gensim library\n",
        "Lda = gensim.models.ldamodel.LdaModel\n",
        "\n",
        "# Running and Trainign LDA model on the document term matrix.\n",
        "ldamodel = Lda(doc_term_matrix, num_topics=5, id2word = dictionary, passes=50)"
      ],
      "execution_count": null,
      "outputs": []
    },
    {
      "cell_type": "code",
      "metadata": {
        "id": "MJqHxJjzq3NL"
      },
      "source": [
        "results = ldamodel.print_topics(num_topics=5, num_words=10)"
      ],
      "execution_count": null,
      "outputs": []
    },
    {
      "cell_type": "code",
      "metadata": {
        "id": "4_obqs5_rnli",
        "colab": {
          "base_uri": "https://localhost:8080/",
          "height": 125
        },
        "outputId": "63781c78-8707-4b77-8c89-4c520073d634"
      },
      "source": [
        "print(*results,sep = \"\\n\")"
      ],
      "execution_count": null,
      "outputs": [
        {
          "output_type": "stream",
          "text": [
            "(0, '0.111*\"room\" + 0.034*\"bed\" + 0.019*\"bathroom\" + 0.018*\"pool\" + 0.014*\"floor\" + 0.014*\"night\" + 0.013*\"shower\" + 0.012*\"breakfast\" + 0.010*\"door\" + 0.009*\"towel\"')\n",
            "(1, '0.019*\"dog\" + 0.017*\"time\" + 0.014*\"staff\" + 0.013*\"parking\" + 0.013*\"stay\" + 0.012*\"location\" + 0.010*\"neighborhood\" + 0.009*\"metro\" + 0.009*\"monaco\" + 0.009*\"lot\"')\n",
            "(2, '0.019*\"de\" + 0.017*\"la\" + 0.013*\"le\" + 0.011*\"un\" + 0.010*\"et\" + 0.009*\"da\" + 0.008*\"e\" + 0.008*\"est\" + 0.006*\"trs\" + 0.006*\"pa\"')\n",
            "(3, '0.037*\"location\" + 0.030*\"restaurant\" + 0.030*\"staff\" + 0.022*\"room\" + 0.022*\"place\" + 0.019*\"town\" + 0.016*\"street\" + 0.016*\"breakfast\" + 0.015*\"parking\" + 0.015*\"area\"')\n",
            "(4, '0.066*\"room\" + 0.046*\"staff\" + 0.032*\"breakfast\" + 0.024*\"night\" + 0.021*\"stay\" + 0.019*\"service\" + 0.018*\"desk\" + 0.016*\"time\" + 0.016*\"day\" + 0.013*\"place\"')\n"
          ],
          "name": "stdout"
        }
      ]
    },
    {
      "cell_type": "markdown",
      "metadata": {
        "id": "Lmfb26QjLeit"
      },
      "source": [
        "- As we can see it is not at all a good model"
      ]
    },
    {
      "cell_type": "markdown",
      "metadata": {
        "id": "52oCiqSPoavU"
      },
      "source": [
        "# Lets try clustering approach"
      ]
    },
    {
      "cell_type": "code",
      "metadata": {
        "id": "6zDqUDHKQc83"
      },
      "source": [
        "import gensim\n",
        "tokenized_sents = data[\"text\"].apply(lambda x: x.split()) # tokenizing\n",
        "model_w2v = gensim.models.Word2Vec(\n",
        "            tokenized_sents,\n",
        "            size=200, # desired no. of features/independent variables\n",
        "            window=5, # context window size\n",
        "            min_count=2,\n",
        "            sg = 1, # 1 for skip-gram model\n",
        "            hs = 0,\n",
        "            negative = 10, # for negative sampling\n",
        "            workers= 2, # no.of cores\n",
        "            seed = 34) "
      ],
      "execution_count": null,
      "outputs": []
    },
    {
      "cell_type": "code",
      "metadata": {
        "id": "BXA7IJ9WRZEM",
        "colab": {
          "base_uri": "https://localhost:8080/",
          "height": 34
        },
        "outputId": "c44beadc-f8a6-4854-eb6d-6123fcdd49f3"
      },
      "source": [
        "model_w2v.train(tokenized_sents, total_examples= len(tokenized_sents), epochs=20)"
      ],
      "execution_count": null,
      "outputs": [
        {
          "output_type": "execute_result",
          "data": {
            "text/plain": [
              "(71771165, 96089640)"
            ]
          },
          "metadata": {
            "tags": []
          },
          "execution_count": 111
        }
      ]
    },
    {
      "cell_type": "code",
      "metadata": {
        "id": "iWcde-8DRfrU",
        "colab": {
          "base_uri": "https://localhost:8080/",
          "height": 745
        },
        "outputId": "76ad4aef-ff68-4fc2-a77e-5a7857fc7790"
      },
      "source": [
        "model_w2v.wv[\"king\"]"
      ],
      "execution_count": null,
      "outputs": [
        {
          "output_type": "execute_result",
          "data": {
            "text/plain": [
              "array([ 0.09276841, -0.18821466, -0.12107853,  0.3491867 ,  0.4475555 ,\n",
              "       -0.4243699 , -0.38508508, -0.21707599,  0.33396268, -0.7364127 ,\n",
              "       -0.01630478,  0.52315396, -0.15832089,  0.22639549,  0.09386869,\n",
              "       -0.35483664,  0.88883734,  0.41660744, -0.5532295 ,  0.12208392,\n",
              "        0.232582  , -0.3683448 , -0.20196405,  0.67905474, -0.4653389 ,\n",
              "        0.36154   ,  0.09360485, -0.01388098, -0.41252363, -0.20324369,\n",
              "       -0.52511007,  0.3807996 ,  0.27634645, -0.08534093, -0.39266348,\n",
              "        0.13456857, -0.4652502 , -0.6305023 , -0.18273284,  0.09510469,\n",
              "       -0.35733306, -0.20192295,  0.06844459, -0.12109973,  0.15175086,\n",
              "        0.0749175 ,  0.37009156, -0.5980667 , -0.13656616,  0.22759166,\n",
              "        0.0834001 ,  0.2710336 , -0.4017032 ,  0.2127976 , -0.1811644 ,\n",
              "        0.40575507,  0.6471957 ,  0.05225357, -0.04531626,  0.05617144,\n",
              "       -0.1632227 , -0.2501947 , -0.10144155,  0.35817602, -0.73034614,\n",
              "        0.37267366, -0.03477462, -0.42419454, -0.3204681 , -0.03845586,\n",
              "       -0.08953129,  0.5396755 ,  1.1537671 , -0.27412978, -0.31532374,\n",
              "        0.20428611,  0.36187446, -0.12752768,  0.5597825 , -0.5109182 ,\n",
              "        0.5550718 ,  0.28625497,  0.02744118, -0.7161807 , -0.3322245 ,\n",
              "        0.35180223,  0.15696442, -0.35199112, -0.11444293,  0.165577  ,\n",
              "        0.1237301 , -0.07815171,  0.1540178 ,  0.3290321 ,  0.30593935,\n",
              "       -0.28714228, -0.17531982,  0.46055675,  0.26169634,  0.19142067,\n",
              "        0.29389283, -0.08915406,  0.10299568,  0.12125443,  0.18675561,\n",
              "       -0.3114285 , -0.6098607 , -0.02624724, -0.02781637,  0.19568889,\n",
              "       -0.32162023, -0.39128843,  0.20445353,  0.12583053,  0.1448592 ,\n",
              "        0.06350521, -0.36304376,  0.29582158,  0.6386094 , -0.20937377,\n",
              "       -0.25901198,  0.07414918, -0.00807358,  0.00292742, -0.28950801,\n",
              "        0.31638288, -0.18810154, -0.22337079,  0.31970498, -0.02397242,\n",
              "       -0.11580978,  0.53996223, -0.33351818,  0.04885317,  0.2953593 ,\n",
              "        0.33234757, -0.11480837, -0.7535445 , -0.54516035, -0.42766112,\n",
              "        0.01268858, -0.3653515 ,  0.21730632, -0.10682725, -0.5888271 ,\n",
              "       -0.23156789,  0.39662233, -0.28828624,  0.14296947, -0.20461035,\n",
              "        0.03917903,  0.1798978 ,  0.18135957,  0.11739638,  0.23405468,\n",
              "        0.19110467, -0.15108882,  0.11885387, -0.17759001,  0.35876557,\n",
              "       -0.14474931, -0.11369961,  0.5258652 , -0.05752137,  0.05214105,\n",
              "       -0.1394159 ,  0.4630464 ,  0.50619316, -0.02745786,  0.6357415 ,\n",
              "       -0.27350986, -0.3837786 , -0.45997563, -0.2394885 , -0.19813688,\n",
              "       -0.07400331,  0.17413287, -0.01755095, -0.27661097, -0.16170493,\n",
              "       -0.32290953,  0.96307987, -0.53284097, -0.1574242 , -0.3087902 ,\n",
              "        0.22446927, -0.5099771 ,  0.4673162 , -0.05246602,  0.43052262,\n",
              "       -0.26064876, -0.41520914, -0.40985802,  0.42410266,  0.4397179 ,\n",
              "       -0.30930054, -0.43848276, -0.07174767,  0.09954374,  0.55528116],\n",
              "      dtype=float32)"
            ]
          },
          "metadata": {
            "tags": []
          },
          "execution_count": 112
        }
      ]
    },
    {
      "cell_type": "code",
      "metadata": {
        "id": "WscotfcURzEW",
        "colab": {
          "base_uri": "https://localhost:8080/",
          "height": 250
        },
        "outputId": "7e68788c-47bf-4090-fb1c-285b91303a8c"
      },
      "source": [
        "model_w2v.wv.most_similar(\"service\") "
      ],
      "execution_count": null,
      "outputs": [
        {
          "output_type": "stream",
          "text": [
            "/usr/local/lib/python3.6/dist-packages/gensim/matutils.py:737: FutureWarning: Conversion of the second argument of issubdtype from `int` to `np.signedinteger` is deprecated. In future, it will be treated as `np.int64 == np.dtype(int).type`.\n",
            "  if np.issubdtype(vec.dtype, np.int):\n"
          ],
          "name": "stderr"
        },
        {
          "output_type": "execute_result",
          "data": {
            "text/plain": [
              "[('customer', 0.8236969113349915),\n",
              " ('service,', 0.6174720525741577),\n",
              " ('Customer', 0.6013633608818054),\n",
              " ('service.', 0.5877460241317749),\n",
              " ('unreturned,', 0.5812762379646301),\n",
              " ('department,', 0.56834876537323),\n",
              " ('service!!!', 0.5516288876533508),\n",
              " ('DeLonghi', 0.5510367751121521),\n",
              " ('DeeVeeDees', 0.545364499092102),\n",
              " ('RMA', 0.5443617701530457)]"
            ]
          },
          "metadata": {
            "tags": []
          },
          "execution_count": 113
        }
      ]
    },
    {
      "cell_type": "code",
      "metadata": {
        "id": "s1SrmPsbTfk5",
        "colab": {
          "base_uri": "https://localhost:8080/",
          "height": 34
        },
        "outputId": "1dcd4dc0-9661-4cce-f34f-9e4111bf2ebe"
      },
      "source": [
        "top_1000_words = freq_data.iloc[:5000,:]\n",
        "len(top_1000_words)"
      ],
      "execution_count": null,
      "outputs": [
        {
          "output_type": "execute_result",
          "data": {
            "text/plain": [
              "5000"
            ]
          },
          "metadata": {
            "tags": []
          },
          "execution_count": 114
        }
      ]
    },
    {
      "cell_type": "code",
      "metadata": {
        "id": "2MrwmCkbUlkU",
        "colab": {
          "base_uri": "https://localhost:8080/",
          "height": 197
        },
        "outputId": "31ec60fa-b541-4795-9525-23c408772e35"
      },
      "source": [
        "top_1000_words.head()"
      ],
      "execution_count": null,
      "outputs": [
        {
          "output_type": "execute_result",
          "data": {
            "text/html": [
              "<div>\n",
              "<style scoped>\n",
              "    .dataframe tbody tr th:only-of-type {\n",
              "        vertical-align: middle;\n",
              "    }\n",
              "\n",
              "    .dataframe tbody tr th {\n",
              "        vertical-align: top;\n",
              "    }\n",
              "\n",
              "    .dataframe thead th {\n",
              "        text-align: right;\n",
              "    }\n",
              "</style>\n",
              "<table border=\"1\" class=\"dataframe\">\n",
              "  <thead>\n",
              "    <tr style=\"text-align: right;\">\n",
              "      <th></th>\n",
              "      <th>words</th>\n",
              "      <th>counts</th>\n",
              "    </tr>\n",
              "  </thead>\n",
              "  <tbody>\n",
              "    <tr>\n",
              "      <th>0</th>\n",
              "      <td>book</td>\n",
              "      <td>20625</td>\n",
              "    </tr>\n",
              "    <tr>\n",
              "      <th>1</th>\n",
              "      <td>movie</td>\n",
              "      <td>10084</td>\n",
              "    </tr>\n",
              "    <tr>\n",
              "      <th>2</th>\n",
              "      <td>time</td>\n",
              "      <td>7350</td>\n",
              "    </tr>\n",
              "    <tr>\n",
              "      <th>3</th>\n",
              "      <td>story</td>\n",
              "      <td>4800</td>\n",
              "    </tr>\n",
              "    <tr>\n",
              "      <th>4</th>\n",
              "      <td>cd</td>\n",
              "      <td>3875</td>\n",
              "    </tr>\n",
              "  </tbody>\n",
              "</table>\n",
              "</div>"
            ],
            "text/plain": [
              "   words  counts\n",
              "0   book   20625\n",
              "1  movie   10084\n",
              "2   time    7350\n",
              "3  story    4800\n",
              "4     cd    3875"
            ]
          },
          "metadata": {
            "tags": []
          },
          "execution_count": 115
        }
      ]
    },
    {
      "cell_type": "code",
      "metadata": {
        "id": "q2jR0LXpSjMY",
        "colab": {
          "base_uri": "https://localhost:8080/",
          "height": 34
        },
        "outputId": "8b650c67-0fc3-48f6-fe6b-bd531ba47874"
      },
      "source": [
        "import numpy as np\n",
        "wordvec_arrays = np.zeros((len(top_1000_words), 200)) \n",
        "wordvec_arrays.shape"
      ],
      "execution_count": null,
      "outputs": [
        {
          "output_type": "execute_result",
          "data": {
            "text/plain": [
              "(5000, 200)"
            ]
          },
          "metadata": {
            "tags": []
          },
          "execution_count": 116
        }
      ]
    },
    {
      "cell_type": "code",
      "metadata": {
        "id": "2zm0gYxSUBCu",
        "colab": {
          "base_uri": "https://localhost:8080/",
          "height": 462
        },
        "outputId": "dba8ed47-cae0-4e8e-9a8f-ff3caf6b2e42"
      },
      "source": [
        "for i in range(len(top_1000_words)):\n",
        "  try:\n",
        "    wordvec_arrays[i,:] = model_w2v[top_1000_words.words[i]].reshape((1, 200))\n",
        "  except:\n",
        "     wordvec_arrays[i,:] = np.zeros((1, 200)) .reshape((1, 200))\n",
        "\n",
        "  wordvec_df = pd.DataFrame(wordvec_arrays) \n",
        "\n",
        "wordvec_df"
      ],
      "execution_count": null,
      "outputs": [
        {
          "output_type": "stream",
          "text": [
            "/usr/local/lib/python3.6/dist-packages/ipykernel_launcher.py:3: DeprecationWarning: Call to deprecated `__getitem__` (Method will be removed in 4.0.0, use self.wv.__getitem__() instead).\n",
            "  This is separate from the ipykernel package so we can avoid doing imports until\n"
          ],
          "name": "stderr"
        },
        {
          "output_type": "execute_result",
          "data": {
            "text/html": [
              "<div>\n",
              "<style scoped>\n",
              "    .dataframe tbody tr th:only-of-type {\n",
              "        vertical-align: middle;\n",
              "    }\n",
              "\n",
              "    .dataframe tbody tr th {\n",
              "        vertical-align: top;\n",
              "    }\n",
              "\n",
              "    .dataframe thead th {\n",
              "        text-align: right;\n",
              "    }\n",
              "</style>\n",
              "<table border=\"1\" class=\"dataframe\">\n",
              "  <thead>\n",
              "    <tr style=\"text-align: right;\">\n",
              "      <th></th>\n",
              "      <th>0</th>\n",
              "      <th>1</th>\n",
              "      <th>2</th>\n",
              "      <th>3</th>\n",
              "      <th>4</th>\n",
              "      <th>5</th>\n",
              "      <th>6</th>\n",
              "      <th>7</th>\n",
              "      <th>8</th>\n",
              "      <th>9</th>\n",
              "      <th>10</th>\n",
              "      <th>11</th>\n",
              "      <th>12</th>\n",
              "      <th>13</th>\n",
              "      <th>14</th>\n",
              "      <th>15</th>\n",
              "      <th>16</th>\n",
              "      <th>17</th>\n",
              "      <th>18</th>\n",
              "      <th>19</th>\n",
              "      <th>20</th>\n",
              "      <th>21</th>\n",
              "      <th>22</th>\n",
              "      <th>23</th>\n",
              "      <th>24</th>\n",
              "      <th>25</th>\n",
              "      <th>26</th>\n",
              "      <th>27</th>\n",
              "      <th>28</th>\n",
              "      <th>29</th>\n",
              "      <th>30</th>\n",
              "      <th>31</th>\n",
              "      <th>32</th>\n",
              "      <th>33</th>\n",
              "      <th>34</th>\n",
              "      <th>35</th>\n",
              "      <th>36</th>\n",
              "      <th>37</th>\n",
              "      <th>38</th>\n",
              "      <th>39</th>\n",
              "      <th>...</th>\n",
              "      <th>160</th>\n",
              "      <th>161</th>\n",
              "      <th>162</th>\n",
              "      <th>163</th>\n",
              "      <th>164</th>\n",
              "      <th>165</th>\n",
              "      <th>166</th>\n",
              "      <th>167</th>\n",
              "      <th>168</th>\n",
              "      <th>169</th>\n",
              "      <th>170</th>\n",
              "      <th>171</th>\n",
              "      <th>172</th>\n",
              "      <th>173</th>\n",
              "      <th>174</th>\n",
              "      <th>175</th>\n",
              "      <th>176</th>\n",
              "      <th>177</th>\n",
              "      <th>178</th>\n",
              "      <th>179</th>\n",
              "      <th>180</th>\n",
              "      <th>181</th>\n",
              "      <th>182</th>\n",
              "      <th>183</th>\n",
              "      <th>184</th>\n",
              "      <th>185</th>\n",
              "      <th>186</th>\n",
              "      <th>187</th>\n",
              "      <th>188</th>\n",
              "      <th>189</th>\n",
              "      <th>190</th>\n",
              "      <th>191</th>\n",
              "      <th>192</th>\n",
              "      <th>193</th>\n",
              "      <th>194</th>\n",
              "      <th>195</th>\n",
              "      <th>196</th>\n",
              "      <th>197</th>\n",
              "      <th>198</th>\n",
              "      <th>199</th>\n",
              "    </tr>\n",
              "  </thead>\n",
              "  <tbody>\n",
              "    <tr>\n",
              "      <th>0</th>\n",
              "      <td>0.148191</td>\n",
              "      <td>-0.107102</td>\n",
              "      <td>0.013634</td>\n",
              "      <td>0.100492</td>\n",
              "      <td>0.155857</td>\n",
              "      <td>0.000316</td>\n",
              "      <td>0.067000</td>\n",
              "      <td>0.442531</td>\n",
              "      <td>-0.127611</td>\n",
              "      <td>-0.359092</td>\n",
              "      <td>0.453153</td>\n",
              "      <td>-0.136633</td>\n",
              "      <td>0.118523</td>\n",
              "      <td>0.034184</td>\n",
              "      <td>0.191607</td>\n",
              "      <td>-0.514162</td>\n",
              "      <td>-0.132389</td>\n",
              "      <td>-0.249263</td>\n",
              "      <td>-0.312846</td>\n",
              "      <td>0.047840</td>\n",
              "      <td>-0.321367</td>\n",
              "      <td>-0.076807</td>\n",
              "      <td>-0.274012</td>\n",
              "      <td>-0.061261</td>\n",
              "      <td>-0.072409</td>\n",
              "      <td>0.171357</td>\n",
              "      <td>0.204451</td>\n",
              "      <td>0.165607</td>\n",
              "      <td>-0.026389</td>\n",
              "      <td>-0.008948</td>\n",
              "      <td>-0.131114</td>\n",
              "      <td>0.076471</td>\n",
              "      <td>0.028914</td>\n",
              "      <td>0.121061</td>\n",
              "      <td>0.001348</td>\n",
              "      <td>0.335797</td>\n",
              "      <td>0.070032</td>\n",
              "      <td>-0.192550</td>\n",
              "      <td>-0.332973</td>\n",
              "      <td>0.351117</td>\n",
              "      <td>...</td>\n",
              "      <td>0.388932</td>\n",
              "      <td>-0.168485</td>\n",
              "      <td>-0.004268</td>\n",
              "      <td>-0.012660</td>\n",
              "      <td>-0.172010</td>\n",
              "      <td>0.134553</td>\n",
              "      <td>0.080707</td>\n",
              "      <td>0.044453</td>\n",
              "      <td>-0.306089</td>\n",
              "      <td>-0.137061</td>\n",
              "      <td>0.046843</td>\n",
              "      <td>-0.328848</td>\n",
              "      <td>0.003381</td>\n",
              "      <td>0.144741</td>\n",
              "      <td>-0.032472</td>\n",
              "      <td>-0.245934</td>\n",
              "      <td>0.051985</td>\n",
              "      <td>0.022332</td>\n",
              "      <td>0.181495</td>\n",
              "      <td>-0.216759</td>\n",
              "      <td>-0.197195</td>\n",
              "      <td>-0.156564</td>\n",
              "      <td>0.034258</td>\n",
              "      <td>0.178386</td>\n",
              "      <td>-0.062803</td>\n",
              "      <td>-0.281043</td>\n",
              "      <td>-0.135741</td>\n",
              "      <td>-0.497151</td>\n",
              "      <td>-0.088516</td>\n",
              "      <td>0.054209</td>\n",
              "      <td>0.150685</td>\n",
              "      <td>-0.400494</td>\n",
              "      <td>0.107150</td>\n",
              "      <td>0.443616</td>\n",
              "      <td>0.132572</td>\n",
              "      <td>0.370025</td>\n",
              "      <td>0.021805</td>\n",
              "      <td>-0.265843</td>\n",
              "      <td>0.361245</td>\n",
              "      <td>-0.021812</td>\n",
              "    </tr>\n",
              "    <tr>\n",
              "      <th>1</th>\n",
              "      <td>0.081201</td>\n",
              "      <td>-0.115719</td>\n",
              "      <td>0.161352</td>\n",
              "      <td>0.565111</td>\n",
              "      <td>0.390465</td>\n",
              "      <td>-0.023322</td>\n",
              "      <td>0.306651</td>\n",
              "      <td>0.169325</td>\n",
              "      <td>0.384612</td>\n",
              "      <td>-0.526594</td>\n",
              "      <td>-0.041201</td>\n",
              "      <td>0.161913</td>\n",
              "      <td>-0.115895</td>\n",
              "      <td>-0.134312</td>\n",
              "      <td>0.528633</td>\n",
              "      <td>-0.210568</td>\n",
              "      <td>-0.244186</td>\n",
              "      <td>0.226441</td>\n",
              "      <td>-0.327836</td>\n",
              "      <td>0.060593</td>\n",
              "      <td>-0.317398</td>\n",
              "      <td>-0.229096</td>\n",
              "      <td>-0.229483</td>\n",
              "      <td>0.089318</td>\n",
              "      <td>-0.366898</td>\n",
              "      <td>0.420617</td>\n",
              "      <td>0.346966</td>\n",
              "      <td>0.413947</td>\n",
              "      <td>0.078586</td>\n",
              "      <td>-0.474681</td>\n",
              "      <td>0.160498</td>\n",
              "      <td>0.295476</td>\n",
              "      <td>0.221085</td>\n",
              "      <td>0.012870</td>\n",
              "      <td>-0.009168</td>\n",
              "      <td>-0.067251</td>\n",
              "      <td>0.148006</td>\n",
              "      <td>-0.168362</td>\n",
              "      <td>0.080686</td>\n",
              "      <td>0.224155</td>\n",
              "      <td>...</td>\n",
              "      <td>0.112524</td>\n",
              "      <td>-0.092366</td>\n",
              "      <td>0.086645</td>\n",
              "      <td>0.224049</td>\n",
              "      <td>0.070788</td>\n",
              "      <td>0.029909</td>\n",
              "      <td>-0.128792</td>\n",
              "      <td>0.328136</td>\n",
              "      <td>-0.228064</td>\n",
              "      <td>-0.101058</td>\n",
              "      <td>-0.116497</td>\n",
              "      <td>-0.066644</td>\n",
              "      <td>0.021158</td>\n",
              "      <td>0.066242</td>\n",
              "      <td>0.454837</td>\n",
              "      <td>-0.156283</td>\n",
              "      <td>0.048864</td>\n",
              "      <td>0.198228</td>\n",
              "      <td>0.132862</td>\n",
              "      <td>0.001217</td>\n",
              "      <td>-0.169031</td>\n",
              "      <td>0.120173</td>\n",
              "      <td>0.153306</td>\n",
              "      <td>0.404974</td>\n",
              "      <td>0.262162</td>\n",
              "      <td>0.119129</td>\n",
              "      <td>0.014269</td>\n",
              "      <td>-0.065269</td>\n",
              "      <td>-0.199050</td>\n",
              "      <td>0.070605</td>\n",
              "      <td>-0.008057</td>\n",
              "      <td>-0.062973</td>\n",
              "      <td>-0.069977</td>\n",
              "      <td>0.217604</td>\n",
              "      <td>0.152290</td>\n",
              "      <td>0.027064</td>\n",
              "      <td>-0.310365</td>\n",
              "      <td>-0.456290</td>\n",
              "      <td>0.448838</td>\n",
              "      <td>0.026482</td>\n",
              "    </tr>\n",
              "    <tr>\n",
              "      <th>2</th>\n",
              "      <td>0.370791</td>\n",
              "      <td>-0.273067</td>\n",
              "      <td>0.238959</td>\n",
              "      <td>0.174110</td>\n",
              "      <td>-0.115733</td>\n",
              "      <td>0.144648</td>\n",
              "      <td>-0.007338</td>\n",
              "      <td>0.120002</td>\n",
              "      <td>0.195573</td>\n",
              "      <td>-0.189133</td>\n",
              "      <td>0.341852</td>\n",
              "      <td>-0.103739</td>\n",
              "      <td>-0.196357</td>\n",
              "      <td>0.040304</td>\n",
              "      <td>-0.034582</td>\n",
              "      <td>-0.000799</td>\n",
              "      <td>0.168817</td>\n",
              "      <td>0.453871</td>\n",
              "      <td>0.081408</td>\n",
              "      <td>0.348736</td>\n",
              "      <td>0.175110</td>\n",
              "      <td>0.199206</td>\n",
              "      <td>-0.035565</td>\n",
              "      <td>0.324802</td>\n",
              "      <td>-0.467981</td>\n",
              "      <td>0.040482</td>\n",
              "      <td>0.120221</td>\n",
              "      <td>-0.048395</td>\n",
              "      <td>-0.015371</td>\n",
              "      <td>-0.448208</td>\n",
              "      <td>0.152569</td>\n",
              "      <td>0.145809</td>\n",
              "      <td>0.142582</td>\n",
              "      <td>0.032096</td>\n",
              "      <td>0.061586</td>\n",
              "      <td>-0.023076</td>\n",
              "      <td>-0.616483</td>\n",
              "      <td>-0.072392</td>\n",
              "      <td>-0.057642</td>\n",
              "      <td>0.417420</td>\n",
              "      <td>...</td>\n",
              "      <td>0.341243</td>\n",
              "      <td>-0.677256</td>\n",
              "      <td>0.081699</td>\n",
              "      <td>0.268046</td>\n",
              "      <td>-0.273065</td>\n",
              "      <td>-0.011812</td>\n",
              "      <td>-0.191319</td>\n",
              "      <td>0.031821</td>\n",
              "      <td>-0.043856</td>\n",
              "      <td>-0.111805</td>\n",
              "      <td>0.064160</td>\n",
              "      <td>-0.617394</td>\n",
              "      <td>-0.039320</td>\n",
              "      <td>-0.097739</td>\n",
              "      <td>0.273153</td>\n",
              "      <td>-0.060483</td>\n",
              "      <td>0.474120</td>\n",
              "      <td>-0.128125</td>\n",
              "      <td>-0.067713</td>\n",
              "      <td>-0.724447</td>\n",
              "      <td>0.146870</td>\n",
              "      <td>0.239801</td>\n",
              "      <td>0.038259</td>\n",
              "      <td>0.516455</td>\n",
              "      <td>-0.000839</td>\n",
              "      <td>-0.127000</td>\n",
              "      <td>0.405443</td>\n",
              "      <td>-0.061591</td>\n",
              "      <td>-0.037195</td>\n",
              "      <td>0.314634</td>\n",
              "      <td>0.567447</td>\n",
              "      <td>-0.139371</td>\n",
              "      <td>-0.078860</td>\n",
              "      <td>-0.069783</td>\n",
              "      <td>0.029277</td>\n",
              "      <td>-0.134342</td>\n",
              "      <td>-0.120016</td>\n",
              "      <td>0.339187</td>\n",
              "      <td>0.082663</td>\n",
              "      <td>-0.019762</td>\n",
              "    </tr>\n",
              "    <tr>\n",
              "      <th>3</th>\n",
              "      <td>-0.057185</td>\n",
              "      <td>-0.377672</td>\n",
              "      <td>-0.019924</td>\n",
              "      <td>0.239006</td>\n",
              "      <td>0.507050</td>\n",
              "      <td>-0.287964</td>\n",
              "      <td>0.084727</td>\n",
              "      <td>-0.000161</td>\n",
              "      <td>-0.060028</td>\n",
              "      <td>-0.153777</td>\n",
              "      <td>0.223999</td>\n",
              "      <td>0.478354</td>\n",
              "      <td>-0.019082</td>\n",
              "      <td>-0.007951</td>\n",
              "      <td>0.293757</td>\n",
              "      <td>-0.292060</td>\n",
              "      <td>-0.020045</td>\n",
              "      <td>-0.043781</td>\n",
              "      <td>-0.976526</td>\n",
              "      <td>-0.081257</td>\n",
              "      <td>0.238880</td>\n",
              "      <td>-0.581388</td>\n",
              "      <td>-0.178126</td>\n",
              "      <td>0.101675</td>\n",
              "      <td>-0.339667</td>\n",
              "      <td>0.506702</td>\n",
              "      <td>-0.082808</td>\n",
              "      <td>0.181512</td>\n",
              "      <td>0.003419</td>\n",
              "      <td>0.107751</td>\n",
              "      <td>-0.021166</td>\n",
              "      <td>0.578599</td>\n",
              "      <td>0.447649</td>\n",
              "      <td>0.278196</td>\n",
              "      <td>-0.325932</td>\n",
              "      <td>0.239426</td>\n",
              "      <td>-0.194389</td>\n",
              "      <td>-0.093561</td>\n",
              "      <td>-0.029024</td>\n",
              "      <td>0.200891</td>\n",
              "      <td>...</td>\n",
              "      <td>0.420022</td>\n",
              "      <td>-0.130109</td>\n",
              "      <td>0.083149</td>\n",
              "      <td>-0.097745</td>\n",
              "      <td>-0.078376</td>\n",
              "      <td>0.169364</td>\n",
              "      <td>-0.074003</td>\n",
              "      <td>-0.161909</td>\n",
              "      <td>-0.485903</td>\n",
              "      <td>0.219006</td>\n",
              "      <td>0.031577</td>\n",
              "      <td>-0.088933</td>\n",
              "      <td>0.021559</td>\n",
              "      <td>0.278127</td>\n",
              "      <td>0.400355</td>\n",
              "      <td>0.340015</td>\n",
              "      <td>-0.124058</td>\n",
              "      <td>0.274761</td>\n",
              "      <td>0.143213</td>\n",
              "      <td>0.226003</td>\n",
              "      <td>-0.133446</td>\n",
              "      <td>-0.160867</td>\n",
              "      <td>0.085032</td>\n",
              "      <td>0.152418</td>\n",
              "      <td>0.043778</td>\n",
              "      <td>0.281033</td>\n",
              "      <td>-0.161714</td>\n",
              "      <td>-0.074483</td>\n",
              "      <td>0.035859</td>\n",
              "      <td>0.205031</td>\n",
              "      <td>0.436852</td>\n",
              "      <td>-0.131054</td>\n",
              "      <td>-0.051345</td>\n",
              "      <td>0.480604</td>\n",
              "      <td>0.263148</td>\n",
              "      <td>0.148792</td>\n",
              "      <td>-0.074208</td>\n",
              "      <td>0.072367</td>\n",
              "      <td>0.022141</td>\n",
              "      <td>-0.209383</td>\n",
              "    </tr>\n",
              "    <tr>\n",
              "      <th>4</th>\n",
              "      <td>0.423484</td>\n",
              "      <td>-0.046954</td>\n",
              "      <td>-0.461334</td>\n",
              "      <td>-0.083205</td>\n",
              "      <td>0.201269</td>\n",
              "      <td>-0.369531</td>\n",
              "      <td>0.053179</td>\n",
              "      <td>0.224091</td>\n",
              "      <td>0.277959</td>\n",
              "      <td>-0.325849</td>\n",
              "      <td>0.266329</td>\n",
              "      <td>0.354226</td>\n",
              "      <td>-0.148947</td>\n",
              "      <td>0.021900</td>\n",
              "      <td>0.473608</td>\n",
              "      <td>0.082254</td>\n",
              "      <td>-0.534209</td>\n",
              "      <td>-0.214039</td>\n",
              "      <td>0.034110</td>\n",
              "      <td>0.178566</td>\n",
              "      <td>-0.001790</td>\n",
              "      <td>-0.288302</td>\n",
              "      <td>0.043625</td>\n",
              "      <td>-0.139819</td>\n",
              "      <td>-0.369506</td>\n",
              "      <td>0.008965</td>\n",
              "      <td>0.150013</td>\n",
              "      <td>0.013363</td>\n",
              "      <td>0.188133</td>\n",
              "      <td>-0.362982</td>\n",
              "      <td>-0.381427</td>\n",
              "      <td>-0.294562</td>\n",
              "      <td>0.112385</td>\n",
              "      <td>-0.103908</td>\n",
              "      <td>-0.065429</td>\n",
              "      <td>-0.188141</td>\n",
              "      <td>0.318131</td>\n",
              "      <td>0.136223</td>\n",
              "      <td>-0.234853</td>\n",
              "      <td>0.766396</td>\n",
              "      <td>...</td>\n",
              "      <td>0.518604</td>\n",
              "      <td>-0.208979</td>\n",
              "      <td>-0.071018</td>\n",
              "      <td>0.574787</td>\n",
              "      <td>-0.355853</td>\n",
              "      <td>0.088823</td>\n",
              "      <td>-0.008024</td>\n",
              "      <td>0.119651</td>\n",
              "      <td>-0.117072</td>\n",
              "      <td>-0.400724</td>\n",
              "      <td>-0.005077</td>\n",
              "      <td>-0.613250</td>\n",
              "      <td>0.153882</td>\n",
              "      <td>0.037637</td>\n",
              "      <td>0.106701</td>\n",
              "      <td>-0.471858</td>\n",
              "      <td>0.424844</td>\n",
              "      <td>-0.162491</td>\n",
              "      <td>0.544205</td>\n",
              "      <td>0.064379</td>\n",
              "      <td>-0.230286</td>\n",
              "      <td>0.195481</td>\n",
              "      <td>0.429661</td>\n",
              "      <td>0.192543</td>\n",
              "      <td>0.210366</td>\n",
              "      <td>0.409177</td>\n",
              "      <td>-0.365520</td>\n",
              "      <td>-0.058794</td>\n",
              "      <td>-0.013429</td>\n",
              "      <td>0.062266</td>\n",
              "      <td>-0.244033</td>\n",
              "      <td>-0.219897</td>\n",
              "      <td>0.497654</td>\n",
              "      <td>0.475272</td>\n",
              "      <td>0.280475</td>\n",
              "      <td>0.025185</td>\n",
              "      <td>-0.262280</td>\n",
              "      <td>-0.791985</td>\n",
              "      <td>0.312633</td>\n",
              "      <td>0.001002</td>\n",
              "    </tr>\n",
              "    <tr>\n",
              "      <th>...</th>\n",
              "      <td>...</td>\n",
              "      <td>...</td>\n",
              "      <td>...</td>\n",
              "      <td>...</td>\n",
              "      <td>...</td>\n",
              "      <td>...</td>\n",
              "      <td>...</td>\n",
              "      <td>...</td>\n",
              "      <td>...</td>\n",
              "      <td>...</td>\n",
              "      <td>...</td>\n",
              "      <td>...</td>\n",
              "      <td>...</td>\n",
              "      <td>...</td>\n",
              "      <td>...</td>\n",
              "      <td>...</td>\n",
              "      <td>...</td>\n",
              "      <td>...</td>\n",
              "      <td>...</td>\n",
              "      <td>...</td>\n",
              "      <td>...</td>\n",
              "      <td>...</td>\n",
              "      <td>...</td>\n",
              "      <td>...</td>\n",
              "      <td>...</td>\n",
              "      <td>...</td>\n",
              "      <td>...</td>\n",
              "      <td>...</td>\n",
              "      <td>...</td>\n",
              "      <td>...</td>\n",
              "      <td>...</td>\n",
              "      <td>...</td>\n",
              "      <td>...</td>\n",
              "      <td>...</td>\n",
              "      <td>...</td>\n",
              "      <td>...</td>\n",
              "      <td>...</td>\n",
              "      <td>...</td>\n",
              "      <td>...</td>\n",
              "      <td>...</td>\n",
              "      <td>...</td>\n",
              "      <td>...</td>\n",
              "      <td>...</td>\n",
              "      <td>...</td>\n",
              "      <td>...</td>\n",
              "      <td>...</td>\n",
              "      <td>...</td>\n",
              "      <td>...</td>\n",
              "      <td>...</td>\n",
              "      <td>...</td>\n",
              "      <td>...</td>\n",
              "      <td>...</td>\n",
              "      <td>...</td>\n",
              "      <td>...</td>\n",
              "      <td>...</td>\n",
              "      <td>...</td>\n",
              "      <td>...</td>\n",
              "      <td>...</td>\n",
              "      <td>...</td>\n",
              "      <td>...</td>\n",
              "      <td>...</td>\n",
              "      <td>...</td>\n",
              "      <td>...</td>\n",
              "      <td>...</td>\n",
              "      <td>...</td>\n",
              "      <td>...</td>\n",
              "      <td>...</td>\n",
              "      <td>...</td>\n",
              "      <td>...</td>\n",
              "      <td>...</td>\n",
              "      <td>...</td>\n",
              "      <td>...</td>\n",
              "      <td>...</td>\n",
              "      <td>...</td>\n",
              "      <td>...</td>\n",
              "      <td>...</td>\n",
              "      <td>...</td>\n",
              "      <td>...</td>\n",
              "      <td>...</td>\n",
              "      <td>...</td>\n",
              "      <td>...</td>\n",
              "    </tr>\n",
              "    <tr>\n",
              "      <th>4995</th>\n",
              "      <td>0.674686</td>\n",
              "      <td>0.006391</td>\n",
              "      <td>-0.190739</td>\n",
              "      <td>0.368271</td>\n",
              "      <td>-0.011118</td>\n",
              "      <td>0.135499</td>\n",
              "      <td>-0.354519</td>\n",
              "      <td>0.342820</td>\n",
              "      <td>-0.103071</td>\n",
              "      <td>-0.311151</td>\n",
              "      <td>-0.595907</td>\n",
              "      <td>0.576999</td>\n",
              "      <td>-0.394083</td>\n",
              "      <td>0.084838</td>\n",
              "      <td>-0.395940</td>\n",
              "      <td>-0.019133</td>\n",
              "      <td>1.365088</td>\n",
              "      <td>0.006058</td>\n",
              "      <td>-0.156521</td>\n",
              "      <td>0.128798</td>\n",
              "      <td>-0.201170</td>\n",
              "      <td>0.080295</td>\n",
              "      <td>-0.598835</td>\n",
              "      <td>-0.067480</td>\n",
              "      <td>-0.171827</td>\n",
              "      <td>-0.152914</td>\n",
              "      <td>1.026085</td>\n",
              "      <td>0.212108</td>\n",
              "      <td>-0.271256</td>\n",
              "      <td>-0.385407</td>\n",
              "      <td>-0.161275</td>\n",
              "      <td>0.003044</td>\n",
              "      <td>0.060760</td>\n",
              "      <td>-0.146228</td>\n",
              "      <td>-0.083353</td>\n",
              "      <td>-0.894461</td>\n",
              "      <td>-0.373214</td>\n",
              "      <td>0.644093</td>\n",
              "      <td>0.505097</td>\n",
              "      <td>0.581549</td>\n",
              "      <td>...</td>\n",
              "      <td>0.468050</td>\n",
              "      <td>-0.023820</td>\n",
              "      <td>0.369623</td>\n",
              "      <td>0.381046</td>\n",
              "      <td>-0.297307</td>\n",
              "      <td>0.643520</td>\n",
              "      <td>-0.236703</td>\n",
              "      <td>0.218685</td>\n",
              "      <td>0.500474</td>\n",
              "      <td>0.223758</td>\n",
              "      <td>-0.579374</td>\n",
              "      <td>-0.412497</td>\n",
              "      <td>0.179358</td>\n",
              "      <td>-0.521601</td>\n",
              "      <td>-0.226984</td>\n",
              "      <td>-0.434060</td>\n",
              "      <td>-0.048995</td>\n",
              "      <td>0.474769</td>\n",
              "      <td>0.087458</td>\n",
              "      <td>-0.213492</td>\n",
              "      <td>0.369942</td>\n",
              "      <td>-0.719153</td>\n",
              "      <td>-0.004465</td>\n",
              "      <td>-0.275790</td>\n",
              "      <td>0.543000</td>\n",
              "      <td>0.550939</td>\n",
              "      <td>-0.222792</td>\n",
              "      <td>-0.789212</td>\n",
              "      <td>-0.335098</td>\n",
              "      <td>0.243917</td>\n",
              "      <td>0.088686</td>\n",
              "      <td>0.042400</td>\n",
              "      <td>0.661325</td>\n",
              "      <td>-0.146080</td>\n",
              "      <td>-0.162353</td>\n",
              "      <td>-0.477722</td>\n",
              "      <td>-0.248675</td>\n",
              "      <td>-0.238122</td>\n",
              "      <td>0.226789</td>\n",
              "      <td>-0.079706</td>\n",
              "    </tr>\n",
              "    <tr>\n",
              "      <th>4996</th>\n",
              "      <td>0.396205</td>\n",
              "      <td>-0.169408</td>\n",
              "      <td>-0.180332</td>\n",
              "      <td>0.468750</td>\n",
              "      <td>0.050228</td>\n",
              "      <td>-0.035904</td>\n",
              "      <td>-0.157032</td>\n",
              "      <td>0.309074</td>\n",
              "      <td>0.251666</td>\n",
              "      <td>-0.071448</td>\n",
              "      <td>-0.101479</td>\n",
              "      <td>-0.032537</td>\n",
              "      <td>-0.203768</td>\n",
              "      <td>-0.004700</td>\n",
              "      <td>0.124595</td>\n",
              "      <td>0.131971</td>\n",
              "      <td>0.265693</td>\n",
              "      <td>-0.270602</td>\n",
              "      <td>0.154717</td>\n",
              "      <td>-0.047313</td>\n",
              "      <td>-0.001180</td>\n",
              "      <td>0.072328</td>\n",
              "      <td>-0.343509</td>\n",
              "      <td>0.562044</td>\n",
              "      <td>0.299487</td>\n",
              "      <td>0.152984</td>\n",
              "      <td>-0.044277</td>\n",
              "      <td>0.042675</td>\n",
              "      <td>-0.200007</td>\n",
              "      <td>0.162992</td>\n",
              "      <td>-0.096279</td>\n",
              "      <td>0.003180</td>\n",
              "      <td>0.335122</td>\n",
              "      <td>0.041727</td>\n",
              "      <td>-0.367503</td>\n",
              "      <td>-0.311663</td>\n",
              "      <td>-0.114111</td>\n",
              "      <td>-0.331202</td>\n",
              "      <td>-0.151915</td>\n",
              "      <td>0.235461</td>\n",
              "      <td>...</td>\n",
              "      <td>-0.082645</td>\n",
              "      <td>-0.171729</td>\n",
              "      <td>0.213960</td>\n",
              "      <td>0.683300</td>\n",
              "      <td>-0.020771</td>\n",
              "      <td>0.048601</td>\n",
              "      <td>0.047546</td>\n",
              "      <td>0.079570</td>\n",
              "      <td>0.297345</td>\n",
              "      <td>0.116317</td>\n",
              "      <td>0.147189</td>\n",
              "      <td>-0.193615</td>\n",
              "      <td>0.335956</td>\n",
              "      <td>-0.219027</td>\n",
              "      <td>0.093360</td>\n",
              "      <td>-0.191009</td>\n",
              "      <td>0.114662</td>\n",
              "      <td>0.359377</td>\n",
              "      <td>0.082703</td>\n",
              "      <td>-0.262752</td>\n",
              "      <td>-0.508790</td>\n",
              "      <td>0.137400</td>\n",
              "      <td>0.089147</td>\n",
              "      <td>0.189642</td>\n",
              "      <td>0.260474</td>\n",
              "      <td>-0.136785</td>\n",
              "      <td>0.211747</td>\n",
              "      <td>-0.295291</td>\n",
              "      <td>-0.412986</td>\n",
              "      <td>0.020964</td>\n",
              "      <td>0.057949</td>\n",
              "      <td>0.302313</td>\n",
              "      <td>0.113244</td>\n",
              "      <td>0.396787</td>\n",
              "      <td>0.585022</td>\n",
              "      <td>0.042025</td>\n",
              "      <td>-0.314114</td>\n",
              "      <td>-0.069755</td>\n",
              "      <td>0.271585</td>\n",
              "      <td>0.011529</td>\n",
              "    </tr>\n",
              "    <tr>\n",
              "      <th>4997</th>\n",
              "      <td>0.364467</td>\n",
              "      <td>-0.353674</td>\n",
              "      <td>-0.070563</td>\n",
              "      <td>0.141014</td>\n",
              "      <td>0.279088</td>\n",
              "      <td>-0.716370</td>\n",
              "      <td>-0.037092</td>\n",
              "      <td>-0.003573</td>\n",
              "      <td>0.550817</td>\n",
              "      <td>-0.279935</td>\n",
              "      <td>0.503336</td>\n",
              "      <td>-0.152819</td>\n",
              "      <td>0.125651</td>\n",
              "      <td>0.249727</td>\n",
              "      <td>-0.110875</td>\n",
              "      <td>-0.074054</td>\n",
              "      <td>0.003668</td>\n",
              "      <td>-0.057915</td>\n",
              "      <td>-0.395823</td>\n",
              "      <td>-0.272817</td>\n",
              "      <td>-0.432206</td>\n",
              "      <td>-0.176859</td>\n",
              "      <td>0.118869</td>\n",
              "      <td>0.528854</td>\n",
              "      <td>0.058957</td>\n",
              "      <td>0.118648</td>\n",
              "      <td>0.195717</td>\n",
              "      <td>0.666138</td>\n",
              "      <td>-0.582853</td>\n",
              "      <td>-0.537281</td>\n",
              "      <td>0.027870</td>\n",
              "      <td>-0.050712</td>\n",
              "      <td>0.781589</td>\n",
              "      <td>0.606431</td>\n",
              "      <td>-0.382692</td>\n",
              "      <td>0.167107</td>\n",
              "      <td>0.168827</td>\n",
              "      <td>-0.152005</td>\n",
              "      <td>-0.230275</td>\n",
              "      <td>0.593271</td>\n",
              "      <td>...</td>\n",
              "      <td>0.622081</td>\n",
              "      <td>-0.121794</td>\n",
              "      <td>-0.291809</td>\n",
              "      <td>0.080878</td>\n",
              "      <td>-0.074194</td>\n",
              "      <td>-0.079491</td>\n",
              "      <td>-0.048000</td>\n",
              "      <td>0.033659</td>\n",
              "      <td>0.294749</td>\n",
              "      <td>-0.428894</td>\n",
              "      <td>-0.160700</td>\n",
              "      <td>-1.142409</td>\n",
              "      <td>0.859532</td>\n",
              "      <td>0.031795</td>\n",
              "      <td>-0.049366</td>\n",
              "      <td>-0.071275</td>\n",
              "      <td>0.031803</td>\n",
              "      <td>-0.289551</td>\n",
              "      <td>-0.382717</td>\n",
              "      <td>-0.062072</td>\n",
              "      <td>-0.444710</td>\n",
              "      <td>-0.085130</td>\n",
              "      <td>0.009698</td>\n",
              "      <td>-0.512998</td>\n",
              "      <td>-0.122936</td>\n",
              "      <td>0.155894</td>\n",
              "      <td>-0.077274</td>\n",
              "      <td>-0.408430</td>\n",
              "      <td>0.016398</td>\n",
              "      <td>-0.022054</td>\n",
              "      <td>-0.167646</td>\n",
              "      <td>0.078846</td>\n",
              "      <td>-0.043875</td>\n",
              "      <td>0.251417</td>\n",
              "      <td>0.032731</td>\n",
              "      <td>-0.100870</td>\n",
              "      <td>-0.119477</td>\n",
              "      <td>0.014867</td>\n",
              "      <td>0.515396</td>\n",
              "      <td>0.064897</td>\n",
              "    </tr>\n",
              "    <tr>\n",
              "      <th>4998</th>\n",
              "      <td>0.505106</td>\n",
              "      <td>-0.046222</td>\n",
              "      <td>0.078472</td>\n",
              "      <td>0.285825</td>\n",
              "      <td>0.073173</td>\n",
              "      <td>0.090173</td>\n",
              "      <td>0.111479</td>\n",
              "      <td>-0.170775</td>\n",
              "      <td>0.205882</td>\n",
              "      <td>-0.010742</td>\n",
              "      <td>0.152244</td>\n",
              "      <td>-0.301650</td>\n",
              "      <td>0.003672</td>\n",
              "      <td>-0.127675</td>\n",
              "      <td>-0.027447</td>\n",
              "      <td>-0.401605</td>\n",
              "      <td>0.073184</td>\n",
              "      <td>0.004761</td>\n",
              "      <td>-0.319297</td>\n",
              "      <td>-0.108272</td>\n",
              "      <td>0.171719</td>\n",
              "      <td>-0.266295</td>\n",
              "      <td>-0.121345</td>\n",
              "      <td>-0.120597</td>\n",
              "      <td>-0.189476</td>\n",
              "      <td>0.323632</td>\n",
              "      <td>0.368470</td>\n",
              "      <td>-0.209741</td>\n",
              "      <td>0.178892</td>\n",
              "      <td>-0.571734</td>\n",
              "      <td>-0.175011</td>\n",
              "      <td>0.093704</td>\n",
              "      <td>0.280775</td>\n",
              "      <td>-0.194553</td>\n",
              "      <td>-0.284080</td>\n",
              "      <td>0.090220</td>\n",
              "      <td>0.041312</td>\n",
              "      <td>0.072699</td>\n",
              "      <td>0.419015</td>\n",
              "      <td>0.143241</td>\n",
              "      <td>...</td>\n",
              "      <td>0.268796</td>\n",
              "      <td>-0.160058</td>\n",
              "      <td>0.106774</td>\n",
              "      <td>-0.058239</td>\n",
              "      <td>-0.154184</td>\n",
              "      <td>0.023692</td>\n",
              "      <td>0.302281</td>\n",
              "      <td>0.124011</td>\n",
              "      <td>0.322181</td>\n",
              "      <td>-0.294559</td>\n",
              "      <td>-0.077135</td>\n",
              "      <td>-0.220441</td>\n",
              "      <td>-0.001494</td>\n",
              "      <td>-0.283613</td>\n",
              "      <td>0.140717</td>\n",
              "      <td>-0.117975</td>\n",
              "      <td>0.055331</td>\n",
              "      <td>0.077893</td>\n",
              "      <td>-0.074552</td>\n",
              "      <td>0.080457</td>\n",
              "      <td>-0.254424</td>\n",
              "      <td>-0.099286</td>\n",
              "      <td>-0.131264</td>\n",
              "      <td>0.284390</td>\n",
              "      <td>0.554912</td>\n",
              "      <td>-0.118993</td>\n",
              "      <td>-0.289830</td>\n",
              "      <td>-0.015231</td>\n",
              "      <td>-0.193498</td>\n",
              "      <td>-0.331113</td>\n",
              "      <td>-0.265659</td>\n",
              "      <td>-0.040956</td>\n",
              "      <td>-0.033572</td>\n",
              "      <td>0.087339</td>\n",
              "      <td>0.010320</td>\n",
              "      <td>0.229054</td>\n",
              "      <td>0.260677</td>\n",
              "      <td>-0.046508</td>\n",
              "      <td>-0.199225</td>\n",
              "      <td>-0.250869</td>\n",
              "    </tr>\n",
              "    <tr>\n",
              "      <th>4999</th>\n",
              "      <td>0.139319</td>\n",
              "      <td>0.421238</td>\n",
              "      <td>-0.192443</td>\n",
              "      <td>-0.043998</td>\n",
              "      <td>0.302745</td>\n",
              "      <td>0.157363</td>\n",
              "      <td>-0.345259</td>\n",
              "      <td>0.023792</td>\n",
              "      <td>0.064338</td>\n",
              "      <td>-0.026897</td>\n",
              "      <td>-0.112796</td>\n",
              "      <td>0.278980</td>\n",
              "      <td>-0.042227</td>\n",
              "      <td>-0.442027</td>\n",
              "      <td>0.086852</td>\n",
              "      <td>-0.322006</td>\n",
              "      <td>0.281551</td>\n",
              "      <td>-0.307842</td>\n",
              "      <td>-0.271955</td>\n",
              "      <td>-0.569548</td>\n",
              "      <td>0.049233</td>\n",
              "      <td>-0.270722</td>\n",
              "      <td>-0.168699</td>\n",
              "      <td>0.093385</td>\n",
              "      <td>0.216804</td>\n",
              "      <td>0.251579</td>\n",
              "      <td>0.540884</td>\n",
              "      <td>-0.039118</td>\n",
              "      <td>-0.426959</td>\n",
              "      <td>0.344007</td>\n",
              "      <td>-0.420493</td>\n",
              "      <td>0.384480</td>\n",
              "      <td>0.280022</td>\n",
              "      <td>0.131636</td>\n",
              "      <td>-0.283390</td>\n",
              "      <td>-0.248212</td>\n",
              "      <td>-0.074509</td>\n",
              "      <td>-0.077191</td>\n",
              "      <td>0.095522</td>\n",
              "      <td>0.520481</td>\n",
              "      <td>...</td>\n",
              "      <td>-0.001035</td>\n",
              "      <td>-0.182267</td>\n",
              "      <td>0.263463</td>\n",
              "      <td>-0.176852</td>\n",
              "      <td>-0.516571</td>\n",
              "      <td>0.338297</td>\n",
              "      <td>0.245048</td>\n",
              "      <td>0.108236</td>\n",
              "      <td>0.071997</td>\n",
              "      <td>-0.134752</td>\n",
              "      <td>-0.086474</td>\n",
              "      <td>-0.243863</td>\n",
              "      <td>0.191472</td>\n",
              "      <td>0.197104</td>\n",
              "      <td>-0.255736</td>\n",
              "      <td>0.217093</td>\n",
              "      <td>0.253809</td>\n",
              "      <td>0.367286</td>\n",
              "      <td>0.044994</td>\n",
              "      <td>-0.104127</td>\n",
              "      <td>-0.773628</td>\n",
              "      <td>0.046881</td>\n",
              "      <td>-0.010427</td>\n",
              "      <td>0.124931</td>\n",
              "      <td>0.097683</td>\n",
              "      <td>-0.042332</td>\n",
              "      <td>-0.178546</td>\n",
              "      <td>-0.312747</td>\n",
              "      <td>-0.144893</td>\n",
              "      <td>0.270730</td>\n",
              "      <td>-0.286693</td>\n",
              "      <td>-0.255722</td>\n",
              "      <td>0.019505</td>\n",
              "      <td>0.074841</td>\n",
              "      <td>-0.223821</td>\n",
              "      <td>-0.029568</td>\n",
              "      <td>-0.399749</td>\n",
              "      <td>-0.232633</td>\n",
              "      <td>-0.328207</td>\n",
              "      <td>-0.055986</td>\n",
              "    </tr>\n",
              "  </tbody>\n",
              "</table>\n",
              "<p>5000 rows × 200 columns</p>\n",
              "</div>"
            ],
            "text/plain": [
              "           0         1         2    ...       197       198       199\n",
              "0     0.148191 -0.107102  0.013634  ... -0.265843  0.361245 -0.021812\n",
              "1     0.081201 -0.115719  0.161352  ... -0.456290  0.448838  0.026482\n",
              "2     0.370791 -0.273067  0.238959  ...  0.339187  0.082663 -0.019762\n",
              "3    -0.057185 -0.377672 -0.019924  ...  0.072367  0.022141 -0.209383\n",
              "4     0.423484 -0.046954 -0.461334  ... -0.791985  0.312633  0.001002\n",
              "...        ...       ...       ...  ...       ...       ...       ...\n",
              "4995  0.674686  0.006391 -0.190739  ... -0.238122  0.226789 -0.079706\n",
              "4996  0.396205 -0.169408 -0.180332  ... -0.069755  0.271585  0.011529\n",
              "4997  0.364467 -0.353674 -0.070563  ...  0.014867  0.515396  0.064897\n",
              "4998  0.505106 -0.046222  0.078472  ... -0.046508 -0.199225 -0.250869\n",
              "4999  0.139319  0.421238 -0.192443  ... -0.232633 -0.328207 -0.055986\n",
              "\n",
              "[5000 rows x 200 columns]"
            ]
          },
          "metadata": {
            "tags": []
          },
          "execution_count": 117
        }
      ]
    },
    {
      "cell_type": "code",
      "metadata": {
        "id": "DmS-X5x0YKkD"
      },
      "source": [
        "from sklearn.cluster import DBSCAN "
      ],
      "execution_count": null,
      "outputs": []
    },
    {
      "cell_type": "code",
      "metadata": {
        "id": "PZKheNswZJ73"
      },
      "source": [
        "# Numpy array of all the cluster labels assigned to each data point \n",
        "db_default = DBSCAN(eps = 0.0375, min_samples = 5).fit(wordvec_df) \n",
        "labels = db_default.labels_ "
      ],
      "execution_count": null,
      "outputs": []
    },
    {
      "cell_type": "code",
      "metadata": {
        "id": "Vg4q7Q2ZZOcF",
        "colab": {
          "base_uri": "https://localhost:8080/",
          "height": 1000
        },
        "outputId": "858540a4-287e-4e18-cf2d-a4dafb98bc58"
      },
      "source": [
        "labels"
      ],
      "execution_count": null,
      "outputs": [
        {
          "output_type": "execute_result",
          "data": {
            "text/plain": [
              "array([-1, -1, -1, -1, -1, -1, -1, -1, -1, -1, -1, -1, -1, -1, -1, -1, -1,\n",
              "       -1, -1, -1, -1, -1, -1, -1, -1, -1, -1, -1, -1, -1, -1, -1, -1, -1,\n",
              "       -1, -1, -1, -1, -1, -1, -1, -1, -1, -1, -1, -1, -1, -1, -1, -1, -1,\n",
              "       -1, -1, -1, -1, -1, -1, -1, -1, -1,  0, -1, -1, -1, -1, -1, -1, -1,\n",
              "       -1, -1, -1, -1, -1, -1, -1, -1, -1, -1, -1, -1, -1, -1, -1, -1, -1,\n",
              "       -1, -1, -1, -1, -1, -1, -1, -1, -1, -1, -1, -1, -1, -1, -1, -1, -1,\n",
              "       -1, -1, -1, -1, -1, -1, -1, -1, -1, -1, -1, -1, -1, -1, -1, -1, -1,\n",
              "       -1, -1, -1, -1, -1, -1, -1, -1, -1, -1, -1, -1, -1, -1, -1, -1, -1,\n",
              "       -1, -1, -1,  0, -1, -1, -1, -1, -1, -1, -1, -1, -1, -1, -1, -1, -1,\n",
              "       -1, -1, -1, -1, -1, -1, -1, -1, -1, -1, -1, -1, -1, -1, -1, -1, -1,\n",
              "       -1, -1, -1, -1, -1, -1, -1, -1, -1, -1, -1, -1, -1, -1, -1, -1, -1,\n",
              "       -1, -1, -1, -1, -1, -1, -1, -1, -1, -1, -1, -1, -1, -1, -1, -1, -1,\n",
              "       -1, -1, -1, -1, -1, -1, -1, -1, -1, -1, -1, -1, -1, -1, -1, -1, -1,\n",
              "       -1, -1, -1, -1, -1, -1, -1, -1, -1, -1, -1, -1, -1, -1, -1, -1, -1,\n",
              "       -1, -1, -1, -1, -1, -1, -1, -1, -1, -1,  0, -1, -1, -1, -1, -1, -1,\n",
              "       -1, -1, -1, -1, -1, -1, -1, -1, -1, -1, -1, -1, -1, -1, -1, -1, -1,\n",
              "       -1, -1, -1, -1, -1, -1, -1, -1, -1, -1, -1, -1, -1, -1, -1, -1, -1,\n",
              "       -1, -1, -1, -1, -1, -1, -1, -1, -1, -1, -1,  0, -1, -1, -1, -1, -1,\n",
              "       -1, -1,  0, -1, -1,  0, -1,  0, -1, -1, -1,  0, -1, -1, -1, -1, -1,\n",
              "       -1, -1, -1, -1, -1, -1, -1, -1, -1, -1, -1, -1, -1, -1, -1, -1, -1,\n",
              "        0, -1, -1, -1,  0, -1, -1, -1, -1, -1, -1, -1, -1, -1, -1, -1, -1,\n",
              "       -1, -1, -1, -1, -1, -1, -1, -1, -1, -1, -1, -1, -1, -1, -1, -1, -1,\n",
              "       -1, -1, -1, -1, -1, -1, -1, -1, -1, -1, -1, -1, -1, -1, -1, -1, -1,\n",
              "       -1, -1, -1, -1, -1, -1, -1, -1, -1, -1, -1, -1, -1, -1, -1, -1, -1,\n",
              "       -1, -1, -1, -1, -1, -1, -1, -1, -1, -1,  0, -1, -1,  0, -1, -1, -1,\n",
              "       -1, -1, -1, -1, -1, -1, -1, -1, -1, -1, -1, -1, -1, -1, -1, -1, -1,\n",
              "       -1, -1, -1, -1, -1, -1, -1, -1, -1, -1, -1, -1, -1, -1, -1, -1, -1,\n",
              "       -1, -1, -1, -1, -1, -1, -1, -1, -1, -1, -1, -1, -1, -1, -1, -1, -1,\n",
              "       -1, -1, -1, -1, -1,  0, -1, -1, -1, -1,  0, -1, -1, -1, -1, -1, -1,\n",
              "       -1, -1, -1, -1, -1, -1, -1, -1, -1, -1, -1, -1, -1, -1, -1, -1, -1,\n",
              "       -1, -1, -1, -1, -1, -1, -1, -1, -1, -1, -1, -1, -1, -1, -1, -1, -1,\n",
              "       -1, -1, -1, -1, -1, -1, -1, -1, -1, -1, -1, -1, -1, -1, -1, -1, -1,\n",
              "       -1, -1, -1, -1, -1, -1, -1, -1, -1, -1,  0, -1, -1, -1, -1, -1, -1,\n",
              "       -1,  0, -1, -1, -1, -1, -1, -1, -1, -1, -1, -1, -1, -1, -1, -1, -1,\n",
              "       -1, -1, -1, -1,  0, -1, -1, -1, -1, -1, -1, -1, -1, -1, -1, -1, -1,\n",
              "       -1, -1, -1, -1, -1, -1, -1, -1, -1, -1, -1, -1, -1, -1, -1, -1, -1,\n",
              "       -1, -1, -1, -1, -1, -1, -1, -1, -1, -1, -1, -1, -1, -1, -1, -1, -1,\n",
              "        0, -1, -1, -1, -1, -1, -1, -1, -1, -1, -1, -1, -1, -1, -1, -1, -1,\n",
              "       -1, -1, -1, -1, -1, -1, -1, -1, -1, -1, -1, -1, -1, -1, -1, -1, -1,\n",
              "       -1, -1, -1, -1, -1, -1, -1, -1, -1, -1, -1, -1, -1, -1, -1, -1, -1,\n",
              "        0, -1, -1, -1, -1, -1, -1, -1, -1, -1, -1, -1, -1, -1,  0, -1, -1,\n",
              "       -1, -1, -1, -1, -1, -1, -1,  0, -1, -1, -1, -1, -1, -1, -1, -1, -1,\n",
              "       -1, -1, -1, -1,  0,  0, -1, -1, -1, -1,  0, -1, -1, -1, -1, -1,  0,\n",
              "       -1, -1,  0, -1, -1, -1, -1, -1, -1, -1, -1, -1, -1, -1, -1, -1, -1,\n",
              "       -1,  0,  0, -1, -1, -1, -1, -1, -1, -1, -1, -1, -1, -1, -1, -1, -1,\n",
              "       -1, -1,  0, -1, -1, -1, -1,  0, -1, -1, -1, -1, -1, -1, -1, -1, -1,\n",
              "       -1, -1, -1, -1, -1, -1,  0, -1, -1,  0, -1, -1, -1, -1, -1, -1, -1,\n",
              "       -1, -1,  0, -1, -1, -1, -1,  0, -1,  0, -1, -1, -1, -1, -1, -1, -1,\n",
              "       -1, -1, -1, -1, -1, -1, -1, -1, -1, -1, -1,  0, -1, -1, -1, -1,  0,\n",
              "       -1, -1, -1,  0, -1, -1,  0, -1, -1, -1, -1, -1, -1, -1, -1, -1, -1,\n",
              "       -1, -1,  0,  0, -1, -1,  0, -1, -1, -1, -1, -1, -1, -1, -1, -1,  0,\n",
              "       -1, -1, -1, -1, -1, -1, -1,  0,  0, -1, -1,  0, -1, -1, -1,  0, -1,\n",
              "        0, -1, -1, -1, -1, -1, -1, -1, -1, -1, -1,  0, -1, -1, -1, -1, -1,\n",
              "       -1, -1,  0, -1, -1,  0,  0, -1, -1, -1, -1, -1, -1,  0, -1, -1, -1,\n",
              "       -1, -1, -1, -1, -1, -1, -1,  0, -1,  0, -1, -1, -1, -1, -1, -1, -1,\n",
              "       -1, -1, -1, -1, -1, -1, -1, -1,  0, -1, -1, -1,  0, -1, -1, -1,  0,\n",
              "       -1, -1, -1,  0, -1, -1, -1, -1, -1,  0, -1,  0, -1, -1, -1, -1, -1,\n",
              "       -1, -1, -1, -1, -1, -1, -1,  0, -1, -1, -1, -1, -1, -1, -1, -1, -1,\n",
              "       -1, -1, -1, -1, -1,  0, -1, -1, -1, -1, -1, -1, -1, -1])"
            ]
          },
          "metadata": {
            "tags": []
          },
          "execution_count": 35
        }
      ]
    },
    {
      "cell_type": "code",
      "metadata": {
        "id": "MM5B9UN7Zhi-"
      },
      "source": [
        "#kmeans clustering\n",
        "from sklearn.cluster import KMeans"
      ],
      "execution_count": null,
      "outputs": []
    },
    {
      "cell_type": "code",
      "metadata": {
        "id": "Evg54WgXjrct"
      },
      "source": [
        "kmeans = KMeans(n_clusters=5, random_state=0).fit(wordvec_df)"
      ],
      "execution_count": null,
      "outputs": []
    },
    {
      "cell_type": "code",
      "metadata": {
        "id": "iZBodAY1j34t",
        "colab": {
          "base_uri": "https://localhost:8080/",
          "height": 34
        },
        "outputId": "0b3534f1-bbcb-4405-ddc1-e49402e54c8e"
      },
      "source": [
        "kmeans.labels_"
      ],
      "execution_count": null,
      "outputs": [
        {
          "output_type": "execute_result",
          "data": {
            "text/plain": [
              "array([0, 3, 3, ..., 1, 3, 4], dtype=int32)"
            ]
          },
          "metadata": {
            "tags": []
          },
          "execution_count": 120
        }
      ]
    },
    {
      "cell_type": "code",
      "metadata": {
        "id": "OJonOIA2lOq_"
      },
      "source": [
        "#clusters\n",
        "def find_cluster_words(list_words,cluster_no):\n",
        "  cluster_list_words = []\n",
        "  for i in range(len(list(kmeans.labels_))):\n",
        "    if kmeans.labels_[i] == int(cluster_no):\n",
        "      cluster_list_words.append(list_words[i])\n",
        "  return cluster_list_words"
      ],
      "execution_count": null,
      "outputs": []
    },
    {
      "cell_type": "code",
      "metadata": {
        "id": "H5YhQpapmlgB"
      },
      "source": [
        "cluster_0 = find_cluster_words(top_1000_words.words,0)\n",
        "cluster_1 = find_cluster_words(top_1000_words.words,1)\n",
        "cluster_2 = find_cluster_words(top_1000_words.words,2)\n",
        "cluster_3 = find_cluster_words(top_1000_words.words,3)\n",
        "cluster_4 = find_cluster_words(top_1000_words.words,4)"
      ],
      "execution_count": null,
      "outputs": []
    },
    {
      "cell_type": "code",
      "metadata": {
        "id": "pwo0pG4knGv5",
        "colab": {
          "base_uri": "https://localhost:8080/",
          "height": 105
        },
        "outputId": "5fcd1f40-49ef-4d8c-b36d-8ea1d248d89f"
      },
      "source": [
        "print(cluster_0[:12])\n",
        "print(cluster_1[:12])\n",
        "print(cluster_2[:12])\n",
        "print(cluster_3[:12])\n",
        "print(cluster_4[:12])"
      ],
      "execution_count": null,
      "outputs": [
        {
          "output_type": "stream",
          "text": [
            "['book', 'story', 'character', 'life', 'author', 'novel', 'plot', 'world', 'child', 'man', 'woman', 'reader']\n",
            "['diaper', 'month', 'baby', 'piece', 'son', 'size', 'case', 'daughter', 'pampers', 'side', 'toy', 'hand']\n",
            "['orwell', 'keanu', 'weisz', 'joyce', 'kerry', 'ii', 'brokaw', 'wwii', 'boleyn', 'amazoncom', 'mar', 'golding']\n",
            "['movie', 'time', 'cd', 'one', 'film', 'year', 'song', 'album', 'way', 'thing', 'people', 'music']\n",
            "['product', 'dvd', 'money', 'review', 'quality', 'work', 'version', 'problem', 'page', 'amazon', 'price', 'video']\n"
          ],
          "name": "stdout"
        }
      ]
    },
    {
      "cell_type": "code",
      "metadata": {
        "id": "x5yChx3wn99l"
      },
      "source": [
        "from scipy.spatial.distance import cdist \n",
        "import numpy as np \n",
        "import matplotlib.pyplot as plt  "
      ],
      "execution_count": null,
      "outputs": []
    },
    {
      "cell_type": "code",
      "metadata": {
        "id": "aykeeAJvnbOd"
      },
      "source": [
        "distortions = [] \n",
        "inertias = [] \n",
        "mapping1 = {} \n",
        "mapping2 = {} \n",
        "K = range(1,10) \n",
        "  \n",
        "for k in K: \n",
        "    #Building and fitting the model \n",
        "    kmeanModel = KMeans(n_clusters=k).fit(wordvec_df) \n",
        "    kmeanModel.fit(wordvec_df)     \n",
        "      \n",
        "    distortions.append(sum(np.min(cdist(wordvec_df, kmeanModel.cluster_centers_, \n",
        "                      'euclidean'),axis=1)) / len(wordvec_df))\n",
        "    inertias.append(kmeanModel.inertia_) \n",
        "  \n",
        "    mapping1[k] = sum(np.min(cdist(wordvec_df, kmeanModel.cluster_centers_, \n",
        "                 'euclidean'),axis=1)) / len(wordvec_df) \n",
        "    mapping2[k] = kmeanModel.inertia_ "
      ],
      "execution_count": null,
      "outputs": []
    },
    {
      "cell_type": "code",
      "metadata": {
        "id": "MYhbIah8oAgG",
        "colab": {
          "base_uri": "https://localhost:8080/",
          "height": 176
        },
        "outputId": "5737dd7d-95cb-49a0-a119-1682558a6db6"
      },
      "source": [
        "for key,val in mapping1.items(): \n",
        "    print(str(key)+' : '+str(val))"
      ],
      "execution_count": null,
      "outputs": [
        {
          "output_type": "stream",
          "text": [
            "1 : 3.7109500587746655\n",
            "2 : 3.653774989980402\n",
            "3 : 3.446678413871707\n",
            "4 : 3.421032254451932\n",
            "5 : 3.420204981578726\n",
            "6 : 3.3929280058865507\n",
            "7 : 3.4028790887088913\n",
            "8 : 3.3908907842019107\n",
            "9 : 3.3807802523069195\n"
          ],
          "name": "stdout"
        }
      ]
    },
    {
      "cell_type": "code",
      "metadata": {
        "id": "O9xC9DIjoG4u",
        "colab": {
          "base_uri": "https://localhost:8080/",
          "height": 294
        },
        "outputId": "801cf4c3-3845-4dd9-91ee-c98501252692"
      },
      "source": [
        "plt.plot(K, distortions, 'bx-') \n",
        "plt.xlabel('Values of K') \n",
        "plt.ylabel('Distortion') \n",
        "plt.title('The Elbow Method using Distortion') \n",
        "plt.show() "
      ],
      "execution_count": null,
      "outputs": [
        {
          "output_type": "display_data",
          "data": {
            "image/png": "[encoded data removed]",
            "text/plain": [
              "<Figure size 432x288 with 1 Axes>"
            ]
          },
          "metadata": {
            "tags": [],
            "needs_background": "light"
          }
        }
      ]
    },
    {
      "cell_type": "code",
      "metadata": {
        "id": "YLWvExq8oSd1",
        "colab": {
          "base_uri": "https://localhost:8080/",
          "height": 176
        },
        "outputId": "bfc44953-b32d-41b6-c2ec-518a2e350547"
      },
      "source": [
        "for key,val in mapping2.items(): \n",
        "    print(str(key)+' : '+str(val)) "
      ],
      "execution_count": null,
      "outputs": [
        {
          "output_type": "stream",
          "text": [
            "1 : 75036.37322196868\n",
            "2 : 73069.53130338193\n",
            "3 : 71189.12114798298\n",
            "4 : 70215.11733585603\n",
            "5 : 70180.52477967516\n",
            "6 : 69066.74004586022\n",
            "7 : 69502.48663432943\n",
            "8 : 69012.83820846862\n",
            "9 : 68605.19351581011\n"
          ],
          "name": "stdout"
        }
      ]
    },
    {
      "cell_type": "code",
      "metadata": {
        "id": "GV2xcSRroWsl",
        "colab": {
          "base_uri": "https://localhost:8080/",
          "height": 294
        },
        "outputId": "8efa1caf-3d81-4594-dbbe-13733215c245"
      },
      "source": [
        "plt.plot(K, inertias, 'bx-') \n",
        "plt.xlabel('Values of K') \n",
        "plt.ylabel('Inertia') \n",
        "plt.title('The Elbow Method using Inertia') \n",
        "plt.show()"
      ],
      "execution_count": null,
      "outputs": [
        {
          "output_type": "display_data",
          "data": {
            "image/png": "[encoded data removed]",
            "text/plain": [
              "<Figure size 432x288 with 1 Axes>"
            ]
          },
          "metadata": {
            "tags": [],
            "needs_background": "light"
          }
        }
      ]
    },
    {
      "cell_type": "code",
      "metadata": {
        "id": "zg-q_alVZF5x"
      },
      "source": [
        "import pickle\n",
        "pickle.dump(kmeans, open(\"hotel_aspect.pkl\", \"wb\"))"
      ],
      "execution_count": null,
      "outputs": []
    },
    {
      "cell_type": "code",
      "metadata": {
        "id": "azN-kYNEZP4R"
      },
      "source": [
        "kmeans = pickle.load(open(\"hotel_aspect.pkl\", \"rb\"))"
      ],
      "execution_count": null,
      "outputs": []
    },
    {
      "cell_type": "code",
      "metadata": {
        "id": "po1TcYqTZU9R",
        "colab": {
          "base_uri": "https://localhost:8080/",
          "height": 834
        },
        "outputId": "682f45a6-1be2-4289-b7d9-a1c15ff7b925"
      },
      "source": [
        "kmeans.labels_"
      ],
      "execution_count": null,
      "outputs": [
        {
          "output_type": "execute_result",
          "data": {
            "text/plain": [
              "array([4, 2, 1, 3, 0, 3, 3, 2, 4, 2, 4, 3, 1, 2, 4, 0, 2, 4, 1, 4, 3, 3,\n",
              "       0, 1, 3, 0, 2, 4, 2, 3, 0, 4, 4, 1, 3, 3, 2, 3, 2, 3, 4, 0, 1, 1,\n",
              "       4, 4, 0, 3, 2, 3, 4, 4, 4, 0, 2, 3, 3, 4, 3, 0, 4, 3, 4, 2, 3, 1,\n",
              "       2, 2, 0, 4, 0, 3, 3, 3, 0, 3, 3, 2, 2, 4, 0, 2, 3, 3, 0, 2, 2, 3,\n",
              "       2, 3, 4, 1, 4, 0, 2, 4, 0, 3, 0, 0, 2, 2, 2, 3, 4, 1, 3, 3, 1, 1,\n",
              "       4, 3, 3, 2, 2, 2, 3, 4, 3, 3, 4, 3, 2, 3, 2, 4, 0, 1, 2, 0, 0, 4,\n",
              "       0, 0, 4, 3, 0, 4, 3, 4, 3, 2, 2, 2, 2, 1, 4, 2, 2, 2, 2, 4, 2, 2,\n",
              "       2, 4, 0, 2, 2, 4, 2, 1, 0, 0, 3, 3, 1, 4, 4, 0, 0, 0, 2, 2, 3, 3,\n",
              "       4, 2, 4, 0, 0, 2, 3, 3, 3, 3, 2, 3, 0, 3, 2, 2, 3, 2, 2, 3, 1, 2,\n",
              "       2, 4, 2, 4, 3, 2, 2, 2, 2, 0, 2, 1, 0, 3, 0, 2, 2, 4, 0, 0, 0, 3,\n",
              "       4, 4, 0, 4, 4, 2, 3, 1, 3, 0, 4, 1, 4, 1, 4, 3, 3, 4, 2, 2, 4, 3,\n",
              "       1, 2, 4, 2, 3, 0, 4, 2, 3, 2, 1, 0, 2, 3, 1, 4, 4, 3, 3, 1, 2, 2,\n",
              "       2, 2, 0, 4, 2, 2, 3, 2, 0, 3, 4, 3, 2, 2, 0, 0, 3, 3, 3, 2, 2, 3,\n",
              "       4, 0, 3, 4, 4, 1, 4, 0, 3, 0, 2, 2, 2, 2, 4, 0, 2, 1, 1, 1, 0, 0,\n",
              "       4, 3, 4, 4, 2, 4, 4, 2, 3, 4, 2, 4, 3, 3, 1, 2, 4, 1, 2, 4, 0, 2,\n",
              "       1, 4, 3, 3, 2, 0, 4, 3, 3, 4, 4, 2, 3, 3, 4, 0, 4, 0, 4, 3, 0, 0,\n",
              "       0, 0, 1, 3, 0, 2, 3, 4, 1, 0, 3, 2, 3, 2, 0, 4, 2, 2, 4, 1, 1, 2,\n",
              "       2, 4, 3, 0, 1, 4, 2, 2, 2, 0, 0, 4, 2, 4, 0, 0, 0, 3, 0, 4, 2, 3,\n",
              "       4, 4, 2, 4, 0, 2, 3, 3, 0, 0, 1, 3, 4, 3, 2, 2, 4, 4, 4, 2, 0, 4,\n",
              "       4, 1, 4, 4, 4, 2, 3, 0, 4, 0, 2, 3, 2, 2, 3, 4, 4, 3, 4, 4, 3, 3,\n",
              "       2, 4, 0, 2, 3, 0, 2, 4, 0, 2, 2, 2, 3, 2, 4, 2, 2, 3, 2, 3, 2, 2,\n",
              "       3, 4, 0, 0, 4, 2, 3, 0, 3, 4, 4, 3, 0, 0, 3, 2, 3, 4, 4, 4, 4, 3,\n",
              "       4, 2, 4, 1, 2, 2, 3, 4, 2, 4, 2, 3, 4, 2, 2, 4, 3, 1, 1, 1, 3, 3,\n",
              "       2, 4, 4, 2, 4, 3, 3, 3, 3, 3, 3, 1, 3, 2, 4, 4, 4, 4, 4, 3, 2, 3,\n",
              "       3, 4, 3, 3, 2, 2, 0, 2, 1, 3, 3, 0, 2, 1, 4, 1, 4, 4, 2, 3, 3, 3,\n",
              "       0, 1, 4, 2, 4, 4, 2, 2, 2, 4, 0, 4, 4, 0, 0, 2, 0, 3, 2, 2, 4, 4,\n",
              "       0, 1, 4, 3, 4, 1, 4, 0, 4, 0, 4, 0, 4, 4, 4, 4, 3, 3, 3, 2, 3, 0,\n",
              "       4, 4, 1, 4, 1, 3, 1, 3, 1, 3, 2, 1, 3, 2, 1, 0, 0, 3, 2, 2, 2, 1,\n",
              "       2, 2, 3, 2, 4, 2, 2, 4, 3, 3, 4, 0, 0, 4, 1, 4, 1, 2, 2, 1, 2, 4,\n",
              "       1, 3, 1, 1, 0, 3, 0, 2, 2, 2, 4, 3, 4, 2, 0, 2, 2, 0, 1, 3, 2, 2,\n",
              "       4, 2, 2, 3, 0, 3, 3, 2, 3, 3, 0, 2, 1, 2, 2, 3, 2, 1, 2, 2, 4, 1,\n",
              "       3, 2, 0, 3, 4, 2, 0, 2, 1, 3, 0, 0, 4, 2, 2, 0, 2, 3, 3, 2, 4, 0,\n",
              "       4, 2, 0, 4, 0, 2, 4, 0, 2, 3, 3, 0, 1, 2, 4, 4, 3, 4, 4, 1, 4, 4,\n",
              "       2, 1, 1, 4, 4, 3, 4, 4, 0, 3, 4, 2, 0, 0, 2, 3, 3, 2, 2, 4, 3, 0,\n",
              "       1, 4, 4, 0, 3, 2, 2, 2, 1, 2, 1, 2, 4, 0, 3, 2, 4, 2, 2, 4, 0, 0,\n",
              "       3, 2, 4, 4, 4, 3, 4, 3, 2, 3, 4, 4, 2, 0, 4, 2, 3, 0, 4, 4, 2, 4,\n",
              "       1, 0, 1, 0, 4, 2, 4, 0, 4, 4, 4, 3, 0, 0, 4, 2, 4, 4, 4, 3, 1, 1,\n",
              "       2, 3, 3, 2, 3, 4, 4, 0, 4, 3, 2, 0, 3, 4, 4, 3, 2, 4, 4, 3, 3, 3,\n",
              "       4, 0, 3, 4, 3, 1, 3, 3, 0, 3, 3, 4, 4, 1, 2, 2, 4, 4, 2, 3, 4, 0,\n",
              "       1, 0, 2, 3, 3, 3, 2, 2, 4, 4, 1, 3, 2, 4, 0, 2, 4, 4, 1, 3, 4, 3,\n",
              "       3, 3, 4, 4, 4, 4, 2, 4, 3, 0, 3, 0, 3, 1, 1, 4, 0, 4, 3, 2, 0, 4,\n",
              "       1, 4, 0, 1, 4, 4, 2, 0, 3, 3, 3, 0, 4, 2, 2, 2, 0, 0, 0, 0, 4, 4,\n",
              "       0, 4, 4, 4, 2, 0, 4, 4, 3, 1, 3, 3, 1, 0, 4, 3, 2, 4, 4, 4, 3, 2,\n",
              "       2, 4, 2, 3, 0, 4, 4, 4, 2, 4, 4, 4, 0, 3, 1, 4, 0, 4, 3, 1, 4, 2,\n",
              "       4, 4, 3, 4, 4, 2, 4, 4, 4, 4, 4, 2, 1, 1, 2, 2, 2, 4, 2, 4, 0, 3,\n",
              "       4, 4, 1, 3, 2, 4, 3, 4, 2, 2], dtype=int32)"
            ]
          },
          "metadata": {
            "tags": []
          },
          "execution_count": 47
        }
      ]
    },
    {
      "cell_type": "code",
      "metadata": {
        "id": "dz6UrbeZaEgz"
      },
      "source": [
        "with open(\"room_infra_2000.txt\", \"w\") as f:\n",
        "    for s in cluster_1:\n",
        "        f.write(str(s) +\" \")"
      ],
      "execution_count": null,
      "outputs": []
    },
    {
      "cell_type": "code",
      "metadata": {
        "id": "q2AabpY_btO7"
      },
      "source": [
        "with open(\"food_2000.txt\", \"w\") as f:\n",
        "    for s in cluster_3:\n",
        "        f.write(str(s) +\" \")"
      ],
      "execution_count": null,
      "outputs": []
    },
    {
      "cell_type": "code",
      "metadata": {
        "id": "8tqLkW71bzls"
      },
      "source": [
        "with open(\"service_2000.txt\", \"w\") as f:\n",
        "    for s in cluster_4:\n",
        "        f.write(str(s) +\" \")"
      ],
      "execution_count": null,
      "outputs": []
    },
    {
      "cell_type": "code",
      "metadata": {
        "id": "Ri2JlKoLb4Mu"
      },
      "source": [
        "with open(\"location_2000.txt\", \"w\") as f:\n",
        "    for s in cluster_0:\n",
        "        f.write(str(s) +\" \")"
      ],
      "execution_count": null,
      "outputs": []
    },
    {
      "cell_type": "code",
      "metadata": {
        "id": "wpXF5eoJcAeM"
      },
      "source": [
        "with open(\"amenities.txt\", \"w\") as f:\n",
        "    for s in cluster_4:\n",
        "        f.write(str(s) +\" \")"
      ],
      "execution_count": null,
      "outputs": []
    },
    {
      "cell_type": "markdown",
      "metadata": {
        "id": "9grSyh3ky_hM"
      },
      "source": [
        "#### LDA2VEC"
      ]
    },
    {
      "cell_type": "code",
      "metadata": {
        "id": "5xytPCeAzDFj",
        "colab": {
          "base_uri": "https://localhost:8080/",
          "height": 196
        },
        "outputId": "f3ba0d9c-f1b3-473f-da8c-65821b01a763"
      },
      "source": [
        "!pip install LDA2Vec"
      ],
      "execution_count": null,
      "outputs": [
        {
          "output_type": "stream",
          "text": [
            "Collecting LDA2Vec\n",
            "  Downloading https://files.pythonhosted.org/packages/c5/f6/d7ad00a4fd5fc3877344133d737bfc6ccf03fe488f732f15abbf779cdc36/lda2vec-0.16.10.tar.gz\n",
            "Building wheels for collected packages: LDA2Vec\n",
            "  Building wheel for LDA2Vec (setup.py) ... \u001b[?25l\u001b[?25hdone\n",
            "  Created wheel for LDA2Vec: filename=lda2vec-0.16.10-cp36-none-any.whl size=14430 sha256=b5bcbc87e7145015e7f7e87cc7bff717322d50888e4b4307121bc5d0084a5522\n",
            "  Stored in directory: /root/.cache/pip/wheels/73/46/3c/d6d69eaa65fa03389b2d5b2e96bad4d8d09c670bdbab289e61\n",
            "Successfully built LDA2Vec\n",
            "Installing collected packages: LDA2Vec\n",
            "Successfully installed LDA2Vec-0.16.10\n"
          ],
          "name": "stdout"
        }
      ]
    },
    {
      "cell_type": "markdown",
      "metadata": {
        "id": "OK1WA4kDA-QN"
      },
      "source": [
        "#### Research Paper Experiment"
      ]
    },
    {
      "cell_type": "code",
      "metadata": {
        "id": "We404Om8BGAQ"
      },
      "source": [
        "#list of aspects\n",
        "battery = [\"battery\",\"charge\",\"back up\",\"dead\",\"drainage\",\"power\"]\n",
        "display = [\"glass\",\"body\",\"display\",\"screen\",\"fingerprint\",\"watch\",\"touchscreen\",\"sensor\",\"resolution\"]\n",
        "camera = [\"camera\",\"clarity\",\"picture\",\"click\",\"selfi\",\"pixel\"]\n",
        "value_for_money = [\"price\",\"budget\",\"value\",\"money\",\"range\",\"worth\"]\n",
        "performance = [\"performance\",\"heating\",\"lag\",\"RAM\",\"processing\",\"processor\",\"features\",\"operating\"]"
      ],
      "execution_count": null,
      "outputs": []
    },
    {
      "cell_type": "code",
      "metadata": {
        "id": "RwrDFj5dNbXQ"
      },
      "source": [
        "import pandas as pd\n",
        "data = pd.read_csv(\"phone_user_review_file_2.csv\",encoding = \"latin1\")"
      ],
      "execution_count": null,
      "outputs": []
    },
    {
      "cell_type": "code",
      "metadata": {
        "id": "2gvdUBZ8SBOe"
      },
      "source": [
        "data.extract = data.extract.astype(\"str\")"
      ],
      "execution_count": null,
      "outputs": []
    },
    {
      "cell_type": "code",
      "metadata": {
        "id": "FY_yGeUdTvIW",
        "colab": {
          "base_uri": "https://localhost:8080/",
          "height": 212
        },
        "outputId": "d0397186-99a9-49b7-c1fd-fc9f77861a85"
      },
      "source": [
        "data.extract[:10]"
      ],
      "execution_count": null,
      "outputs": [
        {
          "output_type": "execute_result",
          "data": {
            "text/plain": [
              "0    The telephone headset is of poor quality , not...\n",
              "1    This is my first smartphone so I have nothing ...\n",
              "2    Great phone. Battery life not great but seems ...\n",
              "3        Best 90 quid I've ever spent on a smart phone\n",
              "4    I m happy with this phone.it s very good.thx team\n",
              "5    Exelent phone. Evriting perfect. Service is am...\n",
              "6    Great mobile, but contains malware, in the for...\n",
              "7    maneggevole, pratico, veloce, ottime foto........\n",
              "8    Prodotto ECCELLENTE!!! Praticamente perfetto, ...\n",
              "9    Cercavo un telefono che avesse una fotocamera ...\n",
              "Name: extract, dtype: object"
            ]
          },
          "metadata": {
            "tags": []
          },
          "execution_count": 15
        }
      ]
    },
    {
      "cell_type": "code",
      "metadata": {
        "id": "xH0jbdgKTYIp",
        "colab": {
          "base_uri": "https://localhost:8080/",
          "height": 34
        },
        "outputId": "97c3aaff-1fe9-4ebc-8a4f-0245be2249cb"
      },
      "source": [
        "data.shape"
      ],
      "execution_count": null,
      "outputs": [
        {
          "output_type": "execute_result",
          "data": {
            "text/plain": [
              "(114925, 11)"
            ]
          },
          "metadata": {
            "tags": []
          },
          "execution_count": 10
        }
      ]
    },
    {
      "cell_type": "code",
      "metadata": {
        "id": "zTST_LLjT67v",
        "colab": {
          "base_uri": "https://localhost:8080/",
          "height": 232
        },
        "outputId": "b51b496e-1ea2-44d9-b69b-9ab376ec92d0"
      },
      "source": [
        "!pip install langdetect\n",
        "from langdetect import detect"
      ],
      "execution_count": null,
      "outputs": [
        {
          "output_type": "stream",
          "text": [
            "Collecting langdetect\n",
            "\u001b[?25l  Downloading https://files.pythonhosted.org/packages/56/a3/8407c1e62d5980188b4acc45ef3d94b933d14a2ebc9ef3505f22cf772570/langdetect-1.0.8.tar.gz (981kB)\n",
            "\r\u001b[K     |▍                               | 10kB 26.8MB/s eta 0:00:01\r\u001b[K     |▊                               | 20kB 5.9MB/s eta 0:00:01\r\u001b[K     |█                               | 30kB 7.3MB/s eta 0:00:01\r\u001b[K     |█▍                              | 40kB 8.1MB/s eta 0:00:01\r\u001b[K     |█▊                              | 51kB 7.0MB/s eta 0:00:01\r\u001b[K     |██                              | 61kB 7.9MB/s eta 0:00:01\r\u001b[K     |██▍                             | 71kB 8.2MB/s eta 0:00:01\r\u001b[K     |██▊                             | 81kB 8.6MB/s eta 0:00:01\r\u001b[K     |███                             | 92kB 8.8MB/s eta 0:00:01\r\u001b[K     |███▍                            | 102kB 9.2MB/s eta 0:00:01\r\u001b[K     |███▊                            | 112kB 9.2MB/s eta 0:00:01\r\u001b[K     |████                            | 122kB 9.2MB/s eta 0:00:01\r\u001b[K     |████▍                           | 133kB 9.2MB/s eta 0:00:01\r\u001b[K     |████▊                           | 143kB 9.2MB/s eta 0:00:01\r\u001b[K     |█████                           | 153kB 9.2MB/s eta 0:00:01\r\u001b[K     |█████▍                          | 163kB 9.2MB/s eta 0:00:01\r\u001b[K     |█████▊                          | 174kB 9.2MB/s eta 0:00:01\r\u001b[K     |██████                          | 184kB 9.2MB/s eta 0:00:01\r\u001b[K     |██████▍                         | 194kB 9.2MB/s eta 0:00:01\r\u001b[K     |██████▊                         | 204kB 9.2MB/s eta 0:00:01\r\u001b[K     |███████                         | 215kB 9.2MB/s eta 0:00:01\r\u001b[K     |███████▍                        | 225kB 9.2MB/s eta 0:00:01\r\u001b[K     |███████▊                        | 235kB 9.2MB/s eta 0:00:01\r\u001b[K     |████████                        | 245kB 9.2MB/s eta 0:00:01\r\u001b[K     |████████▍                       | 256kB 9.2MB/s eta 0:00:01\r\u001b[K     |████████▊                       | 266kB 9.2MB/s eta 0:00:01\r\u001b[K     |█████████                       | 276kB 9.2MB/s eta 0:00:01\r\u001b[K     |█████████▍                      | 286kB 9.2MB/s eta 0:00:01\r\u001b[K     |█████████▊                      | 296kB 9.2MB/s eta 0:00:01\r\u001b[K     |██████████                      | 307kB 9.2MB/s eta 0:00:01\r\u001b[K     |██████████▍                     | 317kB 9.2MB/s eta 0:00:01\r\u001b[K     |██████████▊                     | 327kB 9.2MB/s eta 0:00:01\r\u001b[K     |███████████                     | 337kB 9.2MB/s eta 0:00:01\r\u001b[K     |███████████▍                    | 348kB 9.2MB/s eta 0:00:01\r\u001b[K     |███████████▊                    | 358kB 9.2MB/s eta 0:00:01\r\u001b[K     |████████████                    | 368kB 9.2MB/s eta 0:00:01\r\u001b[K     |████████████▍                   | 378kB 9.2MB/s eta 0:00:01\r\u001b[K     |████████████▊                   | 389kB 9.2MB/s eta 0:00:01\r\u001b[K     |█████████████                   | 399kB 9.2MB/s eta 0:00:01\r\u001b[K     |█████████████▍                  | 409kB 9.2MB/s eta 0:00:01\r\u001b[K     |█████████████▊                  | 419kB 9.2MB/s eta 0:00:01\r\u001b[K     |██████████████                  | 430kB 9.2MB/s eta 0:00:01\r\u001b[K     |██████████████▍                 | 440kB 9.2MB/s eta 0:00:01\r\u001b[K     |██████████████▊                 | 450kB 9.2MB/s eta 0:00:01\r\u001b[K     |███████████████                 | 460kB 9.2MB/s eta 0:00:01\r\u001b[K     |███████████████▍                | 471kB 9.2MB/s eta 0:00:01\r\u001b[K     |███████████████▊                | 481kB 9.2MB/s eta 0:00:01\r\u001b[K     |████████████████                | 491kB 9.2MB/s eta 0:00:01\r\u001b[K     |████████████████▍               | 501kB 9.2MB/s eta 0:00:01\r\u001b[K     |████████████████▊               | 512kB 9.2MB/s eta 0:00:01\r\u001b[K     |█████████████████               | 522kB 9.2MB/s eta 0:00:01\r\u001b[K     |█████████████████▍              | 532kB 9.2MB/s eta 0:00:01\r\u001b[K     |█████████████████▊              | 542kB 9.2MB/s eta 0:00:01\r\u001b[K     |██████████████████              | 552kB 9.2MB/s eta 0:00:01\r\u001b[K     |██████████████████▍             | 563kB 9.2MB/s eta 0:00:01\r\u001b[K     |██████████████████▊             | 573kB 9.2MB/s eta 0:00:01\r\u001b[K     |███████████████████             | 583kB 9.2MB/s eta 0:00:01\r\u001b[K     |███████████████████▍            | 593kB 9.2MB/s eta 0:00:01\r\u001b[K     |███████████████████▊            | 604kB 9.2MB/s eta 0:00:01\r\u001b[K     |████████████████████            | 614kB 9.2MB/s eta 0:00:01\r\u001b[K     |████████████████████▍           | 624kB 9.2MB/s eta 0:00:01\r\u001b[K     |████████████████████▊           | 634kB 9.2MB/s eta 0:00:01\r\u001b[K     |█████████████████████           | 645kB 9.2MB/s eta 0:00:01\r\u001b[K     |█████████████████████▍          | 655kB 9.2MB/s eta 0:00:01\r\u001b[K     |█████████████████████▊          | 665kB 9.2MB/s eta 0:00:01\r\u001b[K     |██████████████████████          | 675kB 9.2MB/s eta 0:00:01\r\u001b[K     |██████████████████████▍         | 686kB 9.2MB/s eta 0:00:01\r\u001b[K     |██████████████████████▊         | 696kB 9.2MB/s eta 0:00:01\r\u001b[K     |███████████████████████         | 706kB 9.2MB/s eta 0:00:01\r\u001b[K     |███████████████████████▍        | 716kB 9.2MB/s eta 0:00:01\r\u001b[K     |███████████████████████▊        | 727kB 9.2MB/s eta 0:00:01\r\u001b[K     |████████████████████████        | 737kB 9.2MB/s eta 0:00:01\r\u001b[K     |████████████████████████▍       | 747kB 9.2MB/s eta 0:00:01\r\u001b[K     |████████████████████████▊       | 757kB 9.2MB/s eta 0:00:01\r\u001b[K     |█████████████████████████       | 768kB 9.2MB/s eta 0:00:01\r\u001b[K     |█████████████████████████▍      | 778kB 9.2MB/s eta 0:00:01\r\u001b[K     |█████████████████████████▊      | 788kB 9.2MB/s eta 0:00:01\r\u001b[K     |██████████████████████████      | 798kB 9.2MB/s eta 0:00:01\r\u001b[K     |██████████████████████████▍     | 808kB 9.2MB/s eta 0:00:01\r\u001b[K     |██████████████████████████▊     | 819kB 9.2MB/s eta 0:00:01\r\u001b[K     |███████████████████████████     | 829kB 9.2MB/s eta 0:00:01\r\u001b[K     |███████████████████████████▍    | 839kB 9.2MB/s eta 0:00:01\r\u001b[K     |███████████████████████████▊    | 849kB 9.2MB/s eta 0:00:01\r\u001b[K     |████████████████████████████    | 860kB 9.2MB/s eta 0:00:01\r\u001b[K     |████████████████████████████▍   | 870kB 9.2MB/s eta 0:00:01\r\u001b[K     |████████████████████████████▊   | 880kB 9.2MB/s eta 0:00:01\r\u001b[K     |█████████████████████████████   | 890kB 9.2MB/s eta 0:00:01\r\u001b[K     |█████████████████████████████▍  | 901kB 9.2MB/s eta 0:00:01\r\u001b[K     |█████████████████████████████▊  | 911kB 9.2MB/s eta 0:00:01\r\u001b[K     |██████████████████████████████  | 921kB 9.2MB/s eta 0:00:01\r\u001b[K     |██████████████████████████████▍ | 931kB 9.2MB/s eta 0:00:01\r\u001b[K     |██████████████████████████████▊ | 942kB 9.2MB/s eta 0:00:01\r\u001b[K     |███████████████████████████████ | 952kB 9.2MB/s eta 0:00:01\r\u001b[K     |███████████████████████████████▍| 962kB 9.2MB/s eta 0:00:01\r\u001b[K     |███████████████████████████████▊| 972kB 9.2MB/s eta 0:00:01\r\u001b[K     |████████████████████████████████| 983kB 9.2MB/s \n",
            "\u001b[?25hRequirement already satisfied: six in /usr/local/lib/python3.6/dist-packages (from langdetect) (1.12.0)\n",
            "Building wheels for collected packages: langdetect\n",
            "  Building wheel for langdetect (setup.py) ... \u001b[?25l\u001b[?25hdone\n",
            "  Created wheel for langdetect: filename=langdetect-1.0.8-cp36-none-any.whl size=993193 sha256=01ebe0a46aea3fadf4845af2b10c6a72974e28b73332e68aa272d9784c6bba74\n",
            "  Stored in directory: /root/.cache/pip/wheels/8d/b3/aa/6d99de9f3841d7d3d40a60ea06e6d669e8e5012e6c8b947a57\n",
            "Successfully built langdetect\n",
            "Installing collected packages: langdetect\n",
            "Successfully installed langdetect-1.0.8\n"
          ],
          "name": "stdout"
        }
      ]
    },
    {
      "cell_type": "code",
      "metadata": {
        "id": "KUCQMbzzOUhn"
      },
      "source": [
        "import spacy\n",
        "nlp = spacy.load(\"en_core_web_sm\")"
      ],
      "execution_count": null,
      "outputs": []
    },
    {
      "cell_type": "code",
      "metadata": {
        "id": "yzYLSexUNwss"
      },
      "source": [
        "all_sents = []\n",
        "for review in list(data.extract)[:10000]:\n",
        "  doc = nlp(review)\n",
        "  for sent in doc.sents:\n",
        "    all_sents.append(sent.text)"
      ],
      "execution_count": null,
      "outputs": []
    },
    {
      "cell_type": "code",
      "metadata": {
        "id": "GyP3pcH-XOAb"
      },
      "source": [
        "all_sents = []\n",
        "for review in list(data.extract)[:10000]:\n",
        "  for sent in review.split(\".\"):\n",
        "    all_sents.append(sent)"
      ],
      "execution_count": null,
      "outputs": []
    },
    {
      "cell_type": "code",
      "metadata": {
        "id": "C2hc4zOgUbke",
        "colab": {
          "base_uri": "https://localhost:8080/",
          "height": 72
        },
        "outputId": "1b7b41d4-1b2a-4ed9-a21b-94202c73bfc0"
      },
      "source": [
        "doc_complete = []\n",
        "for sent in all_sents:\n",
        "    try:\n",
        "      if detect(sent) == 'en':\n",
        "        doc_complete.append(sent) \n",
        "    except:\n",
        "        pass\n",
        "print(doc_complete[:5])\n",
        "print(\"this doc has {} english sentences.\".format(len(doc_complete)))"
      ],
      "execution_count": null,
      "outputs": [
        {
          "output_type": "stream",
          "text": [
            "['The telephone headset is of poor quality , not understood that dijen you when you call that sounds very bad, not recomiento this article', ' I wanted to return it but it is very difficult and expensive it back from Venezuela , since the dollars in my country are scarce and would consist more than the', \"This is my first smartphone so I have nothing to compare it to, but I'm very satisfied and it seems to have the specifications and capabilities of a much more expensive phone and does everything well\", 'Great phone', ' Battery life not great but seems to be getting bit better with every charge']\n",
            "this doc has 6376 english sentences.\n"
          ],
          "name": "stdout"
        }
      ]
    },
    {
      "cell_type": "code",
      "metadata": {
        "id": "s_dgp4q2LdVT"
      },
      "source": [
        "def aspect_sent_check(sentence, words):\n",
        "    res = [any([k in s.lower().split() for k in words]) for s in sentence]\n",
        "    print(res)\n",
        "    return [sentence[i] for i in range(0, len(res)) if res[i]]"
      ],
      "execution_count": null,
      "outputs": []
    },
    {
      "cell_type": "code",
      "metadata": {
        "id": "WnVLz4QpqMsB"
      },
      "source": [
        "def aspect_sent_check_details(sentence_list, words):\n",
        "    for sent in sentence_list:\n",
        "      if any([k in sent.lower().split() for k in words]):\n",
        "\n",
        "\n",
        "    return [sentence[i] for i in range(0, len(res)) if res[i]]"
      ],
      "execution_count": null,
      "outputs": []
    },
    {
      "cell_type": "code",
      "metadata": {
        "id": "1Cj_mcAbSRke",
        "colab": {
          "base_uri": "https://localhost:8080/",
          "height": 498
        },
        "outputId": "3236f7de-bbf4-4456-e34a-f5d9dd39fd45"
      },
      "source": [
        "battery_aspect_sents = aspect_sent_check(doc_complete,battery)\n",
        "battery_aspect_sents[:25]"
      ],
      "execution_count": null,
      "outputs": [
        {
          "output_type": "stream",
          "text": [
            "[False, False, False, False, True, False, False, False, False, False, False, False, False, False, False, False, False, False, True, False, False, False, True, False, False, False, False, False, False, False, False, False, False, False, False, False, True, False, False, False, False, False, False, False, False, False, False, False, False, False, True, False, False, False, False, False, False, False, False, False, False, False, False, False, False, False, False, True, False, False, False, False, False, False, False, False, False, False, False, False, False, False, True, False, False, False, False, False, False, False, False, False, False, False, True, False, False, False, False, False, False, False, False, False, False, False, False, True, False, False, False, False, False, False, False, False, True, False, False, False, False, False, False, False, False, False, False, False, False, False, False, False, True, False, False, False, False, False, False, False, False, False, False, False, False, True, False, False, False, False, False, False, True, True, False, False, False, False, False, False, False, False, False, False, False, False, True, False, False, False, False, False, False, False, False, False, False, False, False, True, False, False, False, False, False, False, False, False, False, True, False, False, False, False, False, False, False, False, True, False, False, True, False, False, False, False, False, False, False, False, False, False, False, False, False, False, False, False, False, False, False, False, False, False, False, False, True, False, False, False, False, False, False, False, False, False, False, False, False, False, False, False, False, False, False, False, False, False, False, False, False, False, False, False, False, False, True, False, False, False, False, False, False, False, True, False, False, False, False, False, False, False, False, False, False, False, False, False, False, False, False, False, False, False, False, False, False, False, True, False, False, False, False, False, False, False, False, False, False, False, False, False, False, False, False, False, False, False, False, False, True, False, False, False, False, False, False, False, False, True, False, False, False, False, False, False, False, False, False, False, False, False, False, False, True, False, False, False, False, False, True, False, False, False, False, False, False, True, False, False, False, False, False, False, False, False, False, False, False, False, False, False, False, False, False, False, False, False, False, True, False, False, False, True, False, False, False, False, False, False, False, False, False, False, False, False, False, False, False, False, False, False, False, False, False, False, False, False, False, False, False, False, False, False, False, False, False, False, False, False, False, False, False, False, False, False, False, False, False, False, False, False, False, False, False, False, False, False, False, False, False, False, False, False, False, False, False, False, True, False, True, False, False, True, False, False, False, False, False, False, False, False, False, False, False, False, False, False, False, False, False, False, False, False, False, False, False, False, False, False, False, False, False, False, False, False, False, False, False, False, False, True, False, False, False, True, False, False, False, False, False, False, False, False, False, False, False, False, False, False, False, False, False, False, False, False, True, False, False, False, False, False, False, False, True, False, False, False, False, False, False, False, False, True, False, False, False, False, False, False, False, False, True, False, False, False, False, False, False, False, False, False, False, False, False, False, False, True, False, False, False, False, False, False, False, False, False, False, False, True, False, False, False, False, False, False, False, False, False, False, False, True, False, False, False, False, False, False, False, False, False, False, False, False, False, False, False, False, False, False, False, False, False, False, False, False, False, False, False, False, False, False, False, False, False, False, False, False, False, False, False, False, False, False, False, False, False, False, False, False, True, False, False, False, False, False, False, False, False, False, False, False, False, False, False, False, False, False, False, False, False, False, False, False, False, False, False, False, False, False, False, True, False, False, False, False, False, False, False, False, False, False, False, False, False, False, False, False, False, False, False, False, False, False, False, False, False, False, False, False, False, False, False, False, False, False, False, False, False, False, False, False, False, False, False, False, False, False, False, False, False, False, False, False, False, False, False, True, False, True, False, False, False, False, False, False, False, False, False, False, False, False, False, False, False, False, False, False, False, False, False, False, False, False, False, False, False, False, True, False, False, False, False, True, False, False, False, False, False, False, False, False, False, False, False, False, False, False, False, False, False, False, False, True, False, True, False, False, False, False, False, False, False, False, False, False, False, False, True, False, False, False, False, False, False, False, True, False, False, False, False, False, False, False, False, False, False, False, False, False, False, False, False, False, False, False, False, False, False, False, False, False, False, False, True, False, False, False, False, False, False, False, False, False, False, False, False, False, False, False, False, False, False, False, False, False, False, False, False, False, False, False, False, False, False, False, False, False, False, False, False, False, False, False, False, False, False, False, False, False, False, False, False, False, False, False, False, False, False, False, False, False, False, False, False, False, False, False, False, False, False, False, False, False, False, False, False, False, False, False, False, False, False, False, False, False, False, False, False, False, False, True, False, False, False, False, False, False, False, False, False, False, False, False, False, False, False, False, False, False, False, False, True, False, False, False, True, False, False, False, False, False, False, False, False, False, False, False, False, False, True, False, False, False, False, False, False, False, True, False, False, False, False, False, False, False, False, False, False, False, False, False, False, False, False, False, False, False, False, False, False, False, False, False, False, False, False, False, False, False, False, False, False, False, False, False, False, False, False, False, False, False, False, False, False, False, False, False, True, False, False, False, False, False, False, False, False, False, True, False, False, False, False, False, False, False, False, False, False, False, True, False, False, False, False, False, False, False, False, False, False, False, False, False, False, False, False, False, False, False, False, True, False, False, False, False, False, False, False, False, False, False, False, False, False, False, False, False, False, False, False, False, False, False, False, False, True, False, False, False, False, False, False, True, False, False, False, False, False, False, False, False, False, False, False, False, False, False, False, False, False, True, False, True, False, False, False, False, False, False, False, False, False, False, False, False, False, False, False, False, False, False, False, False, True, False, False, False, False, False, False, False, False, False, False, False, False, False, False, False, False, False, False, False, True, False, False, False, False, False, False, False, False, False, False, False, False, False, False, False, False, False, False, False, False, False, False, False, False, False, False, False, False, False, False, False, False, False, False, False, False, False, False, False, False, False, False, False, False, False, False, False, False, False, False, False, False, False, False, False, False, False, False, False, False, False, False, False, False, False, False, False, False, False, False, False, False, False, False, False, False, False, False, False, False, False, False, False, False, False, False, False, False, False, False, False, False, False, False, False, False, True, False, True, False, False, False, False, False, False, False, False, False, False, False, False, False, False, False, False, False, False, False, False, False, True, False, False, False, False, False, False, False, False, False, False, False, False, False, False, False, False, False, False, False, False, False, False, False, False, False, False, False, False, False, False, False, False, False, False, False, False, False, True, False, False, False, False, False, False, False, False, False, False, False, False, False, False, False, False, False, False, False, False, True, False, False, False, False, False, False, False, False, False, False, False, False, False, False, False, False, False, False, False, False, False, False, False, False, False, False, False, False, False, False, False, False, False, False, False, False, False, False, False, False, False, False, False, False, False, False, False, False, False, False, False, False, False, False, False, False, False, False, False, True, False, False, False, False, False, False, False, False, False, False, False, False, False, False, False, False, False, False, False, False, False, False, False, False, False, False, False, False, False, False, False, False, False, False, False, False, False, False, False, False, False, False, False, False, False, False, False, False, False, False, False, False, False, False, False, False, False, False, False, False, False, False, False, False, False, False, False, False, False, False, False, False, False, False, False, False, False, False, False, False, False, False, False, False, False, False, False, False, False, False, False, False, False, False, False, False, False, False, False, False, False, True, False, False, False, False, False, False, False, False, False, False, False, False, False, False, False, False, False, False, False, False, False, False, False, False, False, False, False, False, False, False, False, False, False, False, False, False, False, False, False, False, False, False, False, False, False, False, False, False, False, False, False, False, False, False, False, False, False, False, False, False, False, False, False, False, False, False, False, False, False, False, False, False, True, False, False, False, False, False, False, True, False, False, False, False, False, False, False, False, False, False, False, False, False, False, False, False, False, False, False, False, False, False, False, False, False, True, False, False, False, False, True, False, False, False, False, False, False, False, False, False, False, False, False, False, False, False, False, False, True, False, False, False, False, False, False, False, False, False, False, False, False, False, False, False, True, False, False, False, False, False, True, False, False, False, False, False, False, False, False, False, False, False, False, False, False, False, False, False, False, False, False, False, False, False, False, False, False, False, False, False, False, False, False, False, False, False, False, True, False, False, False, False, False, False, False, False, False, False, False, False, False, False, False, False, False, False, False, False, False, False, False, False, False, False, False, False, False, False, False, False, False, False, False, False, False, False, False, False, False, True, False, False, False, False, False, False, False, False, False, True, False, False, False, False, False, False, False, False, False, True, False, False, False, False, False, False, False, False, False, False, False, False, False, False, False, False, False, False, False, False, False, False, False, False, False, False, False, False, False, False, False, False, False, False, False, False, False, False, False, True, False, False, False, False, False, False, False, False, False, False, False, False, False, False, False, False, False, False, False, False, False, False, True, False, False, False, False, False, False, False, False, False, False, False, False, False, False, False, False, False, False, False, True, False, False, False, False, False, False, False, False, True, False, True, True, False, False, False, False, False, False, False, True, False, False, False, False, False, False, False, False, False, False, False, False, False, False, False, False, False, False, False, False, False, False, False, False, False, False, False, False, False, False, False, False, False, False, False, False, False, False, False, False, False, False, False, False, False, False, False, False, False, False, False, False, False, False, False, True, False, False, False, True, False, False, False, True, False, False, False, False, False, False, False, False, False, False, False, False, False, False, False, True, False, False, False, True, False, False, False, False, False, False, False, False, False, False, False, False, False, False, False, False, False, False, False, False, False, False, False, False, False, True, False, False, False, False, False, False, False, False, False, False, False, False, False, False, False, False, False, False, False, False, False, False, False, False, False, False, False, False, False, False, True, False, False, False, False, False, False, False, False, False, False, False, False, False, False, False, False, False, False, False, False, False, True, False, False, False, False, False, False, False, False, False, False, False, False, False, False, False, False, False, False, False, False, False, False, False, False, False, False, False, False, False, False, False, False, False, False, False, False, False, False, False, False, False, False, False, False, False, False, False, False, False, False, False, False, False, False, False, False, False, False, False, False, False, False, False, False, False, False, False, False, False, False, False, False, False, False, False, False, False, False, False, False, False, False, False, False, False, False, False, False, False, False, False, False, False, False, False, False, False, False, False, False, False, False, False, False, False, False, False, False, False, False, False, False, False, False, False, False, False, False, True, False, False, False, False, False, False, False, False, False, False, False, False, False, False, False, False, False, False, False, False, False, False, False, False, False, False, False, False, False, False, False, False, False, False, False, False, False, False, False, False, False, False, False, False, False, False, False, False, False, False, False, False, False, False, False, False, False, False, True, False, False, False, False, False, False, False, False, False, False, False, False, False, False, False, False, False, False, False, False, False, False, True, True, False, False, False, False, False, False, False, False, False, False, False, False, False, False, False, False, False, False, False, False, False, False, False, False, False, False, False, False, False, True, False, False, False, True, False, False, False, False, False, False, False, True, False, False, False, False, False, False, False, False, False, False, False, False, False, False, False, False, False, False, False, False, False, False, False, False, False, False, False, False, False, False, False, False, False, False, False, False, False, False, False, False, False, False, False, False, False, False, False, False, False, False, False, False, True, False, False, False, False, False, False, False, False, False, False, False, False, False, False, False, False, False, False, False, False, False, False, False, False, False, False, False, False, False, False, False, False, False, False, False, False, False, False, False, False, False, False, False, False, False, False, False, False, False, False, False, False, False, False, False, False, False, False, False, False, False, False, False, False, False, False, False, False, False, False, False, False, False, False, False, False, False, False, False, False, False, False, False, False, False, False, False, False, False, False, False, False, False, False, False, False, False, False, False, False, False, False, False, False, False, False, False, False, False, False, False, False, False, False, True, False, False, False, False, False, False, False, False, False, False, False, False, False, False, False, False, False, False, False, False, False, False, False, False, False, False, False, False, False, False, False, False, False, False, False, False, False, False, False, False, False, False, False, False, False, False, False, False, False, True, False, False, False, False, False, False, False, False, False, False, False, False, False, False, False, False, False, False, False, False, False, False, False, False, False, False, False, False, False, False, False, False, False, False, False, False, False, False, False, False, False, False, False, False, False, False, False, False, True, False, True, False, False, False, False, False, False, False, False, False, True, False, False, True, False, False, False, True, False, False, False, False, False, False, False, False, False, False, False, True, True, False, False, False, True, False, False, False, False, False, False, False, False, False, False, False, False, False, False, False, False, False, False, False, False, False, False, True, False, False, True, False, True, False, False, False, False, False, False, False, False, False, False, False, False, False, False, False, False, False, False, False, False, False, False, False, False, True, False, False, False, False, False, False, False, False, False, False, False, False, False, False, False, False, False, False, False, False, False, False, False, False, False, False, False, False, False, False, False, False, False, False, False, False, False, False, False, False, False, False, False, False, False, False, False, False, False, False, False, False, False, False, True, False, False, False, False, False, False, False, False, False, False, False, False, False, False, False, True, False, False, False, False, False, True, False, False, True, False, True, False, False, False, False, False, False, False, False, False, False, False, False, False, False, False, False, False, False, False, False, False, False, False, True, False, False, False, False, False, False, False, False, False, False, False, False, False, False, False, False, False, False, False, False, False, False, False, False, False, False, False, False, False, True, False, False, False, False, False, False, False, False, False, False, False, False, True, True, False, True, False, False, False, False, False, True, False, False, True, False, False, False, False, False, False, False, False, False, False, True, False, False, False, False, False, False, True, False, False, False, False, False, False, False, True, False, False, False, False, False, False, False, False, False, False, False, False, False, False, False, False, False, False, False, False, False, False, False, False, False, False, False, False, False, False, False, False, False, False, False, False, False, False, False, False, True, False, False, False, False, False, False, False, False, False, False, False, False, False, False, False, False, False, False, False, False, False, False, False, False, False, False, False, False, False, False, False, True, False, False, False, False, False, False, False, True, True, False, False, False, False, False, False, False, False, False, False, True, False, True, False, False, False, False, False, False, False, False, False, True, False, False, False, False, False, False, False, False, False, False, False, False, False, False, False, False, False, False, False, False, False, True, True, True, False, False, False, True, True, True, True, False, False, False, False, False, True, False, False, False, False, False, False, False, False, False, False, False, False, True, False, False, False, True, False, False, False, False, True, False, False, False, False, False, False, False, False, False, False, False, False, False, False, False, True, False, False, True, False, False, False, True, False, False, False, False, False, False, False, False, False, False, False, False, False, False, False, False, False, False, False, False, False, False, False, True, False, False, False, False, False, False, False, False, False, False, False, False, False, False, True, False, False, False, False, False, False, False, False, False, False, True, False, False, False, False, False, False, False, False, False, True, False, False, False, False, False, False, False, False, False, False, False, False, False, False, False, False, False, False, False, False, False, False, False, False, False, True, False, False, False, False, False, False, False, True, False, False, False, False, False, False, False, True, False, False, False, False, False, False, False, False, False, False, False, False, False, False, False, False, False, False, False, False, False, False, False, False, False, False, False, False, False, False, False, False, False, False, False, False, False, False, False, False, False, False, False, False, False, False, False, False, False, False, False, False, False, False, True, False, False, False, False, False, False, False, False, False, False, False, False, False, False, False, False, False, False, False, False, False, False, False, False, False, False, False, False, False, False, False, False, False, False, False, False, False, False, False, False, False, False, False, False, False, False, False, False, False, False, False, False, False, False, True, False, False, False, False, False, False, False, False, False, False, False, False, False, False, False, False, False, False, False, False, False, False, False, False, False, False, False, False, False, True, False, False, False, False, False, False, False, True, False, False, False, False, False, False, False, False, False, False, False, False, False, False, False, False, False, False, False, True, False, True, False, False, False, False, True, False, False, False, False, False, False, False, False, False, False, False, False, False, False, False, False, False, False, False, False, False, False, False, False, False, False, False, False, False, False, False, False, False, True, False, False, True, False, False, False, False, False, False, True, False, False, False, False, False, False, True, False, False, False, False, False, True, False, False, False, False, False, False, True, False, False, False, False, False, False, False, False, False, False, False, False, False, False, False, False, True, False, False, False, False, False, False, False, False, False, False, False, False, False, False, False, False, False, False, False, False, False, False, False, False, False, False, False, False, False, False, False, False, False, False, True, False, False, False, False, False, False, False, False, False, False, False, False, False, False, False, False, False, False, False, False, False, False, False, False, False, False, True, False, False, True, True, False, False, False, False, False, False, False, False, False, False, False, True, True, False, False, False, False, False, False, False, False, False, False, False, False, False, False, False, False, False, False, False, False, False, False, False, False, False, False, False, False, False, True, False, False, False, False, False, False, False, False, True, False, False, False, False, False, False, False, False, False, False, False, False, False, False, False, True, False, False, False, True, False, False, False, False, False, False, False, False, False, False, False, False, False, False, False, False, True, False, False, False, True, False, False, False, False, False, False, False, False, False, False, False, True, False, False, False, False, False, False, False, False, False, False, False, True, False, False, False, False, False, False, False, False, False, False, False, False, False, False, False, False, False, False, False, False, False, False, False, False, False, False, False, False, False, False, False, False, False, False, False, False, False, False, False, False, False, False, True, False, False, True, False, False, False, False, False, False, False, False, True, False, False, False, False, False, False, False, False, False, False, False, False, False, False, False, False, False, False, False, False, False, False, False, False, False, False, False, False, False, False, False, False, False, False, False, False, True, False, False, True, False, True, False, False, True, False, False, False, False, False, False, False, False, False, False, False, False, False, True, False, False, False, False, False, False, False, False, False, False, True, False, False, False, False, False, True, False, False, False, False, False, False, False, False, False, False, False, False, False, False, False, False, False, False, False, False, False, False, False, False, False, False, False, False, False, False, False, False, False, False, False, True, False, False, True, False, False, False, False, True, False, False, False, False, False, False, False, True, False, False, False, False, False, False, False, False, False, False, True, False, False, True, False, False, False, False, False, False, False, False, False, True, False, False, False, False, False, False, False, False, False, False, False, False, False, False, False, False, False, False, False, False, True, False, False, True, False, False, False, False, False, False, False, True, False, False, True, False, True, False, False, False, False, False, False, False, False, False, False, False, False, False, False, False, False, True, False, False, False, False, False, False, True, True, False, False, False, False, False, False, False, False, False, False, True, False, False, False, False, False, False, False, False, False, False, False, False, False, False, True, False, False, False, False, False, False, False, False, False, False, False, False, False, False, False, False, False, False, True, False, False, False, False, True, True, False, True, False, False, True, False, True, False, False, False, False, False, False, False, False, False, False, False, False, False, False, False, False, False, False, False, False, True, False, False, False, True, False, False, False, False, True, False, True, False, False, False, True, False, False, False, False, False, False, False, False, False, False, False, False, False, True, False, False, False, False, False, False, False, False, False, False, False, False, False, False, False, False, False, False, False, False, False, False, False, False, True, False, False, False, False, False, False, False, False, False, False, False, False, False, False, False, False, False, False, False, False, False, False, False, True, False, False, False, True, False, False, False, False, False, False, True, False, False, True, False, False, False, False, True, False, False, True, False, False, False, False, False, False, False, False, True, False, False, False, False, False, False, True, False, False, False, False, False, False, False, False, False, False, False, False, False, False, False, True, False, False, False, False, False, False, False, False, False, False, False, False, False, False, False, False, False, False, False, True, False, False, False, True, False, False, False, False, False, False, False, False, True, False, False, True, False, False, False, False, False, False, False, True, False, False, False, False, False, False, False, False, False, False, False, False, False, True, False, False, False, False, False, False, False, False, False, False, False, False, False, False, False, False, False, False, False, False, False, False, False, False, False, False, False, False, False, False, False, False, False, False, False, False, False, False, False, False, False, False, False, False, False, False, False, True, False, False, False, False, False, False, False, False, False, False, False, False, True, False, False, True, False, False, True, False, False, False, False, False, False, False, False, False, True, False, False, False, False, True, False, False, False, False, False, False, False, False, True, False, False, True, True, False, False, False, False, False, False, False, False, False, True, False, False, False, False, False, False, False, False, False, False, False, False, False, False, False, False, False, False, False, False, False, True, False, False, False, False, False, True, False, False, False, False, False, False, False, False, False, False, True, False, False, False, False, False, False, False, False, True, False, True, False, False, False, False, False, True, False, True, False, False, False, False, False, False, False, False, True, False, False, False, False, False, True, False, False, False, False, False, True, False, False, False, False, False, False, False, False, False, False, False, False, False, False, True, False, False, False, True, False, False, False, False, False, False, False, False, False, False, False, False, False, False, False, False, True, False, False, False, False, False, False, False, False, False, False, False, False, False, True, False, False, False, True, False, False, False, False, False, False, False, False, False, False, False, False, False, False, False, False, False, False, False, False, False, False, False, False, False, False, False, False, False, False, True, False, False, False, True, False, True, False, False, False, False, False, False, False, False, False, False, False, False, False, False, False, False, False, False, False, True, False, False, False, False, False, False, False, False, False, False, False, False, False, False, False, False, False, False, False, False, False, False, False, False, False, False, False, False, True, False, False, False, False, False, False, False, False, False, True, False, False, False, False, False, False, False, False, False, False, False, False, False, False, False, False, False, False, False, False, False, False, False, False, False, True, False, False, False, False, False, False, True, False, False, False, False, False, False, False, False, False, False, False, False, False, True, True, False, False, False, False, False, False, False, False, False, False, False, False, False, False, False, False, False, False, False, False, False, False, False, True, False, False, False, False, False, False, False, False, False, False, True, False, False, False, False, False, False, False, False, False, False, False, False, False, False, False, False, False, False, False, False, False, True, False, False, False, False, True, True, False, True, False, False, False, False, False, True, False, False, False, False, False, False, False, False, False, False, False, False, False, False, False, True, False, True, False, False, False, False, False, True, True, False, False, False, False, False, False, False, False, True, False, False, False, False, False, False, False, False, True, False, False, False, False, False, False, False, False, False, False, True, False, False, False, False, False, False, True, False, False, False, False, True, False, False, False, False, False, False, False, False, False, False, False, False, True, False, False, False, False, False, False, False, True, False, False, False, False, False, False, False, False, False, False, True, False, False, False, False, False, False, False, True, False, False, False, False, False, False, False, True, False, False, False, False, False, False, True, False, False, False, False, False, True, False, False, False, False, False, False, False, False, False, False, False, False, False, False, False, False, False, False, False, True, False, False, False, False, False, False, False, False, False, False, False, False, False, False, False, False, False, False, False, True, False, False, False, False, False, False, False, False, False, False, False, False, False, False, False, False, False, False, True, False, False, False, False, True, False, False, False, False, False, False, False, False, False, False, False, False, False, False, True, False, False, False, False, False, False, False, True, False, False, False, False, False, True, False, True, False, False, False, True, False, False, False, False, False, False, False, True, True, False, False, False, False, False, True, False, False, False, False, False, False, False, False, False, True, False, False, True, False, False, False, False, False, False, False, False, True, False, False, True, False, False, False, True, False, False, False, False, False, False, False, False, False, False, False, False, False, False, False, False, False, False, True, False, False, False, False, False, False, False, False, False, True, False, False, False, False, False, True, False, False, False, False, False, False, False, False, False, False, False, False, False, False, False, False, False, False, False, False, False, False, True, False, False, False, False, True, False, False, False, False, False, False, False, False, True, False, False, False, False, False, True, False, False, False, False, False, False, False, False, True, False, False, False, False, False, False, True, False, False, False, False, False, False, False, False, False, False, True, False, True, False, False, False, False, False, False, False, False, False, False, False, False, False, False, True, False, False, False, False, False, False, True, True, False, False, False, False, False, False, False, False, False, False, False, False, False, False, False, False, False, False, False, False, True, False, False, False, False, False, False, False, False, True, False, False, False, False, False, False, False, False, False, False, False, False, False, False, False, False, False, False, False, False, False, False, False, False, False, False, False, False, False, False, False, False, False, False, False, False, False, False, False, False, True, False, False, False, False, True, False, False, False, False, False, False, True, False, False, False, False, False, False, False, False, False, False, False, True, False, False, False, False, False, False, False, True, False, False, False, False, False, False, True, False, False, False, False, False, False, False, False, False, False, False, False, True, False, False, False, False, False, False, False, False, False, False, False, False, False, False, False, False, False, False, False, False, False, False, False, False, False, False, False, False, False, False, False, False, False, True, False, False, False, False, False, False, False, False, False, False, False, False, False, False, False, False, False, False, False, False, False, False, False, False, False, False, False, False, True, False, False, False, False, False, False, False, False, False, False, False, True, False, False, False, False, False, False, False, False, False, False, False, True, False, False, False, False, False, False, False, True, False, False, False, False, False, False, False, False, False, False, False, False, False, False, True, False, False, False, False, False, False, False, False, True, False, True, False, False, False, False, False, False, False, False, False, False, False, False, False, False, False, False, False, False, False, False, False, False, False, False, False, False, False, False, False, False, False, False, False, False, False, False, False, False, False, True, False, False, False, False, False, False, False, False, False, False, False, True, False, False, False, False, False, False, False, False, False, False, False, True, False, False, False, False, True, False, False, False, False, False, False, False, False, False, False, False, False, False, False, False, False, False, True, False, True, False, False, False, False, False, False, False, False, False, False, True, False, False, False, False, False, False, False, False, True, False, False, False, False, False, False, False, False, False, False, False, False, False, False, False, False, False, False, False, False, False, False, False, False, False, False, False, False, False, False, False, False, False, True, False, False, False, False, False, False, False, False, False, False, False, True, True, False, False, True, False, False, False, False, False, False, False, False, False, False, False, False, False, False, False, False, False, False, False, False, False, False, False, False, False, False, False, False, False, False, False, False, False, False, False, False, False, False, False, False, False, False, False, False, False, True, False, False, False, False, False, False, False, False, False, False, False, False, False, False, False, False, False, False, False, False, False, False, False, False, False, False, False, False, False, False, True, True, False, True, False, False, False, False, False, False, False, False, False, False, False, False, False, False, False, False, False, False, False, False, False, False, False, False, False, False, False, False, False, False, False, False, False, False, False, False, False, False, False, False, False, False, False, False, False, True, False, False, False, False, False, False, False, False, False, False, False, False, False, False, False, False, False, False, False, False, False, False, False, False, False, False, False, False, False, False, False, False, False, False, False, False, False, False, False, False, False, False, False, False, False, False, False, False, False, False, False, False, False, False, False, False, False, False, False, False, False, False, False, False, False, False, False, False, False, False, False, True, False, False, False, False, False, False, False, False, False, False, False, False, False, False, False, False, False, False, False, False, False, False, False, True, False, False, False, False, False, False, False, False, False, False, False, False, False, False, False, True, False, False, False, False, False, False, False, False, False, True, True, False, False, False, False, False, False, False, False, False, False, False, True, False, False, False, False, False, False, False, False, False, False, False, False, False, False, False, False, False, False, False, True, False, False, False, False, False, False, False, False, False, False, False, False, False, False, False, False, False, False, False, False, False, False, False, False, False, False, True, False, False, False, False, False, False, False, False, False, False, False, False, False, False, False, False, False, False, False, False, False, False, False, True, False, False, True, False, False, False, False, False, False, False, False, False, False, False, False, False, False, False, False, False, False, False, False, False, False, False, False, False, False, False, False, False, False, False, False, False, False, False, False, False, False, False, False, False, False, False, False, False, False, False, False, False, False, False, False, False, False, False, False, False, False, False, False, False, False, False, False, False, False, False, False, True, False, True, False, False, False, False, False, False, False, False, True, False, False, False, False, False, False, False, False, False, False, False, False, False, False, False, False, False, False, True, False, False, False, False, True, False, False, False, False, False, False, False, False, False, False, False, False, True, False, False, False, False, False, False, False, True, False, False, False, False, False, False, False, False, False, False, False, False, False, False, False, True, False, False, False, False, False, False, False, False, False, True, False, False, False, False, False, False, False, False, False, False, True, False, False, False, False, False, False, True, False, False, False, False, False, False, False, False, False, False, True, False, False, False, False, False, False, False, False, False, False, False, False, True, True, False, False, False, True, False, False, True, False, False, False, False, False, False, False, False, False, False, False, False, False, False, False, False, False, False, False, False, True, False, False, True, False, False, False, False, False, False, False, False, False, True, False, False, False, False, False, False, False, False, True, False, True, False, True, False, False, False, False, False, False, False, True, False, False, False, False, False, False, False, False, True, False, False, False, False, False, False, False, False, False, False, True, False, False, False, False, False, True, False, False, False, False, True, True, False, False, False, False, False, False, False, False, False, False, False, False, False, False, False, False, False, True, False, False, False, False, False, False, False, False, False, False, False, False, False, False, False, False, False, False, False, False, False, False, False, False, True, True, False, False, False, False, True, False, False, False, False, False, False, False, False, False, False, False, False, False, False, False, False, False, True, False, False, False, False, False, False, False, False, False, False, False, False, False, False, False, False, False, False, False, False, False, False, False, False, False, False, False, False, False, False, False, False, True, False, False, False, False, False, False, False, False, False, False, False, False, False, False, False, False, False, False, False, False, False, False, False, False, False, False, False, False, True, True, False, False, False, False, False, False, False, False, False, False, False, False, False, False, False, False, False, False, False, False, False, False, False, False, False, False, False, False, True, False, False, False, False, False, False, False, False, False, False, False, False, False, False, True, False, False, False, False, False, False, False, False, False, False, False, False, False, False, False, False, False, False, False, False, False, False, False, True, False, False, False, False, False, False, False, False, False, False, False, False, False, False, False, False, False, False, False, False, False, False, False, False, False, False, False, False, False, False, False, False, False, False, False, False, False, False, False, False, False, False, False, False, False, False, False, False, False, False, False, True, False, False, False, False, False, False, False, False, False, False, False, False, False, False, False, False, False, False, False, False, False, False, False, False, False, False, False, False, False, True, False, False, False, False, False, False, False, True, False, False, False, False, False, False, False, False, True, True, True, False, False, False, False, False, True, False, False, True, False, False, False, False, False, False, False, False, False, False, False, False, False, False, False, False, False, False, False, False, False, False, False, True, False, False, False, False, False, False, False, False, False, False, False, False, False, False, False, False, False, False, False, False, False, False, True, False, False, False, False, False, False, False, False, False, False, False, False, False, False, True, False, False, False, False, True, False, False, False, False, False, False, False, True, False, True, False, False, False, False, False, False, False, True, False, False, False, False, False, False, False, False, False, False, False, False, False, False, False, True, False, False, True, False, False, False, False, False, False, False, False, False, False, False, False, False, False, False, False, False, False, False, False, False, False, False, False, False, False, False, False, False, False, False, False, False, False, False, False, False, False, False]\n"
          ],
          "name": "stdout"
        },
        {
          "output_type": "execute_result",
          "data": {
            "text/plain": [
              "[' Battery life not great but seems to be getting bit better with every charge',\n",
              " ' A few months down the line it became a big issue with a massive battery drain',\n",
              " ' I like the clock face on the front, Good battery life lasts day to 1',\n",
              " \" I had to return it because I couldn't get it to charge so I couldn't turn it on\",\n",
              " 'we give the presetn today to our daughter and It came with a battery that is not working and can not be charged',\n",
              " ' Just got it like 3 days ago and within a day I decided to get rid of Color Os because the battery drainage was clearly evident',\n",
              " 'Looks and feels good,excellent battery life, no update available on colours os, and not very user friendly',\n",
              " ' The battery is still as long lasting as it was when I got it, which is a rarity these day',\n",
              " \"Love this mobile phone, I won't go on about it too much, just to say that its performance is excellent, good battery life, and there are plenty of settings to make your battery last longer\",\n",
              " ' Battery lasts 2 days',\n",
              " 'had issues with battery and speed, this is a killer',\n",
              " ' Fitting the battery and SIM (it has to be a micro SIM) was a bit fiddly like almost all phones',\n",
              " \" The battery is long lasting doesn't run out quickly\",\n",
              " ' Plus battery rapid charging is very good',\n",
              " ' Great screen, battery life speed',\n",
              " ' Battery life could be better, but as it came with a portable power pack all is good with the world',\n",
              " ' Battery is average at best 3',\n",
              " ' Battery is average at best 3',\n",
              " 'I am more interested in writing this review because of the TOTALLY WRONG info which is in the only other review posted so far, and that is that US cell companies absolutely allow this phone and others like them from China to work beautifully',\n",
              " \" hold it's charge for longer if u only use one sim and no micro SD card\",\n",
              " 'Fantastic phone except like all big screen phones you need to charge it every night',\n",
              " 'Just to echo the praises of other reviewers, this phone is a revelation! Clear sharp screen, speedy, great battery life, good sound, fantastic price',\n",
              " 'easy to setup, battery life lasts 4 days+ on standby with some internet use,calls,etc',\n",
              " ' Very happy! Great battery life and very responsive screen',\n",
              " ' works on 4g network battery seems to be good right now']"
            ]
          },
          "metadata": {
            "tags": []
          },
          "execution_count": 35
        }
      ]
    },
    {
      "cell_type": "code",
      "metadata": {
        "id": "ewM4NPX2aRl1",
        "colab": {
          "base_uri": "https://localhost:8080/",
          "height": 498
        },
        "outputId": "37544d1a-42a7-4c9b-e5d9-3b7821901027"
      },
      "source": [
        "display_aspect_sents = aspect_sent_check(doc_complete,display)\n",
        "display_aspect_sents[:25]"
      ],
      "execution_count": null,
      "outputs": [
        {
          "output_type": "stream",
          "text": [
            "[False, False, False, False, False, False, False, False, False, False, False, False, False, False, False, False, False, False, False, False, True, False, False, False, False, False, False, True, False, False, False, False, False, False, False, False, False, False, False, False, False, False, False, False, False, False, True, False, False, True, False, False, False, False, False, False, False, False, False, False, False, False, False, False, False, True, False, False, False, False, False, False, False, True, False, False, False, False, False, True, False, False, False, False, False, False, False, False, False, True, False, False, False, False, False, False, False, False, False, False, False, False, False, False, False, True, False, False, False, False, False, False, False, False, False, False, False, False, False, False, False, False, False, False, True, False, False, False, False, False, False, False, False, False, False, False, True, False, True, False, False, False, False, False, False, False, False, True, False, False, False, False, False, False, False, False, False, False, True, False, False, False, False, False, False, False, False, True, False, False, False, False, False, False, False, True, False, False, False, False, False, True, False, False, False, False, False, False, False, False, True, False, False, False, False, False, False, False, False, False, False, False, False, False, False, False, False, False, False, False, False, False, True, False, False, False, True, False, False, False, False, False, False, False, False, False, False, False, False, False, False, False, False, False, False, False, False, False, False, False, False, False, True, False, False, False, False, False, False, False, False, False, True, False, False, False, True, False, False, False, False, False, False, False, False, True, False, False, False, False, False, False, False, False, False, False, False, False, False, False, False, False, False, False, False, False, False, False, False, False, False, False, False, True, False, False, False, False, False, False, False, False, False, False, True, False, False, False, False, False, True, False, False, False, False, False, False, True, False, False, False, False, False, False, False, False, False, False, False, False, False, False, False, False, False, False, False, False, False, False, False, False, False, False, False, False, False, False, False, False, False, False, False, False, False, False, False, False, False, False, False, False, False, False, False, False, False, False, False, False, False, False, False, False, False, True, False, False, False, False, False, False, False, False, False, False, False, False, False, False, False, False, False, False, False, True, False, False, False, False, False, False, False, False, False, False, False, False, False, False, False, False, True, False, False, False, False, False, False, False, False, False, True, False, False, False, False, False, False, False, True, False, False, False, False, False, False, False, False, False, False, False, False, False, False, False, False, False, False, True, False, False, False, False, False, False, False, False, False, False, False, False, False, False, False, False, False, False, False, False, False, False, False, False, False, False, False, False, False, False, False, False, False, False, False, False, False, False, True, False, False, False, False, False, False, False, False, False, False, False, False, False, False, False, False, False, False, False, False, False, False, False, False, False, False, False, False, False, False, False, False, False, False, False, False, False, False, False, False, False, False, False, False, False, False, False, False, False, False, False, True, True, False, False, False, False, False, False, False, False, False, False, False, False, False, False, False, False, False, False, False, False, False, False, False, False, False, False, False, False, False, False, False, False, False, False, True, False, False, False, False, False, False, False, False, False, False, False, False, False, False, False, False, False, False, False, False, False, False, False, False, False, False, False, False, False, False, False, False, False, False, False, False, False, False, False, False, False, False, False, False, False, True, False, False, False, False, False, False, False, False, False, False, False, False, False, False, False, False, True, False, False, False, False, False, False, False, False, False, False, False, False, False, False, False, False, False, False, False, False, False, False, False, False, False, False, False, False, False, False, False, False, False, True, False, False, False, False, False, False, False, False, True, False, False, False, False, False, False, False, False, False, False, False, False, False, False, False, False, False, False, False, False, False, False, False, False, False, False, False, False, False, True, False, False, False, False, False, False, False, False, False, False, False, False, False, False, False, False, False, False, False, False, False, False, False, False, False, True, False, False, False, False, False, False, False, False, False, True, False, False, False, False, False, True, False, False, False, False, False, False, False, False, False, False, False, False, False, False, False, False, False, False, False, False, False, False, False, False, False, False, False, False, False, False, False, False, False, False, False, False, False, False, False, False, False, False, False, False, False, False, False, False, False, False, False, False, False, False, False, False, False, False, False, False, False, False, False, False, False, False, False, False, False, False, False, False, False, False, False, False, False, False, False, False, False, False, False, False, False, False, True, False, False, False, False, False, False, False, False, False, False, False, False, False, False, False, False, False, False, False, False, False, False, False, False, False, False, False, False, False, False, False, False, False, False, False, False, False, False, False, False, False, False, False, False, False, False, False, False, False, False, False, False, False, False, False, False, True, False, False, False, True, False, False, False, False, False, False, False, False, False, True, False, False, False, False, False, False, False, False, False, False, False, False, False, False, False, False, False, False, False, False, False, False, False, False, False, False, False, False, False, False, False, False, False, False, False, False, False, False, False, False, False, False, False, False, False, False, False, False, False, False, False, False, True, False, False, False, False, False, False, False, False, False, False, False, False, False, False, False, False, False, False, False, False, False, False, False, False, False, False, False, False, False, False, False, False, False, False, False, False, False, False, False, False, False, False, False, False, False, False, False, False, False, False, False, False, False, True, False, False, False, False, False, False, False, False, False, False, False, False, False, False, False, False, False, False, False, False, False, False, False, False, False, False, False, False, False, False, False, False, False, False, False, False, False, False, False, False, False, False, False, False, False, False, False, False, False, False, False, False, False, False, False, False, False, False, False, False, False, False, False, False, False, False, False, False, False, True, False, False, False, False, False, False, False, False, False, False, False, False, False, False, False, False, False, False, False, False, False, False, False, False, False, False, False, False, False, False, False, False, False, False, False, False, False, False, False, False, False, False, False, False, False, False, False, False, False, False, False, False, False, False, False, False, False, False, False, False, False, False, False, False, False, False, False, False, False, False, False, False, False, False, False, False, False, False, False, False, False, False, False, False, False, False, False, False, False, False, False, False, False, False, False, False, False, False, False, False, False, False, False, False, False, False, True, False, False, False, False, False, False, False, False, False, False, False, False, False, False, False, False, False, False, False, False, False, False, False, False, False, False, False, False, False, False, False, False, False, False, False, False, False, False, False, False, True, True, True, False, False, False, False, False, False, False, False, False, False, False, False, False, False, True, False, False, False, False, False, False, False, False, False, False, True, True, False, False, False, False, False, False, False, False, False, False, False, False, False, False, False, False, False, False, False, False, False, False, False, False, False, False, False, False, False, False, False, False, False, False, False, False, False, False, False, False, False, False, False, False, False, False, False, False, False, False, False, False, False, False, False, False, False, False, False, False, False, False, True, False, False, False, True, False, False, False, False, False, True, False, False, False, False, False, False, False, False, False, False, False, False, False, False, False, False, False, False, False, False, False, False, False, False, False, False, False, False, False, False, False, False, False, False, False, False, False, False, False, False, False, False, False, False, False, False, False, False, True, False, False, False, False, False, False, False, False, False, False, False, False, False, False, False, False, False, False, False, False, False, False, False, True, False, False, False, True, False, False, True, True, False, False, False, False, False, False, False, False, False, False, False, True, False, False, False, False, False, False, False, False, False, False, False, False, False, False, False, False, False, False, False, False, False, False, False, False, False, False, False, False, False, False, False, False, False, False, False, False, False, False, False, False, False, False, False, False, False, False, False, False, False, False, False, False, False, False, False, True, False, False, False, False, False, False, False, False, False, False, False, False, False, False, False, False, False, False, False, False, False, False, False, False, False, False, False, False, False, False, False, False, False, False, True, False, False, False, False, False, False, False, True, False, False, False, True, False, False, False, False, False, False, False, False, False, True, False, False, False, False, False, False, False, True, False, True, False, False, False, False, False, False, False, False, False, False, False, False, False, False, False, False, False, False, False, False, False, False, False, False, False, True, False, False, False, False, True, False, False, False, False, False, False, False, False, True, True, False, False, False, False, False, False, False, False, False, False, False, False, False, False, False, False, False, False, False, False, False, False, False, False, False, False, False, False, False, False, False, False, False, False, False, True, False, False, True, True, False, False, False, True, False, False, False, False, True, False, False, False, False, False, False, False, False, False, False, False, False, False, False, False, False, False, False, True, False, False, False, True, False, False, False, False, False, False, False, False, False, False, False, False, False, False, False, False, False, False, False, False, False, False, False, False, False, False, False, False, False, False, False, False, True, False, False, False, False, False, False, False, False, True, False, False, True, False, False, False, False, False, False, False, False, False, False, False, False, False, False, False, False, False, False, False, False, False, False, False, False, False, False, False, False, False, False, False, False, False, False, False, False, False, False, False, True, False, False, False, False, False, False, False, False, False, False, False, False, False, False, False, False, False, False, False, False, False, False, False, False, False, False, False, False, False, False, False, False, False, False, False, False, False, False, False, False, False, False, False, False, False, False, False, False, True, False, False, False, False, False, False, False, False, False, False, True, False, False, False, False, False, False, False, True, False, False, False, False, False, True, False, False, False, False, False, False, False, False, False, False, False, False, False, False, False, False, False, False, False, False, False, False, False, False, False, False, False, False, False, False, False, False, False, False, False, True, True, False, False, False, False, False, False, False, False, False, False, True, False, False, False, False, True, False, False, False, False, False, True, False, False, True, False, False, False, False, False, False, False, False, False, False, False, False, False, False, False, False, False, False, False, False, False, False, False, False, False, False, False, False, False, False, False, False, False, False, False, False, False, True, False, False, False, False, False, False, False, False, False, False, False, False, False, False, False, False, False, False, False, False, False, False, False, False, False, False, False, False, False, False, False, False, False, False, False, False, False, False, False, False, False, False, False, False, False, False, False, True, False, False, False, False, False, False, False, False, False, False, False, False, False, False, False, False, False, False, False, False, False, False, False, False, False, False, False, False, False, False, True, True, False, False, False, False, False, False, False, False, False, False, False, False, False, False, False, False, False, False, True, False, False, False, False, False, False, False, False, False, False, False, False, False, False, False, False, False, False, False, False, False, False, False, False, False, False, False, False, False, False, False, False, False, False, False, False, False, False, False, False, False, False, False, False, False, False, False, False, False, False, False, False, False, False, False, False, False, False, False, False, False, False, False, False, False, False, False, False, False, False, False, False, False, False, False, False, False, False, False, False, False, False, False, False, False, False, False, False, False, False, False, False, False, False, False, False, False, False, False, False, False, False, True, False, False, False, False, True, False, False, False, False, False, False, False, False, False, False, False, False, False, False, False, False, False, False, False, False, False, False, False, False, False, False, False, False, False, False, False, False, False, False, False, False, True, False, False, False, False, False, False, False, False, False, False, False, False, False, False, False, False, False, False, False, False, False, False, False, False, False, False, False, False, False, False, False, False, True, False, True, False, False, True, False, False, False, True, False, False, False, False, False, False, False, False, False, False, False, False, False, False, False, False, False, False, False, False, True, False, False, False, False, False, False, False, False, False, False, False, True, True, False, False, True, True, False, False, False, True, False, False, True, False, False, False, True, False, False, False, False, True, True, False, False, False, False, False, False, False, True, True, False, False, False, False, False, False, False, False, False, False, False, False, False, False, False, False, False, False, False, False, False, False, False, False, True, False, False, False, False, False, False, False, False, False, False, False, False, False, False, False, False, False, False, False, False, False, False, False, False, False, False, False, False, False, False, False, False, False, False, False, False, False, False, False, False, False, False, False, False, False, False, False, False, False, False, False, False, False, False, False, False, False, False, False, False, False, False, False, False, False, False, False, False, False, False, False, False, False, False, False, False, False, False, False, False, False, False, False, False, False, False, False, False, False, False, False, False, False, False, True, False, False, True, False, False, False, False, False, False, False, False, False, False, False, False, False, False, False, False, False, False, False, False, False, False, False, False, False, False, False, False, False, False, False, False, False, False, False, False, False, True, False, False, False, False, False, False, False, False, False, False, False, False, False, False, False, False, False, False, False, False, False, False, False, False, False, False, False, False, False, False, False, False, False, False, False, False, False, False, False, False, False, False, False, False, False, False, False, False, False, False, False, False, False, False, False, False, False, False, False, True, False, False, False, False, False, False, False, False, False, False, False, False, False, False, False, False, True, False, False, False, False, False, False, False, False, False, False, False, False, False, False, True, True, False, False, False, False, False, False, False, False, False, False, False, False, False, False, False, True, False, False, False, False, True, False, False, False, True, False, False, False, True, False, True, False, False, False, False, False, False, False, False, True, False, False, False, False, False, False, False, False, False, False, False, False, False, True, False, False, False, False, False, False, False, False, False, False, False, False, False, False, False, False, False, False, False, False, False, False, False, False, False, False, False, False, True, False, False, False, False, False, False, False, False, False, False, False, False, False, False, False, False, False, False, True, False, True, False, False, False, False, False, False, False, False, False, False, False, False, False, False, False, False, False, False, False, False, False, False, False, False, False, False, False, False, False, True, False, False, False, False, True, False, False, False, False, False, False, False, False, False, False, False, False, True, False, False, False, False, False, False, False, False, False, False, False, False, False, False, False, False, False, True, False, False, False, False, False, False, False, False, False, False, False, False, False, False, False, False, False, False, False, False, False, False, False, False, False, True, False, False, False, False, False, False, False, False, False, False, False, False, False, False, False, False, False, False, False, False, False, False, False, False, False, False, False, False, False, False, False, True, False, False, False, False, False, False, False, False, False, False, False, False, False, False, False, False, False, False, False, False, False, False, False, False, False, False, False, False, False, False, False, False, False, False, False, False, False, False, False, False, False, False, False, False, False, False, False, False, False, False, False, False, False, False, False, False, False, False, False, False, False, False, False, False, False, False, False, False, False, False, False, False, False, False, False, False, False, False, False, False, False, False, False, False, False, False, False, False, False, False, False, False, False, False, False, False, False, False, False, False, False, False, True, False, False, False, False, False, False, False, False, False, False, False, False, False, False, False, False, False, False, False, False, False, False, False, True, False, False, False, False, False, False, False, False, False, False, False, False, False, False, False, False, False, False, False, False, False, False, False, False, False, True, True, False, False, False, False, False, False, False, True, False, False, False, False, True, False, False, False, False, False, False, True, False, False, False, False, False, False, False, False, False, False, False, False, False, False, False, False, False, False, False, False, False, False, False, False, False, False, False, False, False, False, False, False, True, False, False, False, False, False, False, False, False, False, False, True, False, False, False, False, False, False, False, False, False, False, False, False, False, False, False, False, False, False, False, False, False, False, False, False, False, False, False, False, False, False, False, False, False, False, False, False, False, False, False, True, False, False, False, False, False, False, False, False, False, False, False, False, False, True, False, False, False, False, False, False, False, False, False, False, False, False, False, False, False, False, False, False, False, False, False, False, False, False, False, False, False, False, False, False, False, False, False, False, False, False, False, False, False, False, False, False, False, False, False, False, True, False, False, False, False, False, False, False, False, False, False, False, False, False, True, False, False, False, False, False, False, False, False, False, False, False, False, False, False, False, False, False, False, False, False, False, False, False, False, False, False, False, False, False, False, False, False, False, False, False, False, False, False, False, False, False, False, False, False, False, False, False, False, False, False, False, False, False, False, False, False, False, False, False, False, False, False, False, False, False, False, False, False, False, True, True, False, False, True, False, True, True, False, False, False, True, False, False, False, False, False, False, False, False, False, False, False, False, False, False, False, False, False, False, False, False, False, False, False, False, True, False, False, False, False, False, True, False, False, False, False, False, True, False, False, False, False, False, False, False, False, False, True, False, False, False, False, False, False, False, False, False, False, False, False, False, False, False, False, False, False, True, False, False, False, True, False, False, False, False, False, True, False, True, False, False, False, False, True, False, False, False, False, False, False, False, False, False, False, False, False, False, True, False, False, False, False, False, False, False, False, False, False, False, False, False, False, False, False, False, False, False, False, False, False, False, True, False, False, False, False, False, True, False, False, False, True, True, False, False, False, False, False, False, False, False, False, False, False, False, False, False, False, True, False, True, False, False, False, False, False, False, False, False, False, False, False, False, False, False, False, False, False, False, False, False, False, False, False, False, False, False, False, False, False, False, False, False, False, False, False, False, False, False, False, False, True, False, False, False, True, False, True, False, False, False, True, False, False, False, False, False, False, False, False, False, False, False, False, False, False, False, False, False, False, False, False, True, False, False, False, False, True, False, False, False, False, False, False, False, False, False, False, False, False, False, False, False, False, False, True, True, False, False, False, False, False, False, False, False, False, False, False, False, False, False, False, False, False, False, False, False, False, False, False, False, False, False, False, False, False, True, False, False, False, False, False, False, False, False, False, False, False, False, False, False, False, False, False, True, True, False, False, False, False, False, False, False, False, False, False, False, False, False, False, False, False, False, False, False, False, False, False, False, False, False, False, False, False, False, True, False, False, False, False, False, False, False, False, False, False, False, False, False, False, False, False, False, False, False, False, False, False, False, False, False, False, False, False, False, False, False, False, False, False, False, False, False, False, False, False, False, False, False, False, False, False, False, False, False, False, False, True, False, False, False, False, False, False, False, False, False, False, False, False, False, False, False, False, False, False, False, False, False, False, False, False, False, False, False, False, False, False, False, False, True, False, False, False, False, False, False, False, False, False, False, True, True, False, True, False, False, False, False, False, False, False, False, False, False, False, False, False, False, False, True, False, False, False, False, False, False, False, False, False, False, False, False, False, False, True, False, False, False, False, False, False, False, False, False, False, False, False, False, False, False, False, False, False, False, False, False, True, False, False, False, False, False, False, False, False, False, False, False, False, False, False, False, False, False, False, False, False, False, False, False, True, False, False, False, False, False, False, False, False, False, False, False, False, False, False, False, False, False, False, False, False, False, False, False, False, False, False, False, False, False, False, False, False, False, False, False, False, False, False, False, False, False, False, False, False, False, False, False, False, False, True, False, False, False, False, True, False, False, False, False, False, False, False, False, False, False, False, False, False, False, True, True, False, False, False, False, False, False, False, False, True, False, False, False, False, False, False, False, False, False, True, False, False, False, False, False, False, False, False, False, False, False, False, False, True, False, False, False, False, False, False, False, False, False, False, False, False, False, False, False, False, True, True, False, False, False, False, False, False, False, False, False, False, False, True, True, False, True, False, False, False, False, False, False, False, False, False, False, False, False, False, False, False, False, False, False, False, False, False, False, False, False, True, False, False, False, False, False, False, False, False, True, False, False, False, False, False, False, False, False, False, False, False, False, False, False, False, False, False, False, False, False, False, False, False, False, False, False, False, False, False, False, False, True, False, True, False, False, False, False, False, False, False, False, False, False, False, False, False, True, False, True, False, False, False, False, False, False, False, False, False, True, False, False, False, False, False, False, False, False, False, False, False, True, False, True, False, False, False, False, False, False, False, False, False, False, False, False, False, False, True, False, False, False, False, False, False, False, False, False, True, False, False, False, False, False, False, False, False, False, False, False, False, False, True, False, False, False, False, True, False, False, False, False, False, False, False, False, False, False, True, True, False, False, False, False, False, False, False, True, True, False, True, False, False, False, False, False, False, False, True, False, False, False, False, False, False, False, False, False, False, False, False, False, False, False, False, False, True, False, False, False, True, True, False, False, False, False, False, False, False, False, False, False, False, False, False, True, False, False, False, False, False, False, False, False, False, False, False, False, True, True, False, False, False, False, False, True, False, False, False, False, False, False, False, False, False, False, False, False, False, False, True, False, False, False, False, True, False, False, False, False, False, False, False, False, False, False, False, False, False, False, False, False, False, True, False, False, False, False, False, False, False, False, False, False, False, False, False, False, False, False, False, False, False, False, True, False, False, False, False, False, False, False, False, False, False, False, False, False, False, False, False, False, False, False, False, False, False, False, False, False, False, False, False, False, False, False, False, False, False, False, False, False, False, False, True, False, False, False, False, False, False, False, False, False, True, False, False, False, False, True, False, False, False, False, False, False, False, False, False, True, False, False, False, False, False, False, True, False, False, False, True, False, False, False, False, False, False, False, False, False, False, False, False, False, False, False, False, False, False, False, False, False, False, True, False, False, False, False, False, False, False, False, False, False, False, False, False, False, False, True, False, False, False, False, False, False, False, False, False, False, False, False, False, True, True, False, True, False, False, False, False, False, False, False, False, False, False, False, False, False, False, False, False, False, False, False, False, False, False, False, False, False, True, False, False, False, False, True, False, False, False, False, False, False, False, False, False, False, False, False, False, False, False, False, False, False, False, False, False, False, False, False, False, False, False, False, True, True, False, True, False, True, False, False, False, False, False, True, False, False, False, False, True, False, False, False, False, False, False, False, False, False, False, False, False, False, False, False, False, False, False, False, True, True, False, True, False, True, True, False, False, False, False, False, False, True, False, False, False, False, False, False, False, True, True, False, False, False, False, False, False, False, False, False, False, False, True, False, False, False, False, False, False, False, False, False, False, False, False, False, False, False, False, False, False, False, False, False, False, False, False, False, False, False, False, False, False, False, False, False, False, False, True, False, False, False, False, False, False, False, False, False, False, False, False, True, False, True, False, False, False, False, False, False, False, True, False, False, False, True, False, True, True, False, False, False, True, False, True, False, False, False, False, False, False, False, False, True, False, False, False, False, True, False, False, False, False, True, False, False, False, False, False, True, False, False, False, False, False, False, False, False, False, False, False, True, False, False, False, False, False, False, False, False, False, True, False, False, False, False, False, True, False, False, False, False, False, False, False, False, False, False, False, False, False, False, False, False, False, False, False, False, False, False, False, False, False, False, True, False, False, False, False, False, False, True, False, False, False, False, False, False, False, False, False, False, False, False, False, False, False, False, False, False, False, False, False, False, False, False, False, False, False, False, False, False, False, False, False, False, False, False, False, False, False, False, False, False, False, False, False, False, False, False, False, False, False, False, False, False, False, False, False, False, False, False, False, False, True, True, False, False, True, False, False, False, False, False, False, False, False, False, False, False, False, False, False, False, False, False, False, False, False, True, False, False, True, False, False, False, True, False, False, False, False, False, False, False, False, False, False, False, False, False, False, False, False, False, False, False, False, False, False, False, False, False, True, False, False, False, False, False, False, False, False, False, False, False, False, False, False, False, False, False, False, True, False, False, False, False, False, False, False, False, False, False, False, False, False, False, False, False, False, False, False, False, False, False, False, True, True, False, False, False, False, False, False, False, False, False, False, False, False, False, False, False, False, False, False, False, False, False, False, False, False, False, False, False, False, True, False, False, False, False, False, False, False, False, False, False, False, False, False, True, False, False, False, False, False, False, True, False, False, False, False, False, False, False, False, False, False, False, False, False, False, False, False, False, False, False, False, False, False, False, False, False, False, False, False, False, False, False, False, True, False, False, False, False, False, True, True, False, True, False, False, False, False, False, False, False, False, True, False, True, False, False, False, False, False, False, True, False, False, False, False, False, False, False, False, False, False, False, False, False, False, False, False, True, False, False, False, False, False, False, False, False, False, False, False, False, False, False, False, False, True, False, True, False, False, False, False, False, False, False, False, True, False, False, False, False, False, False, True, False, False, False, False, False, False, False, False, False, False, False, False, False, False, False, False, False, True, False, False, False, True, False, False, True, True, False, False, False, False, False, False, False, False, False, False, False, False, False, False, False, False, False, False, False, False, False, False, True, False, False, False, False, True, False, False, False, False, False, False, False, False, True, False, False, False, False, False, True, False, False, False, False, False, False, False, False, False, False, False, False, False, False, False, False, False, False, False, False, False, False, False, False, False, True, False, False, False, False, False, False, False, False, False, False, True, False, False, True, False, False, False, False, True, False, False, False, True, False, False, False, False, False, False, False, False, False, False, False, False, False, False, False, True, False, False, False, False, False, False, False, False, False, False, False, False, False, False, False, True, False, False, False, False, False, False, False, False, True, False, False, False, False, False, False, False, False, False, False, False, False, False, False, False, False, False, False, False, False, False, False, False, False, False, False, False, False, False, False, False, False, False, True, True, False, False, False, False, False, False, False, False, False, False, False, False, False, False, False, False, False, True, False, False, False, False, False, False, False, False, False, False, False, False, False, False, False, False, False, False, False, False, False, False, False, False, False, False, False, False, False, False, False, False, False, False, False, False, False, False, False, True, True, True, False, True, False, False, False, False, False, False, False, False, True, False, False, True, False, False, False, False, False, False, False, False, False, False, False, False, False, False, False, False, False, True, False, True, False, False, False, False, False, False, False, True, False, False, False, False, True, False, False, False, False, False, False, True, False, False, False, False, False, False, True, False, True, True, False, False, True, False, False, False, False, False, False, False, False, False, True, False, False, False, False, False, False, False, False, False, False, False, False, False, False, False, False, True, False, False, False, True, False, True, False, False, False, False, True, True, False, False, False, False, True, False, False, False, False, True, False, False, False, False, False, False, False, False, False, False, False, False, False, False, False, False, False, True, True, False, False, True, False, False, False, False, False, False, False, False, False, False, False, False, False, False, False, False, False, False, False, False, False, True, False, False, True, False, True, False, False, False, False, False, False, False, False, False, False, False, False, False, False, False, True, False, False, False, False, False, True, False, False, False, False, False, False, False, False, False, True, False, False, False, False, False, False, False, False, False, False, False, True, True, False, False, False, False, False, True, False, False, False, False, False, False, False, False, False, False, False, False, False, False, False, False, False, False, False, False, True, False, False, False, False, True, False, False, False, False, False, True, True, False, False, True, False, False, False, False, False, True, True, False, False, False, False, False, False, False, False, False, False, False, True, True, False, False, True, True, False, False, False, False, False, False, False, True, False, False, False, False, False, False, False, False, False, False, True, False, True, False, False, False, False, False, False, False, False, False, False, False, False, False, False, True, False, False, False, False, False, False, False, False, False, False, False, False, True, False, False, False, True, False, False, False, False, False, False, False, False, False, False, False, False, True, False, False, False, False, False, False, False, False, False, False, False, False, False, False, True, False, False, False, False, False, False, True, False, False, False, False, False, False, False, False, False, False, False, False, False, False, True, False, False, False, False, False, False, False, True, True, False, False, True, False, False, False, False, False, False, True, False, False, False, False, False, False, False, False, False, False, False, False, True, False, False, False, False, True, False, True, False, False, False, False, False, False, False, False, False, False, False, False, True, False, False, False, False, False, False, False, False, False, False, False, False, False, False, False, False, False, False, False, False, False, False, False, False, True, False, False, False, False, False, False, False, False, False, False, True, False, False, False, False, False, False, True, False, False, False, False, False, True, False, False, True, False, False, True, False, False, False, False, False, False, True, False, False, False, False, False, False, False, False, False, False, False, False, True, False, False, False, False, False, False, False, False, False, False, False, False, True, False, False, False, False, False, False, False, False, False, False, False, False, False, False, True, False, False, False, False, False, False, False, False, False, False, False, False, False, False, False, False, False, False, False, True, False, False, True, False, False, False, False, False, False, False, False, False, False, False, False, False, False, False, False, False, False, False, False, False, False, False, False, False, False, False, False, True, False, False, False, False, False, False, False, False, False, False, False, False, True, True, False, False, False, False, False, False, False, False, False, False, False, False, False, False, False, True, False, False, False, False, True, False, False, True, False, False, False, False, False, False, False, False, False, False, False, False, False, False, False, True, True, False, False, False, False, False, False, False, False, False, False, True, False, False, False, False, False, False, False, False, False, False, True, False, False, False, False, False, False, False, False, False, False, False, True, False, False, False, False, False, False, False, False, False, False, False, False, False, False, False, False, False, False, False, False, False, False, False, False, False, False, False, False, False, False, False, False, False, False, False, False, True, False, False, False, False, False, False, False, False, True, False, False, False, False, True, False, False, False, False, False, False, False, False, False, False, True, False, False, False, False, False, False, False, False, False, True, False, False, False, False, False, False, False, False, False, False, False, False, False, False, False, False, False, False, False, False, False, False, False, False, False, False, False, False, False, False, False, False, False, True, False, False, False, False, False, False, False, False, False, False, False, False, True, False, False, False, False, False, False, False, False, False, True, False, False, False, False, False, False, False, False, False, False, False, False, False, False, False, False, False, False, True, False, False, False, False, False, False, False, False, False, False, False, False, False, False, False, True, False, False, False, False, False, True, True, False, False, False, False, False, False, False, False, True, False, False, False, False, False, False, False, False, False, False, True, False, True, False, True, False, False, False, False, False, False, False, False, False, False, False, False, False, False, False, False, False, False, False, False, False, False, False, False, False, False, True, False, False, False, False, False, False, False, False, False, False, False, True, False, False, False, False, True, False, False, False, False, False, False, False, False, False, False, False, False, False, False, False, False, False, False, False, False, False, True, False, False, False, False, False, False, False, False, False, False, False, False, False, False, True, False, False, False, False, False, False, False, False, False, False, False, False, True, False, False, False, False, False, False, False, False, False, False, False, False, False, False, False, False, False, False, False, False, False, True, False, False, False, False, True, False, False, False, False, False, False, False, False, False, False, False, False, False, False, True, False, False, False, False, False, False, False, False, False, False, False, False, False, False, False, False, False, False, False, False, False, False, False, False, False, False, False, False, False, False, False, False, False, False, False, False, False, False, False, False, False, False, False, False, False, False, False, False, False, False, False, False, False, False, False, False, False, False, False, False, False, False, False, False, False, False, False, False, False, False, False, False, False, False, False, False, False, False, False, False, False, False, False, False, False, False, False, False, False, False, False, False, False, False, False, False, True, False, False, False, False, False, False, False, False, True, False, False, False, False, False, False, False, False, False, False, False, False, False, False, False, False, False, False, False, False, False, False, False, False, False, False, False, False, False, False, False, False, True, False, False, False, False, False, False, False, False, False, False, False, False, False, False, True, False, False, False, False, False, False, False, False, False, False, False, False, False, False, False, False, False, False, False, False, False, False, False, False, False, False, False, False, False, False, False, False, False, False, True, False, False, False, False, False, False, False, False, False, False, False, False, True, False, False, False, False, False, True, False, False, False, False, False, False, False, False, False, False, False, False, False, False, False, False, False, False, False, False, False, False, False, False, False, False, False, False, False, False, False, False, False, False, True, False, False, False, False, False, False, False, False, False, False, False, False, False, False]\n"
          ],
          "name": "stdout"
        },
        {
          "output_type": "execute_result",
          "data": {
            "text/plain": [
              "[' HD screen for really sharp pictures if you are streaming movies',\n",
              " ' Excellent that it even comes with a screen saver',\n",
              " 'Really, great screen',\n",
              " ' Display hat etwas schÃ¤chen',\n",
              " 'Screen is very sharp and gives excellent colors and viewing angles, Features and smart details in the software, Camera is great with high quality images and many options like a 50Megapixel mode, RAW, Animated GIF, Slow shutter mode, Superb HDR-mode',\n",
              " ' The body tolerable slim, with a thickness of about 9',\n",
              " ' In a perfect world the only thing I would want better in this phone is the screen on time(battery), it is good but you always want more juice, right? Pre ordered my Find 7 in June, the white version',\n",
              " ' Great build quality and fantastic screen',\n",
              " ' The phone box was in an anonymous looking brown box which itself contained a very sleek black box not dissimilar to a fancy watch box',\n",
              " 'Clear, crisp big screen',\n",
              " 'Am using this phone from past 2 weeks, 2K display best in business its beats LG G3, Snapdragon 801 processor, no lag whatsoever till now 32GB inbuilt and expandable upto 128GB 3GB RAM, 5MP front cam is best till now it will record 4K video also quality of video is excellent',\n",
              " ' Be careful if you plan on adding a third party rom to this device as the new Find 7 variant has an updated display driver which is not supported by a number of third party roms as standard!',\n",
              " \" I've had this for a few weeks now and have been very impressed, the large screen has great, crystal clear resolution and is perfectly responsive (although I have been unable to use it whilst wearing gloves - contrary to the claims in\",\n",
              " 'First off, I love the phone the screen is amazing and having come from a sony Xperia Z just about everything is an improvement',\n",
              " '5\" Smartphone With A Beautiful Display And A Truly Amazing Camera, The Audio Quality From The Rear Speaker Was Amazing Even When Face Up On Surfaces Thanks To The Small Bumb Just Above It To Lift It From The Surface',\n",
              " ' Volume can be VERY loud, screen is great and people have commented to me on the clarity of the image',\n",
              " ' Big, beautiful display 2',\n",
              " ' Big, beautiful display 2',\n",
              " ' Display is better then other cheap others love ke this',\n",
              " ' The sound is good and the screen is very clear',\n",
              " ' My previous phone had its screen cracked from a fall around July, and overall, I was starting to get anxious to be back with',\n",
              " 'Nice screen responsive processor but YOU CAN NOT use this phone in the USA as it does not support the 4g LTE networks in the United States',\n",
              " 'Fantastic phone except like all big screen phones you need to charge it every night',\n",
              " ' Two minor issues - no led notification light, and as mentioned by someone else if you close case onto screen it can activate an app accidently (I just',\n",
              " \" The screen may not QUITE be as responsive as my S6, but it certainly isn't a problem\"]"
            ]
          },
          "metadata": {
            "tags": []
          },
          "execution_count": 39
        }
      ]
    },
    {
      "cell_type": "code",
      "metadata": {
        "id": "OlV6wMR6a_pY",
        "colab": {
          "base_uri": "https://localhost:8080/",
          "height": 498
        },
        "outputId": "ddc08dfc-df75-4b96-858f-122268d6092d"
      },
      "source": [
        "camera_aspect_sents = aspect_sent_check(doc_complete,camera)\n",
        "camera_aspect_sents[:25]"
      ],
      "execution_count": null,
      "outputs": [
        {
          "output_type": "stream",
          "text": [
            "[False, False, False, False, False, False, False, False, False, False, False, False, False, False, False, False, False, False, False, False, False, False, False, False, False, False, False, False, False, False, False, False, False, False, False, False, False, False, False, False, True, False, False, False, False, False, False, False, False, False, False, False, False, False, False, False, False, False, False, False, False, False, False, False, False, True, False, False, False, False, False, False, False, False, False, False, False, False, False, False, False, False, False, False, False, False, True, False, False, False, False, True, False, False, False, False, False, False, False, False, False, False, False, False, False, False, False, False, False, False, False, False, False, False, False, False, False, False, False, False, False, True, False, False, False, True, False, False, True, False, False, False, False, False, False, False, False, False, False, False, False, False, False, False, False, False, False, False, False, False, False, False, False, False, False, False, False, False, False, False, False, False, False, False, False, False, False, False, False, False, False, False, False, False, False, True, False, False, False, False, False, False, False, False, False, False, False, False, False, False, False, False, False, False, False, False, False, False, False, False, False, False, False, False, False, False, False, False, False, False, False, False, False, True, False, False, False, False, False, False, False, False, False, False, False, False, False, False, False, False, False, False, False, False, False, False, False, False, False, False, False, False, False, False, False, False, False, False, False, False, False, False, False, False, False, False, False, True, False, False, False, False, False, False, False, False, False, False, False, False, False, False, False, True, False, False, False, False, False, False, False, False, False, False, False, False, False, False, False, False, False, False, False, False, False, False, False, False, False, False, False, False, False, False, False, False, False, False, False, False, False, False, False, False, False, False, False, False, False, False, False, False, False, False, False, False, False, False, False, False, False, False, False, False, False, False, False, False, True, False, False, False, False, False, False, False, False, False, False, False, False, False, False, False, False, False, False, False, False, False, True, False, False, False, False, False, False, False, False, False, False, False, False, False, False, False, False, True, False, False, False, False, False, False, False, True, False, False, False, False, False, False, False, False, False, False, False, False, False, False, False, False, False, False, False, False, False, False, False, False, False, False, False, False, False, False, False, False, False, True, False, False, False, False, False, False, False, False, False, False, False, False, False, False, False, True, False, False, False, False, False, False, False, False, False, False, False, False, False, False, False, False, False, False, False, False, False, False, False, False, False, False, False, False, False, False, False, False, False, False, False, False, False, False, False, False, False, False, False, False, True, False, False, False, False, False, False, False, False, False, False, False, False, False, True, False, False, True, False, False, False, False, False, False, False, False, False, False, False, False, False, False, False, False, False, False, False, False, False, False, False, False, False, False, False, False, False, False, False, False, False, False, False, False, True, False, False, False, False, False, False, False, False, False, False, False, False, False, False, False, False, False, False, False, True, False, False, False, False, False, False, False, False, False, False, False, False, False, False, False, False, False, False, True, False, False, False, False, False, False, False, False, False, False, False, False, False, False, False, False, False, False, False, False, False, False, False, False, True, True, False, False, False, True, False, False, False, False, False, False, False, False, False, False, False, False, False, False, False, False, False, False, False, False, False, False, False, False, False, False, False, False, False, False, False, False, False, False, False, False, False, False, False, False, False, False, False, False, False, False, False, False, False, False, False, False, False, False, True, True, False, True, False, False, False, False, False, False, False, False, False, False, False, False, False, False, False, False, True, False, False, False, False, False, False, False, False, False, True, False, False, False, False, False, False, False, False, False, False, False, False, False, False, False, False, False, False, False, False, False, False, False, False, False, False, False, False, False, False, False, False, False, False, False, True, False, False, False, False, False, False, False, False, False, False, False, False, False, True, False, False, False, False, False, False, False, False, False, False, True, False, False, True, False, False, False, False, False, False, False, False, False, False, True, True, False, False, False, False, False, False, False, False, False, False, False, False, False, False, False, False, False, False, False, False, False, False, False, False, False, True, False, False, True, False, False, False, False, False, False, False, True, False, False, False, True, False, False, False, False, False, False, False, False, False, False, False, False, False, False, False, False, False, False, False, False, False, False, False, False, False, False, False, False, False, False, False, False, False, False, False, False, False, False, False, False, False, False, False, False, False, False, False, False, False, False, False, False, False, False, False, False, False, False, False, False, False, False, False, False, False, False, False, False, False, False, False, False, False, True, False, False, False, False, False, False, False, False, False, False, False, False, False, False, False, False, False, False, True, True, False, False, False, False, False, False, False, False, False, False, False, False, False, False, False, False, False, False, False, False, False, True, False, False, False, False, False, False, False, False, False, False, False, False, False, False, False, False, False, False, False, False, False, False, False, False, False, False, False, False, False, False, False, False, False, False, False, False, False, False, False, False, False, False, False, False, False, False, False, False, False, False, False, False, False, False, False, False, False, False, False, False, False, False, False, False, False, False, False, False, False, False, False, False, False, False, False, False, False, False, False, False, False, False, False, False, False, False, True, False, False, False, False, False, False, False, False, False, False, False, False, False, False, False, False, False, False, False, False, False, False, False, False, False, False, False, False, False, False, False, False, False, False, False, False, False, False, False, False, False, False, False, False, False, False, False, False, True, False, False, False, False, False, False, False, False, False, False, False, False, False, False, False, False, True, False, False, False, False, False, False, False, False, False, False, False, False, False, False, False, False, False, False, False, False, False, False, False, False, False, False, False, False, False, False, False, False, False, False, False, False, False, False, False, False, False, False, False, False, False, False, False, False, False, False, False, False, False, False, False, False, False, False, False, False, True, False, False, True, False, False, False, False, False, False, False, False, False, False, False, False, True, False, False, False, False, False, False, False, False, False, False, False, True, False, False, False, False, True, False, False, False, False, False, False, False, False, False, False, False, False, False, False, False, False, False, False, False, False, False, False, False, False, False, False, False, False, False, False, False, False, False, False, False, False, False, False, False, False, False, False, False, False, False, False, False, False, False, False, False, False, False, False, True, False, False, False, False, False, False, False, False, False, False, False, False, False, False, False, False, False, False, False, False, False, False, False, False, False, False, False, False, False, False, False, False, False, False, False, False, False, False, False, False, False, False, False, False, False, False, False, False, False, False, False, False, False, False, False, False, False, False, False, False, False, False, False, False, False, False, False, False, False, False, False, False, False, True, False, True, False, False, False, False, False, False, False, False, False, False, False, False, False, False, False, False, False, False, False, False, False, False, False, False, False, False, False, False, True, False, False, False, False, True, False, False, False, False, True, False, False, False, False, False, True, False, False, False, False, False, False, False, False, False, False, False, False, False, False, False, False, False, False, False, False, False, False, False, False, False, False, False, False, False, False, False, False, False, False, False, False, False, False, False, False, False, False, False, False, False, False, False, False, False, False, False, False, False, False, False, False, False, False, False, False, False, False, False, False, False, False, False, False, False, False, False, False, False, False, False, False, False, False, False, False, False, False, False, False, False, False, False, False, False, False, False, False, False, False, False, False, False, False, False, False, True, False, False, False, False, False, False, False, False, False, False, False, False, False, False, False, False, False, False, False, False, False, False, False, False, False, False, False, False, False, False, False, False, False, False, False, False, False, False, False, False, False, False, False, False, False, False, False, False, False, False, False, False, False, False, False, False, False, False, False, False, False, False, True, False, False, False, False, False, False, False, False, False, False, False, False, False, False, False, False, False, False, False, False, False, False, False, False, False, False, False, False, False, False, False, False, False, False, False, False, False, False, False, False, False, False, False, False, False, False, False, False, False, False, False, False, False, False, False, False, False, False, False, False, False, False, False, False, False, False, False, False, False, False, False, False, True, False, True, False, False, False, False, False, False, False, False, False, True, False, False, False, True, False, True, True, False, False, False, False, True, False, False, False, False, False, False, False, False, False, False, False, False, False, False, False, True, False, True, False, False, False, False, False, False, False, False, False, False, False, False, False, False, False, False, False, False, False, False, False, False, False, False, False, False, False, False, False, False, False, False, False, False, False, False, False, False, False, True, False, False, False, False, False, False, False, False, False, False, False, False, False, False, False, False, False, False, False, False, False, False, False, False, False, True, False, True, False, False, False, False, False, False, False, False, False, False, False, True, False, False, False, False, False, False, False, False, False, False, False, False, False, False, False, False, False, False, False, False, False, False, False, False, False, False, False, False, False, False, False, False, True, True, False, False, False, False, False, False, False, False, False, False, False, False, False, False, False, False, False, False, True, False, False, False, False, True, False, False, False, True, True, False, False, False, False, True, False, False, False, True, False, False, False, False, False, False, False, False, False, False, False, False, False, False, False, True, False, False, False, False, False, False, False, False, False, False, False, False, False, False, False, False, False, False, False, False, True, False, False, False, True, False, False, False, False, False, False, False, False, False, False, False, False, False, False, False, False, False, False, False, False, False, True, True, False, False, False, False, False, False, False, False, False, False, False, False, False, False, False, False, False, False, False, False, False, False, False, False, True, False, False, False, False, False, False, False, False, False, False, True, False, False, False, False, False, False, False, False, False, True, False, False, False, False, False, False, False, False, False, False, False, False, False, False, False, False, False, False, False, False, False, False, False, False, False, False, True, False, False, False, False, False, False, False, False, False, False, False, True, False, False, False, False, False, False, False, False, False, False, False, False, False, False, False, False, False, False, False, False, True, False, False, False, False, False, False, False, False, False, False, False, False, False, False, False, False, False, False, False, False, False, False, False, False, False, True, False, False, False, False, False, False, False, False, False, False, False, False, False, False, False, False, False, True, False, False, False, False, False, False, False, False, False, False, False, False, False, False, False, False, False, False, False, False, False, True, False, False, False, False, False, False, False, False, False, False, False, False, False, False, False, False, False, False, False, False, False, False, False, False, False, False, False, False, False, False, False, False, False, False, False, False, False, False, False, False, False, False, False, False, False, False, False, False, False, False, False, False, False, False, False, False, False, False, False, False, False, False, False, False, False, False, False, False, True, False, False, False, False, False, False, False, True, False, False, False, False, False, False, False, False, False, False, False, False, False, False, False, False, False, False, False, True, False, False, False, False, False, False, False, False, False, False, False, False, False, True, False, False, False, False, False, False, False, False, False, False, False, False, False, False, False, False, False, False, False, False, False, False, False, False, False, False, False, False, False, False, False, False, False, False, False, False, False, False, False, False, False, False, False, False, False, False, False, False, False, False, False, False, False, False, False, False, False, False, False, False, False, False, True, False, False, False, False, False, False, False, False, False, False, False, False, False, False, False, False, False, False, False, False, False, False, False, False, False, False, False, False, False, False, False, False, False, False, False, False, False, False, False, False, False, False, False, False, False, False, False, False, False, False, False, False, False, False, False, False, False, False, False, False, False, False, False, False, False, False, False, False, False, False, False, False, False, False, False, False, False, False, False, False, False, False, False, False, False, False, False, False, False, False, False, False, False, False, False, False, False, False, False, False, False, False, False, False, False, False, False, False, False, False, False, False, False, False, False, False, False, False, False, False, False, False, False, False, False, False, False, False, False, False, False, False, False, False, False, False, False, False, False, False, False, False, False, False, False, False, False, False, False, False, False, False, False, False, False, False, False, False, False, False, False, False, False, False, False, False, False, False, False, False, False, False, False, False, False, False, False, False, False, False, False, False, False, False, False, False, False, False, False, False, False, False, False, False, False, False, False, False, False, False, False, False, False, False, False, False, False, False, False, False, False, False, False, False, False, False, False, False, False, False, False, False, False, False, False, False, False, False, False, False, False, False, False, False, False, False, False, False, False, False, True, False, True, False, False, False, False, False, False, False, False, False, False, False, False, False, False, False, False, False, False, False, False, False, False, True, False, False, False, False, False, False, False, False, False, False, False, False, False, False, False, False, False, False, False, False, False, False, False, False, False, False, False, False, False, False, False, False, True, False, False, False, False, False, False, False, False, False, False, True, False, False, False, True, False, False, False, False, False, True, False, False, True, False, False, False, False, False, False, False, False, True, True, False, False, False, False, False, False, False, False, False, False, False, False, True, False, False, False, False, False, False, True, False, True, True, False, False, False, False, False, False, False, False, False, False, False, False, False, False, False, False, False, False, False, False, False, False, True, False, False, False, True, False, False, False, False, True, False, False, False, False, False, False, False, False, False, False, False, False, False, False, True, False, False, True, False, False, False, True, False, False, False, False, False, False, False, False, False, False, False, False, False, False, False, False, False, False, True, True, False, False, False, False, False, False, False, False, False, True, False, True, False, False, False, False, False, False, False, True, False, False, False, False, False, False, False, False, False, False, False, False, False, False, False, False, False, False, False, False, False, False, False, True, False, False, False, False, False, True, False, False, False, True, False, False, False, False, False, False, False, False, False, True, False, False, False, False, False, False, False, False, False, False, True, False, False, False, False, False, False, False, False, False, False, False, False, False, False, False, False, False, False, False, False, False, False, True, False, True, True, False, False, True, False, False, False, True, False, False, False, False, True, False, False, False, False, False, False, False, False, False, False, True, False, False, False, False, False, False, False, False, True, True, False, False, False, False, False, False, False, False, False, False, False, True, False, False, False, False, False, False, False, False, True, False, True, False, False, False, False, False, False, False, False, False, False, True, True, False, False, False, True, False, False, False, False, False, False, False, False, False, False, False, False, False, False, False, False, False, True, False, False, False, False, False, False, False, False, False, False, True, False, False, False, False, False, False, False, False, False, False, False, False, False, False, False, False, False, False, False, False, True, False, False, False, False, False, True, False, False, False, False, False, False, False, False, True, False, False, False, False, False, False, False, False, False, False, False, True, False, True, False, False, False, False, False, False, False, False, False, False, False, False, False, False, False, False, False, False, False, False, False, False, False, False, True, False, False, False, False, False, False, False, True, False, False, False, False, False, False, True, False, False, False, False, True, False, False, False, False, False, False, False, False, True, False, False, False, False, False, False, False, False, False, False, False, False, False, False, False, False, False, True, False, False, False, False, True, False, False, False, False, False, True, False, False, False, True, False, False, False, False, False, False, False, True, False, False, False, False, False, False, False, False, False, True, True, False, False, True, False, False, False, False, False, False, False, False, False, False, False, False, False, False, False, False, False, True, False, False, False, False, False, False, False, False, False, False, False, False, False, False, False, False, False, False, False, False, False, False, False, False, False, False, False, False, False, False, False, False, False, False, False, True, False, False, False, False, False, False, False, False, True, False, False, False, False, False, False, False, False, False, False, False, False, False, False, False, False, False, False, False, False, False, False, False, False, False, False, False, False, False, False, False, False, False, False, False, False, False, False, False, False, False, False, False, False, False, False, False, False, False, False, False, False, False, False, False, False, False, False, False, False, False, False, False, False, False, False, False, False, False, False, False, False, False, False, False, False, False, False, False, False, False, False, False, False, False, False, False, False, False, False, False, False, False, False, False, False, False, False, False, False, False, False, False, False, False, False, True, False, False, False, False, False, False, False, True, False, False, True, False, False, False, False, False, False, False, False, False, False, False, False, False, False, False, False, False, False, False, False, False, False, False, False, False, False, False, False, False, False, False, False, False, False, False, False, False, False, False, False, False, False, True, False, False, False, False, True, True, False, False, True, False, False, False, False, True, False, False, False, False, False, False, False, False, False, True, False, False, False, False, False, False, False, False, False, False, False, False, False, False, False, False, False, False, False, True, False, False, False, False, False, False, True, False, False, False, False, False, False, False, False, False, False, False, False, False, False, False, False, False, False, False, False, False, False, False, False, True, False, False, False, False, False, False, False, False, False, False, False, False, False, False, False, False, False, False, False, False, False, False, False, False, False, False, False, False, False, False, False, False, False, False, False, False, False, False, False, False, True, False, True, False, False, False, False, False, False, False, False, False, False, False, False, False, False, False, False, False, False, False, False, False, False, False, False, False, False, False, False, False, False, False, False, False, False, False, False, False, False, False, False, False, False, False, False, False, True, False, False, False, False, False, False, False, False, False, False, False, False, False, False, False, False, False, False, False, False, False, False, False, False, False, False, False, False, False, False, False, True, False, True, False, False, False, False, False, False, False, False, False, False, False, False, False, False, False, False, False, True, False, False, False, False, False, False, False, True, False, False, False, False, False, False, True, False, False, False, False, True, False, False, False, False, False, False, False, False, False, False, False, False, False, False, False, False, False, False, False, False, False, False, False, False, False, False, False, False, False, False, False, False, False, False, False, False, False, False, True, False, False, False, False, False, False, False, False, True, False, False, False, False, False, False, False, False, False, False, False, False, False, False, False, False, False, False, False, False, False, False, False, True, False, False, False, False, False, False, False, False, False, False, False, False, False, False, False, False, False, False, False, False, False, False, False, False, False, False, False, False, False, False, False, False, False, False, False, False, False, False, False, False, False, False, False, False, False, False, False, False, False, False, False, False, False, False, False, False, False, False, False, False, False, False, False, False, False, False, False, False, False, False, False, False, False, False, False, False, False, False, False, False, False, False, False, False, False, False, False, False, False, False, False, False, False, False, False, False, False, True, False, True, False, False, False, False, False, False, False, False, False, False, False, False, False, False, True, False, False, False, False, False, False, False, False, False, False, False, False, False, False, False, False, False, False, False, False, False, False, False, False, False, False, False, False, False, False, False, False, False, False, False, False, False, False, False, False, False, False, False, False, False, False, False, False, False, True, False, False, False, False, False, False, False, False, False, False, False, False, False, False, False, False, False, False, False, False, False, False, False, False, False, False, True, True, False, False, False, False, False, False, False, False, False, False, False, False, False, False, False, False, False, False, False, False, False, False, False, False, False, False, False, False, False, False, False, False, False, False, False, False, False, False, False, False, False, False, False, False, False, False, False, False, False, False, False, False, False, False, False, False, False, False, False, False, False, False, False, False, False, False, False, False, False, False, False, False, False, False, False, False, False, False, False, False, False, False, False, False, False, False, True, False, False, False, False, False, False, False, False, False, False, False, False, False, True, False, False, False, False, False, False, False, False, False, False, False, False, False, False, False, False, False, False, False, False, False, False, False, False, False, False, False, False, False, False, False, False, False, False, False, False, False, False, False, False, False, False, False, True, False, False, False, False, False, False, False, False, False, False, False, False, False, False, False, False, False, False, True, False, False, False, False, False, False, False, False, False, False, False, False, False, True, False, False, False, False, False, False, True, False, False, False, False, False, True, False, False, False, False, False, False, False, False, False, False, False, False, False, False, False, False, False, False, False, False, True, False, False, False, False, False, False, False, False, False, False, False, False, False, False, False, False, False, False, False, False, False, False, False, False, False, False, False, False, False, True, True, False, False, False, False, False, False, False, True, False, False, False, False, False, False, False, False, False, False, False, False, False, False, False, False, True, False, False, False, False, False, False, False, False, False, False, True, False, False, False, False, True, False, False, True, False, False, False, False, False, False, False, False, False, False, False, False, False, False, False, False, True, True, False, False, False, False, False, True, False, False, True, False, False, False, False, False, False, False, False, True, False, False, False, False, False, False, False, False, False, False, False, False, False, True, False, False, False, False, False, False, False, False, False, False, False, False, False, False, True, True, False, False, False, False, False, False, False, True, False, False, True, False, False, False, False, False, False, False, False, False, False, False, False, False, False, False, False, False, False, False, False, False, False, False, False, False, False, False, False, False, False, False, False, False, False, False, False, False, False, False, False, False, False, False, True, False, False, False, False, False, False, False, False, False, True, False, False, False, False, True, False, False, False, False, False, False, False, False, False, False, False, False, False, True, False, False, False, False, False, False, False, False, False, False, True, False, False, False, False, False, False, False, False, False, False, False, False, False, False, False, False, False, False, False, False, False, False, False, False, False, False, False, False, False, False, False, False, False, False, False, False, False, False, True, False, False, False, False, False, False, False, False, False, False, False, False, False, False, False, False, False, False, False, False, False, False, False, False, False, True, False, False, False, False, False, False, False, False, False, False, False, False, False, False, False, True, False, False, False, False, False, False, False, False, False, False, False, False, False, True, False, False, False, False, False, False, False, False, False, False, False, False, False, False, False, False, False, False, False, False, False, False, False, False, False, False, False, False, False, False, False, False, False, False, False, False, True, False, False, False, False, False, False, False, False, False, False, False, False, False, False, False, False, False, False, False, False, False, False, False, False, False, False, False, False, False, False, False, False, False, False, False, False, False, False, False, False, False, False, False, False, False, False, False, False, False, False, False, False, False, False, False, False, False, False, False, False, False, False, False, False, False, False, False, False, False, True, True, False, False, False, False, False, False, False, False, False, False, False, True, False, False, False, False, False, False, False, False, False, False, False, False, False, False, False, False, False, False, False, False, False, False, False, False, False, False, False, False, False, False, False, False, True, False, False, False, False, False, False, False, False, False, False, False, False, False, False, False, False, False, False, False, False, False, False, False, False, False, False, False, False, False, False, False, False, False, False, False, False, False, False, False, False, False, False, False, False, False, False, False, False, False, False, False, False, False, False, False, False, False, False, False, False, False, False, False, False, False, False, False, False, False, True, False, False, False, False, False, False, False, False, False, False, False, False, False, False, False, False, False, False, False, False, False, False, False, False, False, False, False, False, False, False, False, False, False, False, False, True, False, False, False, False, False, True, False, False, False, False, False, False, False, False, False, False, False, False, False, False, False, False, False, False, False, False, False, False, False, False, False, False, True, False, False, False, False, False, False, True, False, False, False, False, True, False, False, False, False, False, False, False, False, True, False, False, False, False, False, False, False, False, False, False, False, False, False, False, False, False, False, False, False, False, False, False, False, False, False, False, False, False, False, False, False, False, False, False, False, False, False, False, False, False, False, False, False, False, False, False, False, False, False, False, False, False, False, False, False, False, False, False, False, False, True, False, False, False, False, False, False, False, False, False, True, False, False, False, False, False, False, False, False, False, False, False, False, False, False, False, False, False, False, False, False, False, False, False, False, False, True, False, False, False, False, False, False, False, False, False, False, False, False, False, False, False, False, False, False, False, False, False, False, False, False, False, False, False, False, False, False, False, False, False, False, False, False, False, False, False, False, True, False, False, True, True, False, False, False, False, False, False, False, False, False, False, False, False, False, False, False, False, False, False, False, False, False, False, False, False, False, False, False, False, False, False, False, False, False, False, False, True, False, False, False, False, False, True, False, False, False, False, False, False, False, False, False, False, False, False, False, False, True, False, False, False, False, False, False, False, False, True, False, False, False, False, False, False, False, True, False, False, False, False, False, False, False, False, False, False, False, False, True, False, False, True, False, False, False, False, False, False, False, False, False, False, False, False, True, False, False, False, False, False, False, False, False, False, False, False, False, False, False, False, False, False, True, False, False, False, False, False, False, False, False, False, False, False, False, False, False, False, False, False, False, False, False, False, True, False, False, False, False, False, True, False, False, False, False, False, False, False, False, False, False, False, False, True, False, False, False, False, False, False, False, False, False, False, False, False, False, False, False, False, False, False, False, False, False, False, False, False, True, False, False, False, False, False, False, False, False, True, False, False, False, False, True, False, False, False, False, False, True, False, False, False, False, False, True, False, False, False, False, False, False, False, True, False, False, False, False, False, False, False, False, False, False, False, False, False, False, False, False, True, False, False, False, False, False, False, False, False, False, False, False, False, False, False, False, False, False, False, False, False, False, False, False, False, False, False, False, False, False, False, False, False, False, False, False, True, False, False, False, False, False, False, True, False, False, False, False, False, False, False, False, False, False, False, False, False, False, False, False, False, False, False, False, False, False, False, False, False, False, False, False, False, False, False, False, False, False, False, False, False, False, False, False, False, False, False, False, False, False, False, False, False, False, False, False, False, False, False, False, False, False, False, False, False, False, False, False, False, False, False, False, False, False, False, True, False, False, False, False, False, False, True, False, False, False, False, False, False, False, False, False, False, False, True, False, False, False, False, False, False, False, False, False, False, False, False, False, False, False, False, False, False, False, False, False, False, False, False, False, False, False, False, False, False, False, False, False, False, False, False, False, False, False, False, False, False, False, False, False, False, False, False, False, False, False, False, False, False, False, False, False, False, False, False, False, False, False, False, False, False, True, False, False, False, False, False, False, False, False, False, False, False, False, False, False, False, False, False, False, False, False, False, False, False, False, False, False, False, False, True, False, False, False, False, False, False, True, False, False, False, False, False, False, False, False, False, False, False, False, False, False, False, False, False, False, False, False, False, False, False, True, False, False, False, False, False, False, False, False, False, False, False, False, False, False, False, False, False, False, False, False, False, False, False, False, False, False, False, False, True, False, False, False, False, False, False, False, False, False, False, False, False, False, False, False, False, False, False, False, False, True, False, False, False, False, False, False, False, False, False, False, False, False, False, False, False, False, False, True, True, False, False, False, False, False, False, False, True, False, False, False, False, False, False, False, False, False, False, False, False, False, False, True, False, False, False, False, False, False, False, False, False, False, False, False, False, False, True, False, False, False, False, False, False, False, False, False, False, False, False, False, False, False, False, False, False, False, False, False, False, False, False, False, False, False, False, False, False, False, False, False, False, False, False, False, False, False, False, False, False, False, False, False, False, False, False, False, False, False, False, False, False, False, False, True, False, False, False, False, False, False, False, False, False, False, False, False, False, False, False, False, False, False, False, False, False, False, False, False, False, False, False, False, False, False, False, False, False, False, False, False, False, False, False, False, False, False, False, False, False, False, True, True, False, False, False, False, False, False, False, False, False, False, False, False, False, False, False, False, False, False, False, False, False, False, False, False, False, False, False, False, False, False, False, False, False, False, False, False, False, False, False, False, False, True, False, False, False, False, False, False, False, False, False, False, False, False, False, False, False, False, False, False, False, False, False, False, True, False, False, False, False, False, False, False, False, False, False, False, False, False, False, False, False, False, False, False, False, False, False, True, False, False, False, False, False, False, False, False, False, False, False, False, False, False, True, False, True, False, False, False, False, False, False, False, False, False, False, False, False, False, False, False, False, False, False, True, False, False, False, False, False, False, False, True, False, False, False, False, False, False, False, False, False, False, False, True, False, False, False, False, False, False, False, False, False, False, False, False, False, False, False, False, False, False, False, False, False, False, False, False, False, False, False, False, False, False, False, False, False, False, False, False, False, False, False, False, False, False, False, False, False, False, False, False, False, False, False, False, False, False, False, False, False, False, False, False, False, False, False, False, False, False, False, False, False, True, False, False, False, False, False, False, False, False, False, False, False, False, False, True, False, False, False, False, False, False, False, False, False, False, False, False, False, False, False, True, False, False, False, False, False, True, True, False, False, False, False, False, False, True, False, False, False, False, False, False, False, False, False, False, True, False, False, False, False, False, False, False, False, False, False, False, False, True, False, False, False, True, False, False, False, False, False, False, False, False, False, False, False, False, False, False, False, False, False, False, False, False, False, True, False, False, False, False, False, False, False, False, False, False, False, False, False, False, False, False, False, False, False, False, False, False, False, False, True, False, False, False, False, False, False, False, False, False, False, False, False, False, False, True, False, False, True, False, False, False, False, False, True, False, False, False, False, False, False, False, False, False, False, False, False, False, False, False, False, False, False, False, False, False, False, False, False, False, False, False, True, False, True, False, False, False, False, False, False, False, True, False, False, False, False, False, False, False, False, False, False, True, False, False, False, False, False, False, False, False, False, False, False, False, False, False, False, False, False, True, False, False, True, False, False, False, False, False, False, False, False, False, False, False, False, False, True, True, False, False, False, False, True, False, False, False, False, False, False, False, False, False, False, False, False, False, False, False, False, False, False, False, False, False, True, False, True, False, False, False, False, False, False, False, False, False, False, False, False, False, False, False, False, False, False, False, False, False, False, False, False, False, False, False, False, False, False, True, False, False, True, False, False, False, False, False, False, False, False, False, False, False, False, False, False, False, False, False, False, False, True, False, False, False, False, False, False, False, False, False, False, False, False, False, False, False, False, False, False, False, False, False, False, False, False, False, False, False, False, False, False, True, False, False, False, False, False, False, True, False, False, False, False, False, False, False, True, False, False, False, False, False, False, False, False, False, False, False, True, False, False, False, False, False, False, False, False, False, False, False, False, False, False, False, False, False, False, False, False, False, False, False, False, False, False, False, False, False, False, False, False, False, False, False, False, False, False, False, False, False, False, False, False, False, False, False, False, False, True, True, False, False, False, True, False, False, False, False, False, False, False, False, False, False, False, False, False, True, False, False, False, False, False, False, False, False, False, False, False, False, False, False, False, False, False, False, False, False, False, False, False, False, False, False, False, False, False, False, False, False, False, False, False, False, False, False, False, False, False, False, False, False, False, False, False, False, False, False, False, False, False, False, True, False, False, False, False, False, False, False, False, False, False, False, False, False, False, False, False, False, False, False, False, False, False, False, False, False, False, False, False, False, False, False, False, False, False, False, False, False, False, False, False, False, False, False, False, False, False, False, False, False, False, False, False, False, False, False, True, False, False, False, False, False, False, False, False, False, False, False, False, False, False, False, False, False, False, False, False, True, False, False, False, False, False, False, False, False, False, False, False, False, False, False, False, False, False, False, False, False, False, False, False, False, False, False, False, False, False, False, False, False, False, False, False, False, False, False, False, False, False, False, False, False, False, False, False, False, False, False, False, False, False, False, False, False, False, False, False, False, False, False, False, False, False, False, False, False, False, False, False, False, True, False, False, False, False, False, False, False, False, False, False, False, False, False, False, False, False, False, False, False, False, False, False, False, False, False, False, False, True, False, False, False, False, False, False, False, False, False, False, False, False, False, False, False, False, False, False, False, False, False, False, False, False, False, False, False, False, False, False, False, False, False, False, False, False, False, False, False, False, False, False, False, True, False, False, False, False, False, False, False, False, False, False, False, False, False, False, False, False, False, False, False, True, False, False, False, False, False, False, False, False, False, False, False, False, False, False, False]\n"
          ],
          "name": "stdout"
        },
        {
          "output_type": "execute_result",
          "data": {
            "text/plain": [
              "['very good phone looks great with the cover with clock window ,fantastic camera',\n",
              " 'Screen is very sharp and gives excellent colors and viewing angles, Features and smart details in the software, Camera is great with high quality images and many options like a 50Megapixel mode, RAW, Animated GIF, Slow shutter mode, Superb HDR-mode',\n",
              " \" Camera is amazing, graphics are good and I have dropped it out of second storey windows and it just won't quit\",\n",
              " 'I was very apprehensive in moving away from the Nexus range of phones as i have been native Android for many years, however the want for a good portable camera as lead me to the OPPO Find 7 phone',\n",
              " ' Brilliant camera too!',\n",
              " ' Fast performance, loud speakers, good camera',\n",
              " \"Was worried when ordered this but so shocked as how good it is wipes the floor with my HTC One m9 so many features other phones don't have a great music player with superb sound great camera and I'm now using this as my main phone and putting my galaxy note 4 to one side and of all goes well I'll be\",\n",
              " ' Volume can be VERY loud, screen is great and people have commented to me on the clarity of the image',\n",
              " ' 720p Rear face camera not as clear as front',\n",
              " ' The camera is perfectly ok in daylight but not great in the dark',\n",
              " \" Camera is as good as most phone cameras' are, as is the video mode\",\n",
              " ' Camera could be better',\n",
              " \" I compared it's camera to Samsung S VII's camera and the difference in quality is undeniable but for the price I can't complain\",\n",
              " 'The new phone arrived and is working correctly as it should and the camera is fantastic',\n",
              " 'it has a very good camera',\n",
              " \" Camera isn't great quality but the speed is in upgrad form my Samsung\",\n",
              " ' Camera is not the be, but ok',\n",
              " '5 inches Internal 8 GB, 512 MB RAM CAMERA Primary 5 MP but not bad its ok',\n",
              " ' Overall features r good camera is also good & also front camera is also nt there so u should look for other options',\n",
              " ' Myself giving four stars because there is front camera and back camera is also not that much good',\n",
              " ' Camera quality is OK',\n",
              " ' Lack of flash means camera useless in low light',\n",
              " ' But only disappointing thing is no selfie camera, I mean the front facing camera',\n",
              " 'camera quality is HD',\n",
              " 'means picture is very clear even in night']"
            ]
          },
          "metadata": {
            "tags": []
          },
          "execution_count": 40
        }
      ]
    },
    {
      "cell_type": "code",
      "metadata": {
        "id": "zteZBwB7brTt",
        "colab": {
          "base_uri": "https://localhost:8080/",
          "height": 498
        },
        "outputId": "d1b710de-4fb7-4a51-b8b1-b9926f626bea"
      },
      "source": [
        "value_for_money_aspect_sents = aspect_sent_check(doc_complete,value_for_money)\n",
        "value_for_money_aspect_sents[:25]"
      ],
      "execution_count": null,
      "outputs": [
        {
          "output_type": "stream",
          "text": [
            "[False, False, False, False, False, False, False, False, False, False, False, False, False, False, False, False, False, False, False, True, False, False, False, False, False, False, False, False, False, True, False, True, False, False, False, False, False, False, False, False, False, True, False, True, False, False, False, True, True, False, False, False, False, False, False, False, False, False, False, True, False, False, False, False, False, False, False, False, False, False, False, False, False, False, False, False, False, False, False, False, False, False, False, False, True, False, False, False, False, False, False, True, False, False, False, False, False, False, False, False, False, False, False, False, False, False, False, False, False, False, False, False, False, False, False, False, False, False, False, False, False, False, False, False, False, False, True, False, False, False, False, False, False, False, False, False, False, False, False, False, False, False, False, False, False, False, True, False, False, False, False, True, False, False, False, False, False, False, False, False, False, False, False, False, False, False, False, False, False, False, False, False, False, False, False, False, False, False, False, False, True, False, False, False, False, False, False, False, False, False, False, False, False, False, False, False, False, False, False, False, False, False, False, False, False, True, False, False, False, False, False, False, False, False, False, True, False, False, False, True, False, False, False, False, False, True, False, True, True, False, False, False, False, True, False, False, False, False, False, False, False, False, False, False, False, False, False, False, False, False, True, False, False, False, False, False, False, False, False, False, False, True, True, False, True, False, True, False, False, False, False, False, False, False, False, False, False, False, True, False, False, True, False, False, True, False, False, False, False, False, False, False, False, False, False, False, True, False, False, False, False, False, True, False, False, False, False, True, False, False, False, False, False, False, False, False, False, False, False, False, False, False, False, False, False, False, False, True, True, False, False, False, False, False, False, False, False, True, False, False, False, True, True, False, False, False, True, False, False, False, False, False, True, False, False, False, False, False, False, False, True, False, False, False, False, False, False, False, False, False, False, False, False, False, False, False, True, False, False, False, False, False, False, False, False, False, False, False, True, False, False, True, False, False, True, True, False, False, False, True, True, False, False, False, False, False, False, False, False, False, False, True, True, False, True, False, False, False, False, False, False, True, False, False, True, False, False, False, False, False, False, False, False, True, True, False, False, False, False, False, False, False, False, False, False, False, False, False, False, False, False, False, False, False, False, False, False, False, False, False, False, False, False, False, False, False, False, False, False, True, True, False, False, False, False, False, False, False, False, False, False, False, False, False, False, False, False, False, False, False, False, True, False, False, False, False, False, False, False, False, False, False, False, False, False, False, False, False, True, False, False, False, False, True, False, False, False, False, False, True, False, False, False, False, False, False, False, False, False, False, False, False, False, True, False, False, True, False, False, False, False, False, True, False, False, False, False, False, True, False, False, False, True, False, False, False, False, True, False, False, False, False, False, False, False, False, False, True, False, False, False, False, False, False, False, False, False, False, False, False, False, False, False, False, False, False, False, False, False, False, False, False, False, False, True, False, False, False, False, False, False, False, False, True, False, False, True, False, False, True, False, False, False, False, False, False, False, False, False, False, False, False, False, False, False, False, True, False, False, False, False, False, True, False, False, False, False, False, False, True, False, False, False, False, False, False, False, False, False, False, False, False, False, False, False, False, False, False, False, False, False, False, False, False, False, False, False, True, True, False, False, False, False, False, False, False, False, False, False, False, False, False, False, False, False, False, False, False, False, False, False, False, False, False, False, False, False, False, False, False, False, False, False, False, False, False, False, False, False, False, False, False, True, False, False, False, False, False, False, False, True, False, False, False, False, False, False, False, False, False, False, False, False, False, False, False, False, False, False, False, True, False, False, False, False, False, False, False, False, False, False, False, False, False, False, True, False, True, False, False, False, True, False, False, False, False, False, False, False, True, False, False, True, False, False, False, False, False, False, False, False, False, False, False, False, False, False, False, False, True, False, False, False, False, False, False, False, False, False, False, False, False, True, False, True, False, False, False, False, False, False, False, False, False, False, False, False, False, False, False, True, False, False, False, False, False, False, False, False, False, False, False, False, True, False, False, False, False, False, False, True, False, False, False, True, False, True, False, False, False, False, False, False, False, False, False, False, False, True, True, False, True, False, False, False, False, True, False, False, False, False, False, False, False, False, False, False, False, False, False, False, False, True, False, False, False, False, True, False, False, False, False, False, False, False, False, False, False, False, False, False, False, False, False, True, False, False, False, False, False, False, False, False, False, False, False, False, False, False, False, True, False, False, False, False, False, True, False, True, False, False, False, False, False, False, False, False, False, False, False, False, False, False, False, False, False, False, False, False, False, True, False, True, True, False, False, False, False, False, False, True, False, True, False, False, False, False, False, False, False, False, False, False, True, False, False, False, False, False, False, True, True, False, False, False, False, False, False, False, True, False, False, False, False, False, False, False, False, False, True, False, False, False, False, True, False, False, False, False, False, True, False, False, False, False, False, False, False, True, False, False, True, False, False, False, False, False, False, False, False, False, False, False, False, False, False, False, False, False, False, False, False, False, False, False, False, False, False, True, False, False, False, False, False, False, False, False, True, False, False, False, False, False, False, False, False, False, False, False, False, True, False, False, False, False, False, False, False, False, False, False, False, False, False, False, False, False, False, False, False, True, False, False, False, False, False, False, False, False, False, False, False, False, False, False, False, False, False, False, False, False, False, False, False, False, True, False, False, False, False, False, False, False, False, False, False, False, False, False, False, False, False, False, True, False, False, True, False, False, False, False, False, False, False, False, False, False, False, False, False, False, False, True, False, False, False, False, False, False, False, False, False, False, False, False, False, False, False, False, False, True, False, True, False, False, False, False, False, False, False, False, False, False, True, True, False, False, False, False, False, False, False, False, False, False, False, False, False, False, False, False, False, False, False, True, False, False, False, False, False, False, False, False, False, False, False, False, False, False, False, False, False, False, False, False, False, False, False, False, False, False, False, False, False, False, False, False, False, False, False, True, False, True, False, False, False, False, False, False, False, False, False, False, False, False, False, False, False, False, False, False, False, False, False, False, False, False, False, False, False, False, False, False, False, False, True, False, False, False, False, False, False, False, False, False, False, False, True, False, False, False, False, False, False, False, False, False, False, False, False, False, True, False, False, False, False, False, False, False, False, False, False, False, False, False, False, False, False, False, False, False, False, False, False, True, False, True, False, False, False, False, False, False, False, False, False, False, False, True, False, False, True, False, False, True, False, False, False, False, False, True, False, False, True, False, False, False, False, False, False, False, False, True, False, False, False, False, False, False, False, False, False, False, True, False, False, False, False, False, False, False, False, False, False, False, False, True, False, True, False, False, False, False, False, False, False, False, False, False, False, False, False, False, False, False, False, False, False, False, False, False, True, False, False, True, True, False, False, False, False, False, False, False, False, False, False, False, False, True, False, False, False, False, False, False, True, False, False, False, False, True, False, False, False, False, False, False, False, False, False, False, False, False, False, False, False, False, False, False, False, False, False, False, False, True, True, False, False, False, False, False, False, False, False, True, False, False, False, True, False, False, False, False, True, False, False, False, False, False, False, False, False, True, False, False, False, False, False, False, False, True, False, False, False, False, False, False, False, False, True, True, False, False, False, False, False, True, True, False, False, False, True, False, False, False, False, False, False, False, True, False, False, False, False, False, False, False, False, False, False, False, False, False, False, False, False, False, False, True, False, True, False, False, False, False, False, True, False, False, False, False, False, False, False, False, False, True, False, False, False, False, False, False, False, False, False, False, False, False, False, False, False, False, False, False, False, False, False, False, False, True, False, False, False, False, False, False, False, False, False, False, False, False, False, False, False, False, True, False, False, False, False, False, False, False, False, True, False, False, False, False, False, False, False, False, False, False, False, False, False, False, False, False, False, False, False, False, False, True, False, True, False, False, False, True, False, False, False, False, False, False, False, True, False, False, False, False, False, False, False, False, True, False, False, False, False, False, False, False, False, False, False, False, False, False, True, False, False, False, False, False, False, False, False, False, False, False, False, False, False, True, False, False, False, False, False, False, False, False, False, False, False, False, False, True, False, False, True, True, False, False, True, False, False, False, False, False, False, False, False, True, False, False, False, False, False, False, False, False, False, False, False, False, False, False, True, False, False, False, False, False, False, False, False, False, False, False, False, False, False, False, False, False, False, False, False, False, False, False, False, False, False, False, False, False, False, False, True, False, False, False, True, False, False, False, False, False, False, False, False, False, False, False, False, False, False, False, True, False, False, False, False, False, False, False, False, False, False, False, False, False, False, False, True, False, False, False, False, True, False, False, False, False, False, False, False, False, True, False, False, False, False, False, False, False, False, False, False, False, False, False, False, False, False, False, True, False, False, False, False, True, False, False, True, False, False, False, False, True, False, False, False, False, False, False, False, False, True, False, False, True, False, False, True, False, False, False, False, False, False, True, False, False, True, False, False, True, False, False, True, False, False, False, False, False, False, False, False, True, True, False, False, False, False, False, True, False, False, False, False, False, False, False, False, False, False, False, False, False, False, False, False, False, True, False, False, False, False, True, False, False, False, False, False, False, False, False, False, False, True, False, False, False, False, False, False, False, False, False, False, True, False, False, False, True, False, False, False, False, False, False, False, True, False, False, False, False, False, False, False, False, True, False, False, False, False, False, False, False, False, True, False, False, False, False, False, False, False, False, False, False, False, False, False, False, False, False, True, False, False, False, False, False, False, False, False, False, False, False, False, False, False, True, True, False, False, False, False, False, False, False, False, False, False, True, True, False, False, False, False, False, False, False, False, False, False, False, False, False, False, False, False, False, False, True, False, False, True, False, False, False, False, False, False, False, False, True, False, False, False, True, False, False, False, False, False, False, False, False, False, False, True, False, False, False, False, False, False, True, False, False, False, False, False, False, False, False, False, False, False, False, False, False, False, True, False, True, False, False, False, False, False, False, False, False, False, False, True, False, False, False, False, False, False, False, False, False, True, False, False, False, False, False, False, False, False, False, False, False, False, False, False, False, False, False, False, False, False, False, False, False, False, False, False, False, False, False, True, True, False, False, False, False, False, True, False, False, False, False, False, False, False, False, False, False, False, False, False, False, False, False, False, False, False, True, False, False, False, False, False, False, False, False, False, False, False, True, True, False, False, False, False, True, False, False, False, False, False, False, False, False, True, False, False, False, False, False, True, False, False, False, False, False, False, False, False, False, False, False, False, False, False, False, False, False, False, False, False, True, False, False, False, False, False, False, False, True, False, False, False, False, False, True, False, False, False, False, False, False, False, False, False, False, False, True, False, False, False, True, False, False, False, False, False, False, False, False, True, False, False, False, True, False, False, False, True, False, False, False, False, False, False, False, False, True, False, False, False, False, False, False, False, False, False, False, False, False, False, False, False, False, False, False, False, False, False, False, False, False, False, False, False, False, False, False, False, False, False, False, False, False, False, False, False, False, False, False, False, False, False, False, False, False, False, False, False, False, False, False, False, False, False, False, False, False, False, False, False, False, False, False, False, False, False, False, False, False, False, False, False, False, False, False, False, False, False, False, False, False, False, False, False, False, False, False, False, False, False, False, False, False, False, False, False, False, False, False, False, False, False, False, False, False, False, False, False, False, False, False, False, False, False, False, False, False, False, False, False, False, False, False, False, False, False, False, False, False, False, False, False, False, False, False, False, False, False, False, False, False, False, False, False, False, False, False, False, False, False, False, False, False, False, False, False, False, False, False, False, False, False, False, False, False, False, False, False, False, False, False, False, True, False, True, False, False, False, False, False, False, False, False, False, False, False, False, False, False, False, False, False, False, False, False, False, False, False, False, False, False, False, False, False, False, False, True, False, False, False, False, False, False, False, False, False, False, False, False, False, False, False, False, False, False, False, False, False, False, False, False, True, False, False, False, True, False, False, False, False, True, False, True, False, False, False, False, False, False, False, False, False, False, False, False, False, False, False, False, False, False, False, False, False, True, False, False, False, False, False, False, False, False, False, False, False, False, False, False, False, False, False, False, False, False, False, False, False, False, False, False, False, False, False, False, False, False, False, False, True, False, False, False, True, False, False, False, False, False, False, False, False, False, False, False, False, False, False, False, False, False, False, False, False, False, False, False, False, True, True, False, False, True, False, False, False, False, False, False, False, False, True, False, False, False, False, False, False, False, False, False, False, False, False, True, False, False, True, False, False, False, False, False, False, False, False, False, False, False, False, False, False, False, False, False, False, False, False, False, False, False, False, False, False, False, False, False, False, True, False, False, False, False, False, False, False, False, False, False, False, False, True, False, False, False, False, False, False, False, False, False, False, False, False, False, False, False, False, False, False, False, False, False, False, False, False, False, False, False, False, False, False, False, False, False, False, False, False, False, False, False, False, False, False, False, False, True, False, False, False, False, False, False, False, False, False, False, True, False, False, False, False, False, False, False, False, False, False, False, False, False, False, False, True, False, True, False, False, False, False, False, False, False, False, False, False, False, False, False, False, False, True, False, False, False, False, False, False, False, False, True, False, False, False, False, False, False, False, False, False, True, False, False, False, False, False, False, False, False, False, False, False, False, True, False, False, False, False, False, True, False, False, False, False, False, False, False, True, False, False, False, False, False, False, False, False, False, False, False, True, False, False, False, False, False, False, False, False, False, False, False, False, False, False, False, False, False, False, True, False, False, False, False, False, False, False, False, False, False, False, False, False, False, False, False, False, False, False, False, False, False, False, False, False, False, False, False, False, False, False, True, False, False, False, True, False, False, False, False, True, False, False, False, False, False, False, False, False, False, False, False, False, False, False, False, False, False, False, False, False, False, False, False, True, False, False, False, False, False, False, False, False, False, False, True, False, False, False, False, False, False, False, False, False, False, False, False, False, False, False, False, False, True, False, False, False, False, False, False, False, True, False, False, True, False, False, False, False, False, False, False, False, False, False, False, False, True, True, False, False, False, False, False, False, False, False, False, False, False, False, False, False, False, True, True, False, False, False, False, False, False, False, False, False, False, False, False, False, False, True, False, False, False, False, True, False, True, False, False, False, False, False, True, False, False, False, False, False, False, False, False, True, False, False, False, False, False, True, False, False, False, False, False, False, False, False, False, False, False, False, False, False, False, False, False, False, False, False, False, False, False, False, False, False, False, False, False, False, True, False, False, False, False, True, False, False, False, False, False, False, False, True, True, False, False, True, False, False, False, False, True, False, False, False, False, False, False, False, False, False, False, False, False, False, False, False, False, False, False, False, False, True, False, False, False, True, False, True, False, False, False, True, False, False, False, False, False, False, False, False, True, False, False, False, False, False, False, False, False, False, False, False, False, False, False, False, False, False, False, False, False, False, False, False, False, False, False, False, False, False, False, False, False, False, False, False, False, False, False, False, False, False, False, False, False, False, False, False, False, False, False, False, False, False, False, False, False, False, False, False, False, False, False, False, False, False, False, True, False, False, False, False, False, False, False, False, False, False, False, False, False, False, False, False, True, True, False, False, False, True, False, False, False, False, False, False, False, False, False, False, False, False, False, False, False, False, False, False, False, False, False, False, False, False, False, False, False, False, False, False, False, False, False, False, False, False, False, False, False, False, False, False, False, False, False, False, False, False, False, False, False, False, False, False, False, False, False, False, False, False, False, False, False, False, False, False, False, False, False, False, False, False, False, False, False, False, False, False, False, False, False, False, False, False, False, False, False, False, False, False, False, False, False, False, False, False, False, False, False, False, False, False, False, False, False, False, False, False, False, False, False, False, False, False, False, False, False, False, False, False, False, False, False, False, False, False, False, False, False, False, False, False, False, False, False, False, False, False, False, False, False, False, False, False, False, False, False, False, False, False, False, False, False, False, False, False, False, False, False, False, False, False, False, False, False, False, False, False, False, False, False, False, False, False, False, False, False, False, False, False, False, False, False, False, False, False, False, False, False, False, False, False, False, False, False, False, False, False, False, False, False, False, False, False, False, False, False, False, False, False, False, False, False, False, False, False, False, False, False, False, False, False, False, False, False, False, False, False, False, False, False, False, False, False, False, False, False, False, False, False, False, False, False, False, False, False, False, False, False, False, False, False, False, False, False, False, False, False, False, False, False, False, False, False, False, False, True, False, False, False, False, False, False, False, False, False, False, False, False, False, False, False, False, False, True, False, False, False, False, False, False, False, False, False, True, False, False, False, False, False, False, False, False, False, False, False, False, False, False, False, False, False, False, False, False, False, False, False, False, False, False, False, False, False, False, False, False, False, False, False, False, False, False, False, False, False, False, False, False, False, False, False, False, False, False, False, False, False, False, False, False, False, False, False, False, False, False, False, False, False, False, False, False, False, False, False, False, False, False, False, False, False, False, False, False, False, False, False, False, False, False, False, False, False, False, False, False, False, False, False, False, False, False, False, False, True, False, True, False, False, False, False, False, False, False, False, False, False, False, False, False, False, False, False, False, False, False, False, True, False, False, False, False, False, False, False, False, False, False, False, False, False, False, False, False, False, False, False, False, False, False, False, False, False, False, False, False, False, False, False, False, False, False, False, False, False, False, False, False, False, False, False, False, False, False, False, False, False, False, False, False, False, False, False, False, False, False, False, False, False, False, False, False, False, False, False, False, False, False, False, False, True, False, False, False, False, False, False, False, False, False, False, False, False, False, False, False, False, False, False, False, False, False, False, False, False, False, False, False, False, False, False, False, False, False, False, False, False, False, False, False, False, False, False, False, False, False, False, False, False, False, False, False, False, False, False, False, False, False, False, False, False, False, False, False, False, False, False, False, False, False, False, False, False, False, False, False, False, False, False, False, False, False, False, True, False, False, False, False, False, False, False, False, False, False, False, False, False, False, False, False, False, False, False, False, False, False, False, False, False, False, False, False, False, False, False, False, False, False, False, False, False, False, False, False, False, False, False, False, False, False, False, False, False, False, False, False, False, False, False, False, False, False, False, False, False, False, False, False, False, False, False, False, False, False, False, False, False, False, False, False, False, False, False, False, False, False, False, False, False, False, False, False, False, False, False, False, True, False, False, False, False, False, False, False, False, False, False, False, False, False, False, True, False, False, False, False, False, False, True, False, False, False, False, False, False, False, False, False, False, False, False, False, False, False, False, False, False, False, False, False, False, False, False, False, False, False, False, False, False, False, False, False, False, False, False, False, False, False, False, False, False, False, False, False, False, False, False, False, False, False, False, False, False, False, False, False, False, False, False, False, False, False, False, False, True, False, False, False, False, False, False, False, False, False, False, False, False, False, False, False, False, False, False, False, False, False, False, True, False, False, False, False, False, False, False, False, False, False, False, False, False, False, False, False, False, False, True, False, False, False, False, False, False, False, False, False, False, False, False, False, False, False, False, False, False, False, False, False, False, False, False, False, False, False, False, False, False, False, False, False, False, False, False, False, False, False, False, False, False, False, False, False, False, False, False, False, False, False, False, True, False, False, False, False, False, False, False, False, False, False, False, False, False, False, False, False, False, False, False, False, False, False, False, False, False, False, False, False, False, False, False, False, False, False, False, False, False, False, False, False, False, False, False, True, False, False, False, False, False, False, False, False, False, False, False, False, False, True, False, False, False, False, False, False, False, False, False, False, False, False, False, False, False, False, False, False, False, True, False, False, False, False, False, False, False, False, False, False, False, False, False, False, False, False, False, False, False, False, False, False, False, False, False, False, False, False, False, False, False, False, False, False, False, False, False, False, False, False, False, False, False, False, False, False, False, False, False, False, False, False, False, False, False, False, False, False, False, False, False, False, False, False, False, False, False, False, False, False, False, False, False, False, False, False, False, False, False, False, False, False, False, False, False, True, False, False, False, False, False, False, False, True, False, False, False, False, False, False, False, False, False, False, False, False, False, False, False, False, False, False, False, False, False, False, False, False, False, False, False, False, False, False, False, False, False, False, False, False, False, False, False, False, False, False, False, False, False, False, False, False, False, False, False, False, False, False, False, False, False, False, False, False, False, False, False, False, False, False, False, False, False, False, False, False, False, False, False, True, False, False, False, False, False, False, False, False, False, False, False, False, False, False, False, False, False, False, False, False, False, False, False, False, False, False, False, False, False, False, False, False, False, False, False, False, False, False, False, False, False, False, True, False, False, False, False, False, False, False, False, False, False, False, False, False, False, False, False, False, False, False, False, False, False, False, False, False, False, False, False, False, False, False, False, False, False, False, False, False, False, False, False, False, False, False, False, False, False, False, False, False, False, False, False, False, False, False, False, False, False, False, False, False, False, False, False, False, False, False, False, False, False, False, False, False, False, False, False, False, False, False, False, False, False, False, False, False, False, False, False, False, False, False, False, False, False, False, False, False, False, False, False, False, False, False, False, False, False, False, False, False, False, False, False, False, False, False, False, False, False, False, False, False, False, False, False, False, False, False, True, False, False, False, False, False, False, False, False, False, False, True, False, False, False, False, False, False, False, False, False, False, False, False, False, False, False, False, False, False, False, False, False, False, False, False, False, False, False, False, False, False, False, False, False, False, False, False, False, False, False, False, False, False, False, False, False, False, False, False, False, False, False, False, False, False, False, False, False, False, False, False, False, False, False, False, False, False, False, False, False, False, False, False, False, False, False, True, False, False, False, False, False, False, False, False, False, False, False, False, False, False, False, False, False, False, False, False, False, False, False, False, False, False, False, False, False, False, False, False, False, False, False, False, False, True, False, False, False, False, False, False, False, False, False, False, False, False, False, False, False, False, False, False, False, False, False, False, False, False, False, False, False, False, False, False, False, False, False, True, False, False, False, False, False, False, False, False, False, False, False, False, False, False, False, False, False, False, False, True, False, False, False, False, False, False, False, False, False, False, False, False, False, False, False, False, False, True, False, False, False, False, False, False, False, False, False, False, False, False, False, False, False, False, False, False, False, False, False, False, False, False, False, False, False, True, False, False, False, True, False, False, False, False, False, False, False, False, False, False, False, False, False, False, False, False, False, False, False, False, False, False, False, False, False, False, False, False, False, False, False, False, False, True, False, False, False, False, False, False, False, False, False, False, False, False, False, False, False, False, False, False, False, False, False, False, False, False, False, False, False, False, False, False, False, False, False, False, False, False, False, False, False, False, False, False, True, False, False, False, False, False, False, False, False, False, False, False, False, False, False, False, False, False, False, False, False, False, False, False, False, False, False, False, False, False, False, False, False, False, False, False, False, False, False, True, False, False, False, False, False, False, False, False, False, False, False, False, False, False, False, False, False, False, False, False, False, False, False, False, False, False, False, True, False, False, False, False, False, False, False, False, False, False, False, False, False, False, False, False, False, False, False, False, False, False, False, False, False, False, False, False, False, False, False, False, False, True, True, False, False, False, False, False, False, False, False, False, False, False, False, False, False, False, False, False, False, False, False, False, False, False, False, True, False, False, False, False, False, False, False, False, False, False, False, False, False, False, False, False, False, False, True, False, False, False, False, False, False, False, False, False, False, False, False, False, False, False, False, False, False, False, False, False, False, False, False, False, False, False, False, False, False, False, False, False, False, False, False, False, False, True, False, False, True, False, False, False, False, False, False, False, False, False, False, False, False, False, False, False, False, False, False, False, False, False, False, False, False, False, False, True, False, False, False, False, False, False, False, False, False, False, False, False, False, False, False, False, False, False, False, False, False, False, False, False, False, False, False, False, False, False, True, False, False, False, False, False, False, False, False, False, False, False, False, False, False, False, False, False, False, False, False, False, False, False, False, False, False, False, False, False, False, False, False, False, False, False, False, False, False, False, False, False, False, False, False, False, False, False, False, False, False, False, False, False, False, False, False, False, False, False, False, False, False, False, False, False, False, False, False, False, False, False, False, False, False, False, False, False, False, False, False, False, False, False, False, False, False, False, False, False, False, False, False, False, False, False, False, False, False, False, False, False, False, False, False, False, False, False, False, False, False, False, False, False, False, False, False, False, False, False, False, False, False, False, False, False, False, False, False, False, False, False, False, False, False, False, False, False, False, False, False, False, False, False, False, False, False, False, False, False, False, False, False, False, False, False, False, False, False, False, False, False, False, False, False, False, False, False, False, False, False, False, False, False, False, False, False, False, False, False, False, False, False, False, False, False, False, False, False, True, False, False, False, False, False, False, False, False, False, False, False, False, False, False, False, False, False, False, False, False, True, False, False, False, False, False, False, False, False, False, False, False, False, False, False, False, False, False, False, False, False, False, False, False, False, False, False, False, False, False, False, False, False, False, False, False, False, False, False, False, False, False, False, False, False, False, False, False, False, False, False, False, False, False, False, False, False, False, False, False, False, False, False, False, False, False, False, False, True, False, False, False, False, False, False, False, False, False, False, False, False, False, False, False, False, False, False, False, False, False, False, False, False, False, True, False, False, False, False, False, True, False, False, False, False, False, False, False, False, False, False, False, False, False, False, False, False, False, False, False, False, False, False, False, False, False, False, False, False, False, False, False, False, False, True, False, False, False, False, False, False, False, False, True, False, False, False, False, False, False, False, False, False, False, False, False, False, False, False, False, False, False, False, False, False, False, False, False, False, False, False, False, False, False, False, False, False, False, False, False, False, False, False, False, False, False, False, False, False, False, False, False, False, False, False, False, False, False, False, False, False, False, False, False, False, False, False, False, False, False, False, False, False, False, False, False, False, True, False, False, False, False, False, False, False, False, False, False, False, False, False, False, False, False, False, False, False, False, False, False, False, False, False, False, False, False, False, False, False, False, False, False, False, False, False, False, False, False, False, False, False, False, False, False, False, False, True, False, False, False, False, False, False, False, False, False, False, False, False, True, False, False, False, False, False, False, False, False, False, False, True, False, False, False, False, False, False, False, False, False, False, False, False, False, False, False, False, False, False, False, False, False, False, False, False, False, False, False, False, False, False, False, False, False, False, False, False, False, False, False, False, False, False, False, False, False, False, False, False, False, False, False, False, False, False, False, False, False, False, False, False, False, False, False, False, False, False, False, False, False, False, False, False, False, False, False, False, False, False, False, False, False, False, False, False, False, False, False, False, False, False, False, False, False, False, False, False, False, False, False, False, False, False, False, False, False, False, False, False, False, False, False, False, False, False, True, False, False, False, False, False, False, False, False, False, False, False, False, False, True, True, True, False, False, False, False, False, False, False, False, False, False, False, False, False, False, False, False, False, False, False, False, False, False, False, False, False, False, False, False, False, False, False, False, False, False, False, False, False, False, False, False, False, False, False, False, False, False, False, False, False, False, False, False, False, False, False, False, False, False, False, False, False, False, False, False, False, False, False, False, False, False, False, False, False, False, False, False, False, False, False, False, False, False, False, False, False, True, True, False, False, False, False, False, False, False, False, False, False, False, False, False, False, False, False, False, False, False, True, False, False, False, False, False, False, False, False, False, False, False, False, False, False, False, False, False, False, False, False, True, False, False, False, False, False, False, False, False, False, False, True, False, False, False, False, False, False, False, False, False, False, False, False, False, False, False, False, False, False, False, False, False, False, True, False, False, False, False, False, False, False, False, False, False, False, False, True, False, False, True, False, False, False, False, False, False, False, False, False, False, False, False, False, False, False, False, False, False, False, False, False, False, False, False, False, False, False, False, False, False, False, False, False, False, False, False, True, False, False, False, False, False, False, False, False, False, False, False, False, False, False, False, False, False, False, False, False, False, False, False, False, False, False, False, False, False, False, False, False, False, False, False, False, False, False, False, False, False, False, False, False, False, False, False, False, False, False, False, False, False, False, False, False, False, False, False, False, False, False, False, False, False, False, False, False, False, False, False, False, False, False, False, False, False, False, False, False, False, True, False, False, False, False, False, False, False, False, False, False, False, False, False, False, False, False, False, False, False, False, False, False, False, False, False, False, False, False, False, False, False, False, False, False, False, False, False, False, False, False, False, False, True, False, False, False, False, False, False, False, False, False, False, False, False, False, False, True, False, False, False, False, False, False, False, False, False, False, False, False, False, False, False, False, False, False, False, False, False, False, False, False, False, False, False, False, False, False, False, False, False, False, True, True, False, False, False, False, False, False, False, False, False, False, False, False, False, False, False, False, False, False, False, False, False, False, False, False, False, False, False, False, False, False, False, False, False, False, False, False, False, False, False, False, False, False, False, False, False, False, False, False, False, False, False, False, False, False, False, False, False, False, False, False, True, False, False, False, False, False, False, False, False, False, False, False, False, False, False, True, True, False, False, False, False, False, False, False, False, False, False, False, False, False, False, False, False, False, False, False, False, False, False, False, False, False, False, False, False, False, False, False, False, False, False, False, False, False, False, False, False, False, False, False, False, False, False, False, True, False, False, False, False, False, False, False, False, False, False, False, False, False, False, True, False, False, False, False, False, False, False, False, False, False, False, False, False, False, False, False, False, False, False, False, False, False, False, False, False, False, True, False, False, False, False, False, False, False, False, False, False, False, False, False, False, False, False, False, False, False, False, False, True, False, False, False, False, False, False, False, False, False, True, False, False, False, False, False, False, False, False, False, False, False, False, False, False, False, True, False, False, False, False, True, False, False, False, False, True, False, False, False, False, False, False, False, False, False, False, False, False, False, False, False, False, False, False, False, False, False, False, False, False, False, False, False, False, False, True, False, False, False, False, False, True, False, False, False, False, False, True, False, False, False, False, True, False, False, False, False, False, False, False, False, False, False, False, False, False, True, False, False, False, False, False, False, False, False, False, True, False, True, True, True, False, False, True, False, False, False, False, True, False, False, False, True, False, False, False, False, False, False, True, False, False, True, False, False]\n"
          ],
          "name": "stdout"
        },
        {
          "output_type": "execute_result",
          "data": {
            "text/plain": [
              "['Totally brilliant phone for the money',\n",
              " \"This is my wife's phone and she said she would recommend this phone to anyone who is looking for a phone that doesn't can't afford the price of a more expensive one\",\n",
              " 'Fantastic phone! Very good value for that price',\n",
              " 'This is an excellent phone for the money and came in lovely packaging',\n",
              " \" Now its sorted it does all I want well so if you don't want to spend a lot of money this is for you\",\n",
              " 'It deserves all the money',\n",
              " 'I bought one for my nephew, the phone looks really stylish and a quad core for this price is very very cheap already, my nephew never gets and slow responds and freeze on the phone now!',\n",
              " 'This has to be the best budget phone ever',\n",
              " ' So its only worth three stars max',\n",
              " 'I was very apprehensive in moving away from the Nexus range of phones as i have been native Android for many years, however the want for a good portable camera as lead me to the OPPO Find 7 phone',\n",
              " ' Cannot fault for the price Only downside with my unit (cannot speak for others) is that mine is running 4',\n",
              " 'The OPPO Find is a great value smart-phone that is hard to flaw',\n",
              " 'Very good phone worth the money',\n",
              " 'So far so Good really pleased Excellent phone for a great price Still really pleased with this only slight niggle is the software no updates and you occasionally have to restart for a better signal - Apart from that a great phone and WORKS perfectly on Vodafone 4G so cannot understand why everyone',\n",
              " 'It is a good budget phone',\n",
              " 'Thsi phone is amazing for the price',\n",
              " 'Good phone for the money',\n",
              " ' quarter the price with more features and processing power ',\n",
              " 'Great value for the money!!!! Works very well, Would recomend!!',\n",
              " 'Good value for the money excellent purchase',\n",
              " 'I love it, had exceeded my expectation , for the price and the specification',\n",
              " 'Considering the price I paid for this phone, I am pleasantly surprised! The hardware is similar to what you would expect from many of the popular phone brands, but at a fraction of the cost',\n",
              " 'It does everything you could want from a high end phone, but it does it all for a super low price compared',\n",
              " ' I am still fully amazed that what i have in my pocket is as cheap as it is, everyone else i know thinks it is something much more higher up in price and have been asking how i got such an',\n",
              " 'Just to echo the praises of other reviewers, this phone is a revelation! Clear sharp screen, speedy, great battery life, good sound, fantastic price']"
            ]
          },
          "metadata": {
            "tags": []
          },
          "execution_count": 41
        }
      ]
    },
    {
      "cell_type": "code",
      "metadata": {
        "id": "T0nBDO_1ddND"
      },
      "source": [
        "sentence = \"it's an awesome phone From mi, camera clicks awesome extrrem level and battery backup nice 👌👌👌👌👌 if any one thinking to buy this phone, performance is good,it one of the best camera phone in such a price range... thanks flipcart 🤝🤝🤝🤝\".split(\".\")"
      ],
      "execution_count": null,
      "outputs": []
    },
    {
      "cell_type": "code",
      "metadata": {
        "id": "Se00zS8ei1TM",
        "colab": {
          "base_uri": "https://localhost:8080/",
          "height": 34
        },
        "outputId": "4c8d2aa9-c80b-4a80-9758-857d1973036c"
      },
      "source": [
        "res = [any([k in s.lower().split() for k in camera]) for s in sentence]\n",
        "res"
      ],
      "execution_count": null,
      "outputs": [
        {
          "output_type": "execute_result",
          "data": {
            "text/plain": [
              "[True, False, False, False]"
            ]
          },
          "metadata": {
            "tags": []
          },
          "execution_count": 52
        }
      ]
    },
    {
      "cell_type": "code",
      "metadata": {
        "id": "LEtl2DqRi913",
        "colab": {
          "base_uri": "https://localhost:8080/",
          "height": 54
        },
        "outputId": "bc507d5a-96c7-4bad-d4e5-b6515f3c89e1"
      },
      "source": [
        "[sentence[i] for i in range(0, len(res)) if res[i]]"
      ],
      "execution_count": null,
      "outputs": [
        {
          "output_type": "execute_result",
          "data": {
            "text/plain": [
              "[\"it's an awesome phone From mi, camera clicks awesome extrrem level and battery backup nice 👌👌👌👌👌 if any one thinking to buy this phone, performance is good,it one of the best camera phone in such a price range\"]"
            ]
          },
          "metadata": {
            "tags": []
          },
          "execution_count": 53
        }
      ]
    },
    {
      "cell_type": "code",
      "metadata": {
        "id": "O3z58yEGjaBg",
        "colab": {
          "base_uri": "https://localhost:8080/",
          "height": 72
        },
        "outputId": "59f3ea0f-1bc5-4a0f-be90-87bd8724ff92"
      },
      "source": [
        "aspect_sent_check(sentence,camera)"
      ],
      "execution_count": null,
      "outputs": [
        {
          "output_type": "stream",
          "text": [
            "[True, False, False, False]\n"
          ],
          "name": "stdout"
        },
        {
          "output_type": "execute_result",
          "data": {
            "text/plain": [
              "[\"it's an awesome phone From mi, camera clicks awesome extrrem level and battery backup nice 👌👌👌👌👌 if any one thinking to buy this phone, performance is good,it one of the best camera phone in such a price range\"]"
            ]
          },
          "metadata": {
            "tags": []
          },
          "execution_count": 54
        }
      ]
    },
    {
      "cell_type": "code",
      "metadata": {
        "id": "kjPhEEH-jSYJ",
        "colab": {
          "base_uri": "https://localhost:8080/",
          "height": 54
        },
        "outputId": "50bd89b2-9a41-4941-e1bd-0ac64be17b69"
      },
      "source": [
        "sent_list = []\n",
        "for sent in sentence:\n",
        "    if any([k in sent.lower().split() for k in camera]):\n",
        "      sent_req = \n",
        "\n",
        "sent_list"
      ],
      "execution_count": null,
      "outputs": [
        {
          "output_type": "execute_result",
          "data": {
            "text/plain": [
              "[\"it's an awesome phone From mi, camera clicks awesome extrrem level and battery backup nice 👌👌👌👌👌 if any one thinking to buy this phone, performance is good,it one of the best camera phone in such a price range\"]"
            ]
          },
          "metadata": {
            "tags": []
          },
          "execution_count": 59
        }
      ]
    },
    {
      "cell_type": "code",
      "metadata": {
        "id": "E1VGYhTzt3Sr"
      },
      "source": [
        ""
      ],
      "execution_count": null,
      "outputs": []
    }
  ]
}